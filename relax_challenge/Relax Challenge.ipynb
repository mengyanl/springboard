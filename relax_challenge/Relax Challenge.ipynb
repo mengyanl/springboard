{
 "cells": [
  {
   "cell_type": "markdown",
   "id": "7ce3191e",
   "metadata": {},
   "source": [
    "# Relax Challenge"
   ]
  },
  {
   "cell_type": "markdown",
   "id": "3664d7a0",
   "metadata": {},
   "source": [
    "### A user table ( \"takehome_users\" ) with data on 12,000 users who signed up for the product in the last two years. This table includes:\n",
    "<ul>\n",
    "<li>name: the user's name</li>\n",
    "<li>object_id: the user's id</li>\n",
    "<li>email: email address</li>\n",
    "<li>creation_source: how their account was created. This takes on one of 5 values:</li>\n",
    " <ul>\n",
    "    <li> PERSONAL_PROJECTS: invited to join another user's personal workspace</li>\n",
    "    <li> GUEST_INVITE: invited to an organization as a guest (limited permissions)</li>\n",
    "    <li> ORG_INVITE: invited to an organization (as a full member)</li>\n",
    "    <li> SIGNUP: signed up via the website\n",
    "    <li> SIGNUP_GOOGLE_AUTH: signed up using Google Authentication (using a Google email account for their login\n",
    "id)</li>\n",
    "    </ul>\n",
    "<li>creation_time: when they created their account</li>\n",
    "<li>last_session_creation_time: unix timestamp of last login</li>\n",
    "<li>opted_in_to_mailing_list: whether they have opted into receiving marketing emails </li>\n",
    "<li>enabled_for_marketing_drip: whether they are on the regular marketing email drip </li>\n",
    "<li>org_id: the organization (group of users) they belong to </li>\n",
    "<li>invited_by_user_id: which user invited them to join (if applicable)</li>\n",
    "    </ul>\n",
    "    \n",
    "## A usage summary table ( \"takehome_user_engagement\" ) that has a row for each day that a user logged into the product.\n",
    "Defining an \"adopted user\" as a user who has logged into the product on three separate\n",
    "days in at least one sevenday period , identify which factors predict future user adoption. <br>\n",
    "We suggest spending 1 to 2 hours on this, but you're welcome to spend more or less.\n",
    "Please send us a brief writeup of your findings (the more concise, the better no\n",
    "more than one page), along with any summary tables, graphs, code, or queries that can help\n",
    "us understand your approach. Please note any factors you considered or investigation\n",
    "you did, even if they did not pan out. Feel free to identify any further research or data\n",
    "you think would be valuable."
   ]
  },
  {
   "cell_type": "code",
   "execution_count": 1,
   "id": "811c4a57",
   "metadata": {},
   "outputs": [],
   "source": [
    "import pandas as pd\n",
    "import matplotlib.pyplot as plt\n",
    "import numpy as np\n",
    "import seaborn as sns"
   ]
  },
  {
   "cell_type": "code",
   "execution_count": 2,
   "id": "659c1824",
   "metadata": {},
   "outputs": [
    {
     "data": {
      "text/html": [
       "<div>\n",
       "<style scoped>\n",
       "    .dataframe tbody tr th:only-of-type {\n",
       "        vertical-align: middle;\n",
       "    }\n",
       "\n",
       "    .dataframe tbody tr th {\n",
       "        vertical-align: top;\n",
       "    }\n",
       "\n",
       "    .dataframe thead th {\n",
       "        text-align: right;\n",
       "    }\n",
       "</style>\n",
       "<table border=\"1\" class=\"dataframe\">\n",
       "  <thead>\n",
       "    <tr style=\"text-align: right;\">\n",
       "      <th></th>\n",
       "      <th>object_id</th>\n",
       "      <th>creation_time</th>\n",
       "      <th>name</th>\n",
       "      <th>email</th>\n",
       "      <th>creation_source</th>\n",
       "      <th>last_session_creation_time</th>\n",
       "      <th>opted_in_to_mailing_list</th>\n",
       "      <th>enabled_for_marketing_drip</th>\n",
       "      <th>org_id</th>\n",
       "      <th>invited_by_user_id</th>\n",
       "    </tr>\n",
       "  </thead>\n",
       "  <tbody>\n",
       "    <tr>\n",
       "      <th>0</th>\n",
       "      <td>1</td>\n",
       "      <td>2014-04-22 03:53:30</td>\n",
       "      <td>Clausen August</td>\n",
       "      <td>AugustCClausen@yahoo.com</td>\n",
       "      <td>GUEST_INVITE</td>\n",
       "      <td>1.398139e+09</td>\n",
       "      <td>1</td>\n",
       "      <td>0</td>\n",
       "      <td>11</td>\n",
       "      <td>10803.0</td>\n",
       "    </tr>\n",
       "    <tr>\n",
       "      <th>1</th>\n",
       "      <td>2</td>\n",
       "      <td>2013-11-15 03:45:04</td>\n",
       "      <td>Poole Matthew</td>\n",
       "      <td>MatthewPoole@gustr.com</td>\n",
       "      <td>ORG_INVITE</td>\n",
       "      <td>1.396238e+09</td>\n",
       "      <td>0</td>\n",
       "      <td>0</td>\n",
       "      <td>1</td>\n",
       "      <td>316.0</td>\n",
       "    </tr>\n",
       "    <tr>\n",
       "      <th>2</th>\n",
       "      <td>3</td>\n",
       "      <td>2013-03-19 23:14:52</td>\n",
       "      <td>Bottrill Mitchell</td>\n",
       "      <td>MitchellBottrill@gustr.com</td>\n",
       "      <td>ORG_INVITE</td>\n",
       "      <td>1.363735e+09</td>\n",
       "      <td>0</td>\n",
       "      <td>0</td>\n",
       "      <td>94</td>\n",
       "      <td>1525.0</td>\n",
       "    </tr>\n",
       "    <tr>\n",
       "      <th>3</th>\n",
       "      <td>4</td>\n",
       "      <td>2013-05-21 08:09:28</td>\n",
       "      <td>Clausen Nicklas</td>\n",
       "      <td>NicklasSClausen@yahoo.com</td>\n",
       "      <td>GUEST_INVITE</td>\n",
       "      <td>1.369210e+09</td>\n",
       "      <td>0</td>\n",
       "      <td>0</td>\n",
       "      <td>1</td>\n",
       "      <td>5151.0</td>\n",
       "    </tr>\n",
       "    <tr>\n",
       "      <th>4</th>\n",
       "      <td>5</td>\n",
       "      <td>2013-01-17 10:14:20</td>\n",
       "      <td>Raw Grace</td>\n",
       "      <td>GraceRaw@yahoo.com</td>\n",
       "      <td>GUEST_INVITE</td>\n",
       "      <td>1.358850e+09</td>\n",
       "      <td>0</td>\n",
       "      <td>0</td>\n",
       "      <td>193</td>\n",
       "      <td>5240.0</td>\n",
       "    </tr>\n",
       "  </tbody>\n",
       "</table>\n",
       "</div>"
      ],
      "text/plain": [
       "   object_id        creation_time               name  \\\n",
       "0          1  2014-04-22 03:53:30     Clausen August   \n",
       "1          2  2013-11-15 03:45:04      Poole Matthew   \n",
       "2          3  2013-03-19 23:14:52  Bottrill Mitchell   \n",
       "3          4  2013-05-21 08:09:28    Clausen Nicklas   \n",
       "4          5  2013-01-17 10:14:20          Raw Grace   \n",
       "\n",
       "                        email creation_source  last_session_creation_time  \\\n",
       "0    AugustCClausen@yahoo.com    GUEST_INVITE                1.398139e+09   \n",
       "1      MatthewPoole@gustr.com      ORG_INVITE                1.396238e+09   \n",
       "2  MitchellBottrill@gustr.com      ORG_INVITE                1.363735e+09   \n",
       "3   NicklasSClausen@yahoo.com    GUEST_INVITE                1.369210e+09   \n",
       "4          GraceRaw@yahoo.com    GUEST_INVITE                1.358850e+09   \n",
       "\n",
       "   opted_in_to_mailing_list  enabled_for_marketing_drip  org_id  \\\n",
       "0                         1                           0      11   \n",
       "1                         0                           0       1   \n",
       "2                         0                           0      94   \n",
       "3                         0                           0       1   \n",
       "4                         0                           0     193   \n",
       "\n",
       "   invited_by_user_id  \n",
       "0             10803.0  \n",
       "1               316.0  \n",
       "2              1525.0  \n",
       "3              5151.0  \n",
       "4              5240.0  "
      ]
     },
     "execution_count": 2,
     "metadata": {},
     "output_type": "execute_result"
    }
   ],
   "source": [
    "users = pd.read_csv('takehome_users.csv')\n",
    "users.head()"
   ]
  },
  {
   "cell_type": "code",
   "execution_count": 3,
   "id": "7a8e0505",
   "metadata": {},
   "outputs": [
    {
     "name": "stdout",
     "output_type": "stream",
     "text": [
      "<class 'pandas.core.frame.DataFrame'>\n",
      "RangeIndex: 12000 entries, 0 to 11999\n",
      "Data columns (total 10 columns):\n",
      " #   Column                      Non-Null Count  Dtype  \n",
      "---  ------                      --------------  -----  \n",
      " 0   object_id                   12000 non-null  int64  \n",
      " 1   creation_time               12000 non-null  object \n",
      " 2   name                        12000 non-null  object \n",
      " 3   email                       12000 non-null  object \n",
      " 4   creation_source             12000 non-null  object \n",
      " 5   last_session_creation_time  8823 non-null   float64\n",
      " 6   opted_in_to_mailing_list    12000 non-null  int64  \n",
      " 7   enabled_for_marketing_drip  12000 non-null  int64  \n",
      " 8   org_id                      12000 non-null  int64  \n",
      " 9   invited_by_user_id          6417 non-null   float64\n",
      "dtypes: float64(2), int64(4), object(4)\n",
      "memory usage: 937.6+ KB\n"
     ]
    }
   ],
   "source": [
    "users.info()"
   ]
  },
  {
   "cell_type": "markdown",
   "id": "e45a200d",
   "metadata": {},
   "source": [
    "## Step1. Check \"adoption\""
   ]
  },
  {
   "cell_type": "code",
   "execution_count": 5,
   "id": "16e5d094",
   "metadata": {},
   "outputs": [
    {
     "data": {
      "text/html": [
       "<div>\n",
       "<style scoped>\n",
       "    .dataframe tbody tr th:only-of-type {\n",
       "        vertical-align: middle;\n",
       "    }\n",
       "\n",
       "    .dataframe tbody tr th {\n",
       "        vertical-align: top;\n",
       "    }\n",
       "\n",
       "    .dataframe thead th {\n",
       "        text-align: right;\n",
       "    }\n",
       "</style>\n",
       "<table border=\"1\" class=\"dataframe\">\n",
       "  <thead>\n",
       "    <tr style=\"text-align: right;\">\n",
       "      <th></th>\n",
       "      <th>user_id</th>\n",
       "      <th>visited</th>\n",
       "    </tr>\n",
       "    <tr>\n",
       "      <th>time_stamp</th>\n",
       "      <th></th>\n",
       "      <th></th>\n",
       "    </tr>\n",
       "  </thead>\n",
       "  <tbody>\n",
       "    <tr>\n",
       "      <th>2014-04-22 03:53:30</th>\n",
       "      <td>1</td>\n",
       "      <td>1</td>\n",
       "    </tr>\n",
       "    <tr>\n",
       "      <th>2013-11-15 03:45:04</th>\n",
       "      <td>2</td>\n",
       "      <td>1</td>\n",
       "    </tr>\n",
       "    <tr>\n",
       "      <th>2013-11-29 03:45:04</th>\n",
       "      <td>2</td>\n",
       "      <td>1</td>\n",
       "    </tr>\n",
       "    <tr>\n",
       "      <th>2013-12-09 03:45:04</th>\n",
       "      <td>2</td>\n",
       "      <td>1</td>\n",
       "    </tr>\n",
       "    <tr>\n",
       "      <th>2013-12-25 03:45:04</th>\n",
       "      <td>2</td>\n",
       "      <td>1</td>\n",
       "    </tr>\n",
       "  </tbody>\n",
       "</table>\n",
       "</div>"
      ],
      "text/plain": [
       "                     user_id  visited\n",
       "time_stamp                           \n",
       "2014-04-22 03:53:30        1        1\n",
       "2013-11-15 03:45:04        2        1\n",
       "2013-11-29 03:45:04        2        1\n",
       "2013-12-09 03:45:04        2        1\n",
       "2013-12-25 03:45:04        2        1"
      ]
     },
     "execution_count": 5,
     "metadata": {},
     "output_type": "execute_result"
    }
   ],
   "source": [
    "login = pd.read_csv('takehome_user_engagement.csv', index_col = 0)\n",
    "login.head()"
   ]
  },
  {
   "cell_type": "code",
   "execution_count": 6,
   "id": "6ee24693",
   "metadata": {},
   "outputs": [
    {
     "name": "stdout",
     "output_type": "stream",
     "text": [
      "<class 'pandas.core.frame.DataFrame'>\n",
      "Index: 207917 entries, 2014-04-22 03:53:30 to 2014-01-26 08:57:12\n",
      "Data columns (total 2 columns):\n",
      " #   Column   Non-Null Count   Dtype\n",
      "---  ------   --------------   -----\n",
      " 0   user_id  207917 non-null  int64\n",
      " 1   visited  207917 non-null  int64\n",
      "dtypes: int64(2)\n",
      "memory usage: 4.8+ MB\n"
     ]
    }
   ],
   "source": [
    "login.info()"
   ]
  },
  {
   "cell_type": "code",
   "execution_count": 7,
   "id": "601451c6",
   "metadata": {},
   "outputs": [
    {
     "data": {
      "text/plain": [
       "(8823,)"
      ]
     },
     "execution_count": 7,
     "metadata": {},
     "output_type": "execute_result"
    }
   ],
   "source": [
    "np.unique(login['user_id']).shape"
   ]
  },
  {
   "cell_type": "code",
   "execution_count": 8,
   "id": "a8624eca",
   "metadata": {},
   "outputs": [
    {
     "data": {
      "text/plain": [
       "array([1])"
      ]
     },
     "execution_count": 8,
     "metadata": {},
     "output_type": "execute_result"
    }
   ],
   "source": [
    "np.unique(login['visited'])"
   ]
  },
  {
   "cell_type": "code",
   "execution_count": 9,
   "id": "ab38b707",
   "metadata": {},
   "outputs": [
    {
     "data": {
      "text/html": [
       "<div>\n",
       "<style scoped>\n",
       "    .dataframe tbody tr th:only-of-type {\n",
       "        vertical-align: middle;\n",
       "    }\n",
       "\n",
       "    .dataframe tbody tr th {\n",
       "        vertical-align: top;\n",
       "    }\n",
       "\n",
       "    .dataframe thead th {\n",
       "        text-align: right;\n",
       "    }\n",
       "</style>\n",
       "<table border=\"1\" class=\"dataframe\">\n",
       "  <thead>\n",
       "    <tr style=\"text-align: right;\">\n",
       "      <th></th>\n",
       "      <th>user_id</th>\n",
       "      <th>visited</th>\n",
       "      <th>date</th>\n",
       "    </tr>\n",
       "    <tr>\n",
       "      <th>time_stamp</th>\n",
       "      <th></th>\n",
       "      <th></th>\n",
       "      <th></th>\n",
       "    </tr>\n",
       "  </thead>\n",
       "  <tbody>\n",
       "    <tr>\n",
       "      <th>2013-09-06 06:14:15</th>\n",
       "      <td>11996</td>\n",
       "      <td>1</td>\n",
       "      <td>2013-09-06</td>\n",
       "    </tr>\n",
       "    <tr>\n",
       "      <th>2013-01-15 18:28:37</th>\n",
       "      <td>11997</td>\n",
       "      <td>1</td>\n",
       "      <td>2013-01-15</td>\n",
       "    </tr>\n",
       "    <tr>\n",
       "      <th>2014-04-27 12:45:16</th>\n",
       "      <td>11998</td>\n",
       "      <td>1</td>\n",
       "      <td>2014-04-27</td>\n",
       "    </tr>\n",
       "    <tr>\n",
       "      <th>2012-06-02 11:55:59</th>\n",
       "      <td>11999</td>\n",
       "      <td>1</td>\n",
       "      <td>2012-06-02</td>\n",
       "    </tr>\n",
       "    <tr>\n",
       "      <th>2014-01-26 08:57:12</th>\n",
       "      <td>12000</td>\n",
       "      <td>1</td>\n",
       "      <td>2014-01-26</td>\n",
       "    </tr>\n",
       "  </tbody>\n",
       "</table>\n",
       "</div>"
      ],
      "text/plain": [
       "                     user_id  visited        date\n",
       "time_stamp                                       \n",
       "2013-09-06 06:14:15    11996        1  2013-09-06\n",
       "2013-01-15 18:28:37    11997        1  2013-01-15\n",
       "2014-04-27 12:45:16    11998        1  2014-04-27\n",
       "2012-06-02 11:55:59    11999        1  2012-06-02\n",
       "2014-01-26 08:57:12    12000        1  2014-01-26"
      ]
     },
     "execution_count": 9,
     "metadata": {},
     "output_type": "execute_result"
    }
   ],
   "source": [
    "from datetime import datetime, date\n",
    "\n",
    "login.index = pd.to_datetime(login.index.astype(str))\n",
    "\n",
    "bydate = []\n",
    "for m in range(len(login.index)):\n",
    "    bydate.append(login.index[m].date())\n",
    "login['date'] = bydate\n",
    "login.tail()"
   ]
  },
  {
   "cell_type": "code",
   "execution_count": 10,
   "id": "dd9efb61",
   "metadata": {},
   "outputs": [],
   "source": [
    "def adopt(df):\n",
    "    sorted_data = df.sort_index()\n",
    "    for i in range(len(sorted_data)):\n",
    "        count = 1\n",
    "        for j in range(i,len(sorted_data)):\n",
    "            if (sorted_data.date[j] - sorted_data.date[i]).days < 7:\n",
    "                count += 1\n",
    "                j += 1\n",
    "            else: i += 1\n",
    "        if count >=3:\n",
    "            return 'True'\n",
    "            break\n",
    "    else:\n",
    "        return 'False'"
   ]
  },
  {
   "cell_type": "code",
   "execution_count": 11,
   "id": "70e68d10",
   "metadata": {},
   "outputs": [
    {
     "name": "stdout",
     "output_type": "stream",
     "text": [
      "   object_id  adopt\n",
      "0          1  False\n",
      "1          2   True\n",
      "2          3  False\n",
      "3          4  False\n",
      "4          5  False\n"
     ]
    }
   ],
   "source": [
    "adopt_check = []\n",
    "adopt_num = []\n",
    "for num in np.unique(login['user_id']):\n",
    "    df = login[login['user_id'] == num]\n",
    "    adopt_num.append(num)\n",
    "    adopt_check.append(adopt(df))\n",
    "adopted = pd.DataFrame(zip(adopt_num, adopt_check), columns = ['object_id', 'adopt'])\n",
    "print(adopted.head())\n",
    "\n",
    "# This step is not nessicessory: the rows are for seperate days.\n",
    "# sorted_data.index = pd.to_datetime(sorted_data.index.astype(str))\n",
    "# result = sorted_data.resample('D').count()\n",
    "# result.head()"
   ]
  },
  {
   "cell_type": "code",
   "execution_count": 12,
   "id": "1a5b878a",
   "metadata": {},
   "outputs": [
    {
     "data": {
      "text/plain": [
       "(array(['False', 'True'], dtype=object), array([6639, 2184]))"
      ]
     },
     "execution_count": 12,
     "metadata": {},
     "output_type": "execute_result"
    }
   ],
   "source": [
    "np.unique(adopted['adopt'], return_counts = True)"
   ]
  },
  {
   "cell_type": "code",
   "execution_count": 178,
   "id": "80e27a5e",
   "metadata": {},
   "outputs": [
    {
     "data": {
      "image/png": "[encoded data removed]",
      "text/plain": [
       "<Figure size 432x288 with 1 Axes>"
      ]
     },
     "metadata": {
      "needs_background": "light"
     },
     "output_type": "display_data"
    }
   ],
   "source": [
    "sns.histplot(x= adopted['adopt'], stat = 'density', shrink = 0.5, common_norm=False)\n",
    "plt.show()"
   ]
  },
  {
   "cell_type": "markdown",
   "id": "cc4c8312",
   "metadata": {},
   "source": [
    "## Step2. Join two tables and cleaning"
   ]
  },
  {
   "cell_type": "code",
   "execution_count": 130,
   "id": "0742a84f",
   "metadata": {},
   "outputs": [
    {
     "data": {
      "text/html": [
       "<div>\n",
       "<style scoped>\n",
       "    .dataframe tbody tr th:only-of-type {\n",
       "        vertical-align: middle;\n",
       "    }\n",
       "\n",
       "    .dataframe tbody tr th {\n",
       "        vertical-align: top;\n",
       "    }\n",
       "\n",
       "    .dataframe thead th {\n",
       "        text-align: right;\n",
       "    }\n",
       "</style>\n",
       "<table border=\"1\" class=\"dataframe\">\n",
       "  <thead>\n",
       "    <tr style=\"text-align: right;\">\n",
       "      <th></th>\n",
       "      <th>object_id</th>\n",
       "      <th>object_id_login</th>\n",
       "      <th>adopt</th>\n",
       "      <th>object_id_info</th>\n",
       "      <th>creation_time</th>\n",
       "      <th>name</th>\n",
       "      <th>email</th>\n",
       "      <th>creation_source</th>\n",
       "      <th>last_session_creation_time</th>\n",
       "      <th>opted_in_to_mailing_list</th>\n",
       "      <th>enabled_for_marketing_drip</th>\n",
       "      <th>org_id</th>\n",
       "      <th>invited_by_user_id</th>\n",
       "    </tr>\n",
       "  </thead>\n",
       "  <tbody>\n",
       "    <tr>\n",
       "      <th>0</th>\n",
       "      <td>1</td>\n",
       "      <td>1</td>\n",
       "      <td>False</td>\n",
       "      <td>2.0</td>\n",
       "      <td>2013-11-15 03:45:04</td>\n",
       "      <td>Poole Matthew</td>\n",
       "      <td>MatthewPoole@gustr.com</td>\n",
       "      <td>ORG_INVITE</td>\n",
       "      <td>1.396238e+09</td>\n",
       "      <td>0.0</td>\n",
       "      <td>0.0</td>\n",
       "      <td>1.0</td>\n",
       "      <td>316.0</td>\n",
       "    </tr>\n",
       "    <tr>\n",
       "      <th>1</th>\n",
       "      <td>2</td>\n",
       "      <td>2</td>\n",
       "      <td>True</td>\n",
       "      <td>3.0</td>\n",
       "      <td>2013-03-19 23:14:52</td>\n",
       "      <td>Bottrill Mitchell</td>\n",
       "      <td>MitchellBottrill@gustr.com</td>\n",
       "      <td>ORG_INVITE</td>\n",
       "      <td>1.363735e+09</td>\n",
       "      <td>0.0</td>\n",
       "      <td>0.0</td>\n",
       "      <td>94.0</td>\n",
       "      <td>1525.0</td>\n",
       "    </tr>\n",
       "    <tr>\n",
       "      <th>2</th>\n",
       "      <td>3</td>\n",
       "      <td>3</td>\n",
       "      <td>False</td>\n",
       "      <td>4.0</td>\n",
       "      <td>2013-05-21 08:09:28</td>\n",
       "      <td>Clausen Nicklas</td>\n",
       "      <td>NicklasSClausen@yahoo.com</td>\n",
       "      <td>GUEST_INVITE</td>\n",
       "      <td>1.369210e+09</td>\n",
       "      <td>0.0</td>\n",
       "      <td>0.0</td>\n",
       "      <td>1.0</td>\n",
       "      <td>5151.0</td>\n",
       "    </tr>\n",
       "    <tr>\n",
       "      <th>3</th>\n",
       "      <td>4</td>\n",
       "      <td>4</td>\n",
       "      <td>False</td>\n",
       "      <td>5.0</td>\n",
       "      <td>2013-01-17 10:14:20</td>\n",
       "      <td>Raw Grace</td>\n",
       "      <td>GraceRaw@yahoo.com</td>\n",
       "      <td>GUEST_INVITE</td>\n",
       "      <td>1.358850e+09</td>\n",
       "      <td>0.0</td>\n",
       "      <td>0.0</td>\n",
       "      <td>193.0</td>\n",
       "      <td>5240.0</td>\n",
       "    </tr>\n",
       "    <tr>\n",
       "      <th>4</th>\n",
       "      <td>5</td>\n",
       "      <td>5</td>\n",
       "      <td>False</td>\n",
       "      <td>6.0</td>\n",
       "      <td>2013-12-17 03:37:06</td>\n",
       "      <td>Cunha Eduardo</td>\n",
       "      <td>EduardoPereiraCunha@yahoo.com</td>\n",
       "      <td>GUEST_INVITE</td>\n",
       "      <td>1.387424e+09</td>\n",
       "      <td>0.0</td>\n",
       "      <td>0.0</td>\n",
       "      <td>197.0</td>\n",
       "      <td>11241.0</td>\n",
       "    </tr>\n",
       "  </tbody>\n",
       "</table>\n",
       "</div>"
      ],
      "text/plain": [
       "   object_id  object_id_login  adopt  object_id_info        creation_time  \\\n",
       "0          1                1  False             2.0  2013-11-15 03:45:04   \n",
       "1          2                2   True             3.0  2013-03-19 23:14:52   \n",
       "2          3                3  False             4.0  2013-05-21 08:09:28   \n",
       "3          4                4  False             5.0  2013-01-17 10:14:20   \n",
       "4          5                5  False             6.0  2013-12-17 03:37:06   \n",
       "\n",
       "                name                          email creation_source  \\\n",
       "0      Poole Matthew         MatthewPoole@gustr.com      ORG_INVITE   \n",
       "1  Bottrill Mitchell     MitchellBottrill@gustr.com      ORG_INVITE   \n",
       "2    Clausen Nicklas      NicklasSClausen@yahoo.com    GUEST_INVITE   \n",
       "3          Raw Grace             GraceRaw@yahoo.com    GUEST_INVITE   \n",
       "4      Cunha Eduardo  EduardoPereiraCunha@yahoo.com    GUEST_INVITE   \n",
       "\n",
       "   last_session_creation_time  opted_in_to_mailing_list  \\\n",
       "0                1.396238e+09                       0.0   \n",
       "1                1.363735e+09                       0.0   \n",
       "2                1.369210e+09                       0.0   \n",
       "3                1.358850e+09                       0.0   \n",
       "4                1.387424e+09                       0.0   \n",
       "\n",
       "   enabled_for_marketing_drip  org_id  invited_by_user_id  \n",
       "0                         0.0     1.0               316.0  \n",
       "1                         0.0    94.0              1525.0  \n",
       "2                         0.0     1.0              5151.0  \n",
       "3                         0.0   193.0              5240.0  \n",
       "4                         0.0   197.0             11241.0  "
      ]
     },
     "execution_count": 130,
     "metadata": {},
     "output_type": "execute_result"
    }
   ],
   "source": [
    "joined = adopted.join(users, on='object_id', how='left', lsuffix='_login', rsuffix='_info', sort=True)\n",
    "joined.head()"
   ]
  },
  {
   "cell_type": "code",
   "execution_count": 131,
   "id": "f6447e11",
   "metadata": {},
   "outputs": [
    {
     "name": "stdout",
     "output_type": "stream",
     "text": [
      "<class 'pandas.core.frame.DataFrame'>\n",
      "Int64Index: 8823 entries, 0 to 8822\n",
      "Data columns (total 13 columns):\n",
      " #   Column                      Non-Null Count  Dtype  \n",
      "---  ------                      --------------  -----  \n",
      " 0   object_id                   8823 non-null   int64  \n",
      " 1   object_id_login             8823 non-null   int64  \n",
      " 2   adopt                       8823 non-null   object \n",
      " 3   object_id_info              8822 non-null   float64\n",
      " 4   creation_time               8822 non-null   object \n",
      " 5   name                        8822 non-null   object \n",
      " 6   email                       8822 non-null   object \n",
      " 7   creation_source             8822 non-null   object \n",
      " 8   last_session_creation_time  6473 non-null   float64\n",
      " 9   opted_in_to_mailing_list    8822 non-null   float64\n",
      " 10  enabled_for_marketing_drip  8822 non-null   float64\n",
      " 11  org_id                      8822 non-null   float64\n",
      " 12  invited_by_user_id          4714 non-null   float64\n",
      "dtypes: float64(6), int64(2), object(5)\n",
      "memory usage: 965.0+ KB\n"
     ]
    }
   ],
   "source": [
    "joined.info()"
   ]
  },
  {
   "cell_type": "code",
   "execution_count": 132,
   "id": "58c4369d",
   "metadata": {},
   "outputs": [
    {
     "data": {
      "text/html": [
       "<div>\n",
       "<style scoped>\n",
       "    .dataframe tbody tr th:only-of-type {\n",
       "        vertical-align: middle;\n",
       "    }\n",
       "\n",
       "    .dataframe tbody tr th {\n",
       "        vertical-align: top;\n",
       "    }\n",
       "\n",
       "    .dataframe thead th {\n",
       "        text-align: right;\n",
       "    }\n",
       "</style>\n",
       "<table border=\"1\" class=\"dataframe\">\n",
       "  <thead>\n",
       "    <tr style=\"text-align: right;\">\n",
       "      <th></th>\n",
       "      <th>object_id</th>\n",
       "      <th>object_id_login</th>\n",
       "      <th>object_id_info</th>\n",
       "      <th>last_session_creation_time</th>\n",
       "      <th>opted_in_to_mailing_list</th>\n",
       "      <th>enabled_for_marketing_drip</th>\n",
       "      <th>org_id</th>\n",
       "      <th>invited_by_user_id</th>\n",
       "    </tr>\n",
       "  </thead>\n",
       "  <tbody>\n",
       "    <tr>\n",
       "      <th>count</th>\n",
       "      <td>8823.000000</td>\n",
       "      <td>8823.000000</td>\n",
       "      <td>8822.000000</td>\n",
       "      <td>6.473000e+03</td>\n",
       "      <td>8822.000000</td>\n",
       "      <td>8822.000000</td>\n",
       "      <td>8822.000000</td>\n",
       "      <td>4714.000000</td>\n",
       "    </tr>\n",
       "    <tr>\n",
       "      <th>mean</th>\n",
       "      <td>6019.821716</td>\n",
       "      <td>6019.821716</td>\n",
       "      <td>6020.143845</td>\n",
       "      <td>1.379332e+09</td>\n",
       "      <td>0.248243</td>\n",
       "      <td>0.147359</td>\n",
       "      <td>141.544208</td>\n",
       "      <td>5963.086126</td>\n",
       "    </tr>\n",
       "    <tr>\n",
       "      <th>std</th>\n",
       "      <td>3464.251001</td>\n",
       "      <td>3464.251001</td>\n",
       "      <td>3463.862122</td>\n",
       "      <td>1.951044e+07</td>\n",
       "      <td>0.432018</td>\n",
       "      <td>0.354483</td>\n",
       "      <td>124.174288</td>\n",
       "      <td>3401.072698</td>\n",
       "    </tr>\n",
       "    <tr>\n",
       "      <th>min</th>\n",
       "      <td>1.000000</td>\n",
       "      <td>1.000000</td>\n",
       "      <td>2.000000</td>\n",
       "      <td>1.338452e+09</td>\n",
       "      <td>0.000000</td>\n",
       "      <td>0.000000</td>\n",
       "      <td>0.000000</td>\n",
       "      <td>3.000000</td>\n",
       "    </tr>\n",
       "    <tr>\n",
       "      <th>25%</th>\n",
       "      <td>3017.500000</td>\n",
       "      <td>3017.500000</td>\n",
       "      <td>3018.250000</td>\n",
       "      <td>1.363236e+09</td>\n",
       "      <td>0.000000</td>\n",
       "      <td>0.000000</td>\n",
       "      <td>29.000000</td>\n",
       "      <td>3043.750000</td>\n",
       "    </tr>\n",
       "    <tr>\n",
       "      <th>50%</th>\n",
       "      <td>6034.000000</td>\n",
       "      <td>6034.000000</td>\n",
       "      <td>6034.500000</td>\n",
       "      <td>1.382839e+09</td>\n",
       "      <td>0.000000</td>\n",
       "      <td>0.000000</td>\n",
       "      <td>107.000000</td>\n",
       "      <td>5958.500000</td>\n",
       "    </tr>\n",
       "    <tr>\n",
       "      <th>75%</th>\n",
       "      <td>9029.500000</td>\n",
       "      <td>9029.500000</td>\n",
       "      <td>9029.250000</td>\n",
       "      <td>1.398484e+09</td>\n",
       "      <td>0.000000</td>\n",
       "      <td>0.000000</td>\n",
       "      <td>238.000000</td>\n",
       "      <td>8857.750000</td>\n",
       "    </tr>\n",
       "    <tr>\n",
       "      <th>max</th>\n",
       "      <td>12000.000000</td>\n",
       "      <td>12000.000000</td>\n",
       "      <td>12000.000000</td>\n",
       "      <td>1.402067e+09</td>\n",
       "      <td>1.000000</td>\n",
       "      <td>1.000000</td>\n",
       "      <td>416.000000</td>\n",
       "      <td>11999.000000</td>\n",
       "    </tr>\n",
       "  </tbody>\n",
       "</table>\n",
       "</div>"
      ],
      "text/plain": [
       "          object_id  object_id_login  object_id_info  \\\n",
       "count   8823.000000      8823.000000     8822.000000   \n",
       "mean    6019.821716      6019.821716     6020.143845   \n",
       "std     3464.251001      3464.251001     3463.862122   \n",
       "min        1.000000         1.000000        2.000000   \n",
       "25%     3017.500000      3017.500000     3018.250000   \n",
       "50%     6034.000000      6034.000000     6034.500000   \n",
       "75%     9029.500000      9029.500000     9029.250000   \n",
       "max    12000.000000     12000.000000    12000.000000   \n",
       "\n",
       "       last_session_creation_time  opted_in_to_mailing_list  \\\n",
       "count                6.473000e+03               8822.000000   \n",
       "mean                 1.379332e+09                  0.248243   \n",
       "std                  1.951044e+07                  0.432018   \n",
       "min                  1.338452e+09                  0.000000   \n",
       "25%                  1.363236e+09                  0.000000   \n",
       "50%                  1.382839e+09                  0.000000   \n",
       "75%                  1.398484e+09                  0.000000   \n",
       "max                  1.402067e+09                  1.000000   \n",
       "\n",
       "       enabled_for_marketing_drip       org_id  invited_by_user_id  \n",
       "count                 8822.000000  8822.000000         4714.000000  \n",
       "mean                     0.147359   141.544208         5963.086126  \n",
       "std                      0.354483   124.174288         3401.072698  \n",
       "min                      0.000000     0.000000            3.000000  \n",
       "25%                      0.000000    29.000000         3043.750000  \n",
       "50%                      0.000000   107.000000         5958.500000  \n",
       "75%                      0.000000   238.000000         8857.750000  \n",
       "max                      1.000000   416.000000        11999.000000  "
      ]
     },
     "execution_count": 132,
     "metadata": {},
     "output_type": "execute_result"
    }
   ],
   "source": [
    "joined.describe()"
   ]
  },
  {
   "cell_type": "markdown",
   "id": "fa9459a5",
   "metadata": {},
   "source": [
    "### 2.1. Drop rows and columns"
   ]
  },
  {
   "cell_type": "code",
   "execution_count": 133,
   "id": "4a3898d3",
   "metadata": {},
   "outputs": [
    {
     "data": {
      "text/plain": [
       "0       False\n",
       "1       False\n",
       "2       False\n",
       "3       False\n",
       "4       False\n",
       "        ...  \n",
       "8818    False\n",
       "8819    False\n",
       "8820    False\n",
       "8821    False\n",
       "8822     True\n",
       "Name: object_id_info, Length: 8823, dtype: bool"
      ]
     },
     "execution_count": 133,
     "metadata": {},
     "output_type": "execute_result"
    }
   ],
   "source": [
    "joined.object_id_info.isna()"
   ]
  },
  {
   "cell_type": "code",
   "execution_count": 134,
   "id": "4f24832b",
   "metadata": {},
   "outputs": [],
   "source": [
    "joined.drop(index = 8822, inplace = True)"
   ]
  },
  {
   "cell_type": "code",
   "execution_count": 135,
   "id": "9f9cd4bb",
   "metadata": {},
   "outputs": [],
   "source": [
    "joined.set_index(joined.object_id, inplace = True)"
   ]
  },
  {
   "cell_type": "code",
   "execution_count": 136,
   "id": "477ad5b1",
   "metadata": {},
   "outputs": [
    {
     "data": {
      "text/html": [
       "<div>\n",
       "<style scoped>\n",
       "    .dataframe tbody tr th:only-of-type {\n",
       "        vertical-align: middle;\n",
       "    }\n",
       "\n",
       "    .dataframe tbody tr th {\n",
       "        vertical-align: top;\n",
       "    }\n",
       "\n",
       "    .dataframe thead th {\n",
       "        text-align: right;\n",
       "    }\n",
       "</style>\n",
       "<table border=\"1\" class=\"dataframe\">\n",
       "  <thead>\n",
       "    <tr style=\"text-align: right;\">\n",
       "      <th></th>\n",
       "      <th>object_id</th>\n",
       "      <th>object_id_login</th>\n",
       "      <th>adopt</th>\n",
       "      <th>object_id_info</th>\n",
       "      <th>creation_time</th>\n",
       "      <th>name</th>\n",
       "      <th>email</th>\n",
       "      <th>creation_source</th>\n",
       "      <th>last_session_creation_time</th>\n",
       "      <th>opted_in_to_mailing_list</th>\n",
       "      <th>enabled_for_marketing_drip</th>\n",
       "      <th>org_id</th>\n",
       "      <th>invited_by_user_id</th>\n",
       "    </tr>\n",
       "    <tr>\n",
       "      <th>object_id</th>\n",
       "      <th></th>\n",
       "      <th></th>\n",
       "      <th></th>\n",
       "      <th></th>\n",
       "      <th></th>\n",
       "      <th></th>\n",
       "      <th></th>\n",
       "      <th></th>\n",
       "      <th></th>\n",
       "      <th></th>\n",
       "      <th></th>\n",
       "      <th></th>\n",
       "      <th></th>\n",
       "    </tr>\n",
       "  </thead>\n",
       "  <tbody>\n",
       "    <tr>\n",
       "      <th>11995</th>\n",
       "      <td>11995</td>\n",
       "      <td>11995</td>\n",
       "      <td>False</td>\n",
       "      <td>11996.0</td>\n",
       "      <td>2013-09-06 06:14:15</td>\n",
       "      <td>Meier Sophia</td>\n",
       "      <td>SophiaMeier@gustr.com</td>\n",
       "      <td>ORG_INVITE</td>\n",
       "      <td>1.378448e+09</td>\n",
       "      <td>0.0</td>\n",
       "      <td>0.0</td>\n",
       "      <td>89.0</td>\n",
       "      <td>8263.0</td>\n",
       "    </tr>\n",
       "    <tr>\n",
       "      <th>11996</th>\n",
       "      <td>11996</td>\n",
       "      <td>11996</td>\n",
       "      <td>False</td>\n",
       "      <td>11997.0</td>\n",
       "      <td>2013-01-10 18:28:37</td>\n",
       "      <td>Fisher Amelie</td>\n",
       "      <td>AmelieFisher@gmail.com</td>\n",
       "      <td>SIGNUP_GOOGLE_AUTH</td>\n",
       "      <td>1.358275e+09</td>\n",
       "      <td>0.0</td>\n",
       "      <td>0.0</td>\n",
       "      <td>200.0</td>\n",
       "      <td>NaN</td>\n",
       "    </tr>\n",
       "    <tr>\n",
       "      <th>11997</th>\n",
       "      <td>11997</td>\n",
       "      <td>11997</td>\n",
       "      <td>False</td>\n",
       "      <td>11998.0</td>\n",
       "      <td>2014-04-27 12:45:16</td>\n",
       "      <td>Haynes Jake</td>\n",
       "      <td>JakeHaynes@cuvox.de</td>\n",
       "      <td>GUEST_INVITE</td>\n",
       "      <td>1.398603e+09</td>\n",
       "      <td>1.0</td>\n",
       "      <td>1.0</td>\n",
       "      <td>83.0</td>\n",
       "      <td>8074.0</td>\n",
       "    </tr>\n",
       "    <tr>\n",
       "      <th>11998</th>\n",
       "      <td>11998</td>\n",
       "      <td>11998</td>\n",
       "      <td>False</td>\n",
       "      <td>11999.0</td>\n",
       "      <td>2012-05-31 11:55:59</td>\n",
       "      <td>Faber Annett</td>\n",
       "      <td>mhaerzxp@iuxiw.com</td>\n",
       "      <td>PERSONAL_PROJECTS</td>\n",
       "      <td>1.338638e+09</td>\n",
       "      <td>0.0</td>\n",
       "      <td>0.0</td>\n",
       "      <td>6.0</td>\n",
       "      <td>NaN</td>\n",
       "    </tr>\n",
       "    <tr>\n",
       "      <th>11999</th>\n",
       "      <td>11999</td>\n",
       "      <td>11999</td>\n",
       "      <td>False</td>\n",
       "      <td>12000.0</td>\n",
       "      <td>2014-01-26 08:57:12</td>\n",
       "      <td>Lima Tha�s</td>\n",
       "      <td>ThaisMeloLima@hotmail.com</td>\n",
       "      <td>SIGNUP</td>\n",
       "      <td>1.390727e+09</td>\n",
       "      <td>0.0</td>\n",
       "      <td>1.0</td>\n",
       "      <td>0.0</td>\n",
       "      <td>NaN</td>\n",
       "    </tr>\n",
       "  </tbody>\n",
       "</table>\n",
       "</div>"
      ],
      "text/plain": [
       "           object_id  object_id_login  adopt  object_id_info  \\\n",
       "object_id                                                      \n",
       "11995          11995            11995  False         11996.0   \n",
       "11996          11996            11996  False         11997.0   \n",
       "11997          11997            11997  False         11998.0   \n",
       "11998          11998            11998  False         11999.0   \n",
       "11999          11999            11999  False         12000.0   \n",
       "\n",
       "                 creation_time           name                      email  \\\n",
       "object_id                                                                  \n",
       "11995      2013-09-06 06:14:15   Meier Sophia      SophiaMeier@gustr.com   \n",
       "11996      2013-01-10 18:28:37  Fisher Amelie     AmelieFisher@gmail.com   \n",
       "11997      2014-04-27 12:45:16    Haynes Jake        JakeHaynes@cuvox.de   \n",
       "11998      2012-05-31 11:55:59   Faber Annett         mhaerzxp@iuxiw.com   \n",
       "11999      2014-01-26 08:57:12     Lima Tha�s  ThaisMeloLima@hotmail.com   \n",
       "\n",
       "              creation_source  last_session_creation_time  \\\n",
       "object_id                                                   \n",
       "11995              ORG_INVITE                1.378448e+09   \n",
       "11996      SIGNUP_GOOGLE_AUTH                1.358275e+09   \n",
       "11997            GUEST_INVITE                1.398603e+09   \n",
       "11998       PERSONAL_PROJECTS                1.338638e+09   \n",
       "11999                  SIGNUP                1.390727e+09   \n",
       "\n",
       "           opted_in_to_mailing_list  enabled_for_marketing_drip  org_id  \\\n",
       "object_id                                                                 \n",
       "11995                           0.0                         0.0    89.0   \n",
       "11996                           0.0                         0.0   200.0   \n",
       "11997                           1.0                         1.0    83.0   \n",
       "11998                           0.0                         0.0     6.0   \n",
       "11999                           0.0                         1.0     0.0   \n",
       "\n",
       "           invited_by_user_id  \n",
       "object_id                      \n",
       "11995                  8263.0  \n",
       "11996                     NaN  \n",
       "11997                  8074.0  \n",
       "11998                     NaN  \n",
       "11999                     NaN  "
      ]
     },
     "execution_count": 136,
     "metadata": {},
     "output_type": "execute_result"
    }
   ],
   "source": [
    "joined.tail()"
   ]
  },
  {
   "cell_type": "code",
   "execution_count": 137,
   "id": "7dd60e1d",
   "metadata": {},
   "outputs": [
    {
     "data": {
      "text/html": [
       "<div>\n",
       "<style scoped>\n",
       "    .dataframe tbody tr th:only-of-type {\n",
       "        vertical-align: middle;\n",
       "    }\n",
       "\n",
       "    .dataframe tbody tr th {\n",
       "        vertical-align: top;\n",
       "    }\n",
       "\n",
       "    .dataframe thead th {\n",
       "        text-align: right;\n",
       "    }\n",
       "</style>\n",
       "<table border=\"1\" class=\"dataframe\">\n",
       "  <thead>\n",
       "    <tr style=\"text-align: right;\">\n",
       "      <th></th>\n",
       "      <th>adopt</th>\n",
       "      <th>creation_time</th>\n",
       "      <th>creation_source</th>\n",
       "      <th>last_session_creation_time</th>\n",
       "      <th>opted_in_to_mailing_list</th>\n",
       "      <th>enabled_for_marketing_drip</th>\n",
       "      <th>org_id</th>\n",
       "      <th>invited_by_user_id</th>\n",
       "    </tr>\n",
       "    <tr>\n",
       "      <th>object_id</th>\n",
       "      <th></th>\n",
       "      <th></th>\n",
       "      <th></th>\n",
       "      <th></th>\n",
       "      <th></th>\n",
       "      <th></th>\n",
       "      <th></th>\n",
       "      <th></th>\n",
       "    </tr>\n",
       "  </thead>\n",
       "  <tbody>\n",
       "    <tr>\n",
       "      <th>1</th>\n",
       "      <td>False</td>\n",
       "      <td>2013-11-15 03:45:04</td>\n",
       "      <td>ORG_INVITE</td>\n",
       "      <td>1.396238e+09</td>\n",
       "      <td>0.0</td>\n",
       "      <td>0.0</td>\n",
       "      <td>1.0</td>\n",
       "      <td>316.0</td>\n",
       "    </tr>\n",
       "    <tr>\n",
       "      <th>2</th>\n",
       "      <td>True</td>\n",
       "      <td>2013-03-19 23:14:52</td>\n",
       "      <td>ORG_INVITE</td>\n",
       "      <td>1.363735e+09</td>\n",
       "      <td>0.0</td>\n",
       "      <td>0.0</td>\n",
       "      <td>94.0</td>\n",
       "      <td>1525.0</td>\n",
       "    </tr>\n",
       "    <tr>\n",
       "      <th>3</th>\n",
       "      <td>False</td>\n",
       "      <td>2013-05-21 08:09:28</td>\n",
       "      <td>GUEST_INVITE</td>\n",
       "      <td>1.369210e+09</td>\n",
       "      <td>0.0</td>\n",
       "      <td>0.0</td>\n",
       "      <td>1.0</td>\n",
       "      <td>5151.0</td>\n",
       "    </tr>\n",
       "    <tr>\n",
       "      <th>4</th>\n",
       "      <td>False</td>\n",
       "      <td>2013-01-17 10:14:20</td>\n",
       "      <td>GUEST_INVITE</td>\n",
       "      <td>1.358850e+09</td>\n",
       "      <td>0.0</td>\n",
       "      <td>0.0</td>\n",
       "      <td>193.0</td>\n",
       "      <td>5240.0</td>\n",
       "    </tr>\n",
       "    <tr>\n",
       "      <th>5</th>\n",
       "      <td>False</td>\n",
       "      <td>2013-12-17 03:37:06</td>\n",
       "      <td>GUEST_INVITE</td>\n",
       "      <td>1.387424e+09</td>\n",
       "      <td>0.0</td>\n",
       "      <td>0.0</td>\n",
       "      <td>197.0</td>\n",
       "      <td>11241.0</td>\n",
       "    </tr>\n",
       "  </tbody>\n",
       "</table>\n",
       "</div>"
      ],
      "text/plain": [
       "           adopt        creation_time creation_source  \\\n",
       "object_id                                               \n",
       "1          False  2013-11-15 03:45:04      ORG_INVITE   \n",
       "2           True  2013-03-19 23:14:52      ORG_INVITE   \n",
       "3          False  2013-05-21 08:09:28    GUEST_INVITE   \n",
       "4          False  2013-01-17 10:14:20    GUEST_INVITE   \n",
       "5          False  2013-12-17 03:37:06    GUEST_INVITE   \n",
       "\n",
       "           last_session_creation_time  opted_in_to_mailing_list  \\\n",
       "object_id                                                         \n",
       "1                        1.396238e+09                       0.0   \n",
       "2                        1.363735e+09                       0.0   \n",
       "3                        1.369210e+09                       0.0   \n",
       "4                        1.358850e+09                       0.0   \n",
       "5                        1.387424e+09                       0.0   \n",
       "\n",
       "           enabled_for_marketing_drip  org_id  invited_by_user_id  \n",
       "object_id                                                          \n",
       "1                                 0.0     1.0               316.0  \n",
       "2                                 0.0    94.0              1525.0  \n",
       "3                                 0.0     1.0              5151.0  \n",
       "4                                 0.0   193.0              5240.0  \n",
       "5                                 0.0   197.0             11241.0  "
      ]
     },
     "execution_count": 137,
     "metadata": {},
     "output_type": "execute_result"
    }
   ],
   "source": [
    "joined.drop(columns = ['object_id', 'object_id_login', 'object_id_info', 'name', 'email'], axis =1, inplace = True)\n",
    "joined.head()"
   ]
  },
  {
   "cell_type": "markdown",
   "id": "2e21accd",
   "metadata": {},
   "source": [
    "### 2.2. Fill NANs and covert columns"
   ]
  },
  {
   "cell_type": "code",
   "execution_count": 138,
   "id": "fbab2aa8",
   "metadata": {},
   "outputs": [
    {
     "data": {
      "text/plain": [
       "False"
      ]
     },
     "execution_count": 138,
     "metadata": {},
     "output_type": "execute_result"
    }
   ],
   "source": [
    "joined['last_session_creation_time'].fillna((joined['last_session_creation_time'].median()), inplace=True)\n",
    "joined['last_session_creation_time'].isna().any()"
   ]
  },
  {
   "cell_type": "code",
   "execution_count": 140,
   "id": "55f0f585",
   "metadata": {},
   "outputs": [
    {
     "data": {
      "text/html": [
       "<div>\n",
       "<style scoped>\n",
       "    .dataframe tbody tr th:only-of-type {\n",
       "        vertical-align: middle;\n",
       "    }\n",
       "\n",
       "    .dataframe tbody tr th {\n",
       "        vertical-align: top;\n",
       "    }\n",
       "\n",
       "    .dataframe thead th {\n",
       "        text-align: right;\n",
       "    }\n",
       "</style>\n",
       "<table border=\"1\" class=\"dataframe\">\n",
       "  <thead>\n",
       "    <tr style=\"text-align: right;\">\n",
       "      <th></th>\n",
       "      <th>adopt</th>\n",
       "      <th>creation_time</th>\n",
       "      <th>creation_source</th>\n",
       "      <th>last_session_creation_time</th>\n",
       "      <th>opted_in_to_mailing_list</th>\n",
       "      <th>enabled_for_marketing_drip</th>\n",
       "      <th>org_id</th>\n",
       "      <th>invited_by_user_id</th>\n",
       "    </tr>\n",
       "    <tr>\n",
       "      <th>object_id</th>\n",
       "      <th></th>\n",
       "      <th></th>\n",
       "      <th></th>\n",
       "      <th></th>\n",
       "      <th></th>\n",
       "      <th></th>\n",
       "      <th></th>\n",
       "      <th></th>\n",
       "    </tr>\n",
       "  </thead>\n",
       "  <tbody>\n",
       "    <tr>\n",
       "      <th>1</th>\n",
       "      <td>False</td>\n",
       "      <td>196</td>\n",
       "      <td>ORG_INVITE</td>\n",
       "      <td>1.396238e+09</td>\n",
       "      <td>0.0</td>\n",
       "      <td>0.0</td>\n",
       "      <td>1.0</td>\n",
       "      <td>316.0</td>\n",
       "    </tr>\n",
       "    <tr>\n",
       "      <th>2</th>\n",
       "      <td>True</td>\n",
       "      <td>437</td>\n",
       "      <td>ORG_INVITE</td>\n",
       "      <td>1.363735e+09</td>\n",
       "      <td>0.0</td>\n",
       "      <td>0.0</td>\n",
       "      <td>94.0</td>\n",
       "      <td>1525.0</td>\n",
       "    </tr>\n",
       "    <tr>\n",
       "      <th>3</th>\n",
       "      <td>False</td>\n",
       "      <td>374</td>\n",
       "      <td>GUEST_INVITE</td>\n",
       "      <td>1.369210e+09</td>\n",
       "      <td>0.0</td>\n",
       "      <td>0.0</td>\n",
       "      <td>1.0</td>\n",
       "      <td>5151.0</td>\n",
       "    </tr>\n",
       "    <tr>\n",
       "      <th>4</th>\n",
       "      <td>False</td>\n",
       "      <td>498</td>\n",
       "      <td>GUEST_INVITE</td>\n",
       "      <td>1.358850e+09</td>\n",
       "      <td>0.0</td>\n",
       "      <td>0.0</td>\n",
       "      <td>193.0</td>\n",
       "      <td>5240.0</td>\n",
       "    </tr>\n",
       "    <tr>\n",
       "      <th>5</th>\n",
       "      <td>False</td>\n",
       "      <td>164</td>\n",
       "      <td>GUEST_INVITE</td>\n",
       "      <td>1.387424e+09</td>\n",
       "      <td>0.0</td>\n",
       "      <td>0.0</td>\n",
       "      <td>197.0</td>\n",
       "      <td>11241.0</td>\n",
       "    </tr>\n",
       "  </tbody>\n",
       "</table>\n",
       "</div>"
      ],
      "text/plain": [
       "           adopt  creation_time creation_source  last_session_creation_time  \\\n",
       "object_id                                                                     \n",
       "1          False            196      ORG_INVITE                1.396238e+09   \n",
       "2           True            437      ORG_INVITE                1.363735e+09   \n",
       "3          False            374    GUEST_INVITE                1.369210e+09   \n",
       "4          False            498    GUEST_INVITE                1.358850e+09   \n",
       "5          False            164    GUEST_INVITE                1.387424e+09   \n",
       "\n",
       "           opted_in_to_mailing_list  enabled_for_marketing_drip  org_id  \\\n",
       "object_id                                                                 \n",
       "1                               0.0                         0.0     1.0   \n",
       "2                               0.0                         0.0    94.0   \n",
       "3                               0.0                         0.0     1.0   \n",
       "4                               0.0                         0.0   193.0   \n",
       "5                               0.0                         0.0   197.0   \n",
       "\n",
       "           invited_by_user_id  \n",
       "object_id                      \n",
       "1                       316.0  \n",
       "2                      1525.0  \n",
       "3                      5151.0  \n",
       "4                      5240.0  \n",
       "5                     11241.0  "
      ]
     },
     "execution_count": 140,
     "metadata": {},
     "output_type": "execute_result"
    }
   ],
   "source": [
    "joined.creation_time = pd.to_datetime(joined.creation_time.astype(str))\n",
    "days = [(np.max(joined.creation_time).date() -x.date()).days for x in joined.creation_time]\n",
    "joined.creation_time = days\n",
    "joined.head()"
   ]
  },
  {
   "cell_type": "code",
   "execution_count": 141,
   "id": "db4227d3",
   "metadata": {},
   "outputs": [
    {
     "data": {
      "text/plain": [
       "(array([False,  True]), array([4108, 4714]))"
      ]
     },
     "execution_count": 141,
     "metadata": {},
     "output_type": "execute_result"
    }
   ],
   "source": [
    "invited = [(x>=0) for x in joined.invited_by_user_id]\n",
    "joined.invited_by_user_id = invited\n",
    "np.unique(invited, return_counts = True)"
   ]
  },
  {
   "cell_type": "code",
   "execution_count": 175,
   "id": "3f2deb47",
   "metadata": {},
   "outputs": [],
   "source": [
    "# from dython.nominal import associations\n",
    "# from dython.data_utils import split_hist\n",
    "# associations(joined, figsize=(12, 12))\n",
    "# plt.show()"
   ]
  },
  {
   "cell_type": "markdown",
   "id": "52ccfad7",
   "metadata": {},
   "source": [
    "## Step3. Make predictions using RandomForestClassifier"
   ]
  },
  {
   "cell_type": "code",
   "execution_count": 143,
   "id": "3bbc413d",
   "metadata": {},
   "outputs": [
    {
     "name": "stdout",
     "output_type": "stream",
     "text": [
      "(8822, 11)\n"
     ]
    }
   ],
   "source": [
    "categorical_cols = ['creation_source', 'invited_by_user_id']\n",
    "dummies_X = pd.get_dummies(joined,columns =categorical_cols, drop_first = True)\n",
    "print(dummies_X.shape)\n",
    "target = dummies_X.adopt\n",
    "X_all = dummies_X.drop(columns = ['adopt'], axis =1)"
   ]
  },
  {
   "cell_type": "code",
   "execution_count": 144,
   "id": "9d67b741",
   "metadata": {},
   "outputs": [
    {
     "name": "stdout",
     "output_type": "stream",
     "text": [
      "0.8.0\n",
      "Counter({'False': 6638, 'True': 6638})\n"
     ]
    }
   ],
   "source": [
    "from sklearn.model_selection import train_test_split\n",
    "from sklearn.metrics import confusion_matrix, classification_report\n",
    "from sklearn import preprocessing\n",
    "from sklearn.ensemble import RandomForestClassifier\n",
    "\n",
    "# check version number\n",
    "import imblearn\n",
    "print(imblearn.__version__)\n",
    "from imblearn.over_sampling import SMOTE\n",
    "from collections import Counter\n",
    "\n",
    "y =  target\n",
    "X = X_all\n",
    "\n",
    "over = SMOTE(sampling_strategy=1)\n",
    "X, y = over.fit_resample(X, y)\n",
    "print(Counter(y))\n",
    "\n",
    "X_train, X_test, y_train, y_test = train_test_split(X, y, test_size = 0.2, random_state = 42)\n",
    "    \n",
    "scaler = preprocessing.MinMaxScaler().fit(X_train)\n",
    "X_train_scaled=scaler.transform(X_train)\n",
    "X_test_scaled=scaler.transform(X_test)\n",
    "\n",
    "RF = RandomForestClassifier()\n",
    "RF.fit(X_train,y_train)\n",
    "y_pred = RF.predict(X_test)   "
   ]
  },
  {
   "cell_type": "code",
   "execution_count": 145,
   "id": "2b2c095c",
   "metadata": {},
   "outputs": [
    {
     "name": "stdout",
     "output_type": "stream",
     "text": [
      "              precision    recall  f1-score   support\n",
      "\n",
      "       False       0.75      0.85      0.80      1355\n",
      "        True       0.82      0.71      0.76      1301\n",
      "\n",
      "    accuracy                           0.78      2656\n",
      "   macro avg       0.79      0.78      0.78      2656\n",
      "weighted avg       0.79      0.78      0.78      2656\n",
      "\n",
      "[[1157  198]\n",
      " [ 378  923]]\n"
     ]
    }
   ],
   "source": [
    "# Metrics calculation\n",
    "print(classification_report(y_test, y_pred))\n",
    "\n",
    "# Create a confusion matrix\n",
    "cnf_matrix = confusion_matrix(y_test, y_pred)\n",
    "print(cnf_matrix)"
   ]
  },
  {
   "cell_type": "markdown",
   "id": "dc1090e7",
   "metadata": {},
   "source": [
    "## Step 4. Varible importance and split histogram"
   ]
  },
  {
   "cell_type": "code",
   "execution_count": 184,
   "id": "383bf7a0",
   "metadata": {},
   "outputs": [
    {
     "data": {
      "image/png": "[encoded data removed]",
      "text/plain": [
       "<Figure size 720x432 with 1 Axes>"
      ]
     },
     "metadata": {
      "needs_background": "light"
     },
     "output_type": "display_data"
    }
   ],
   "source": [
    "# Plot feature_importance for powerpoint use\n",
    "feature_importance = RF.feature_importances_\n",
    "# print(feature_importance)\n",
    "# make importances relative to max importance\n",
    "feature_importance = 100.0 * (feature_importance / feature_importance.max())\n",
    "sorted_idx = np.argsort(feature_importance)\n",
    "\n",
    "pos = np.arange(sorted_idx.shape[0])\n",
    "# print(pos.size)\n",
    "sorted_idx.size\n",
    "plt.figure(figsize=(10,6))\n",
    "plt.barh(pos, feature_importance[sorted_idx], align='center')\n",
    "plt.yticks(pos, X.columns[sorted_idx])\n",
    "plt.xlabel('Relative Importance')\n",
    "plt.title('Variable Importance')\n",
    "plt.show()"
   ]
  },
  {
   "cell_type": "code",
   "execution_count": 187,
   "id": "2c1ec6e9",
   "metadata": {},
   "outputs": [
    {
     "data": {
      "image/png": "[encoded data removed]",
      "text/plain": [
       "<Figure size 504x288 with 1 Axes>"
      ]
     },
     "metadata": {
      "needs_background": "light"
     },
     "output_type": "display_data"
    },
    {
     "data": {
      "image/png": "[encoded data removed]",
      "text/plain": [
       "<Figure size 504x288 with 1 Axes>"
      ]
     },
     "metadata": {
      "needs_background": "light"
     },
     "output_type": "display_data"
    },
    {
     "data": {
      "image/png": "[encoded data removed]",
      "text/plain": [
       "<Figure size 504x288 with 1 Axes>"
      ]
     },
     "metadata": {
      "needs_background": "light"
     },
     "output_type": "display_data"
    },
    {
     "data": {
      "image/png": "[encoded data removed]",
      "text/plain": [
       "<Figure size 504x288 with 1 Axes>"
      ]
     },
     "metadata": {
      "needs_background": "light"
     },
     "output_type": "display_data"
    },
    {
     "data": {
      "image/png": "[encoded data removed]",
      "text/plain": [
       "<Figure size 504x288 with 1 Axes>"
      ]
     },
     "metadata": {
      "needs_background": "light"
     },
     "output_type": "display_data"
    },
    {
     "data": {
      "image/png": "[encoded data removed]",
      "text/plain": [
       "<Figure size 504x288 with 1 Axes>"
      ]
     },
     "metadata": {
      "needs_background": "light"
     },
     "output_type": "display_data"
    },
    {
     "data": {
      "image/png": "[encoded data removed]",
      "text/plain": [
       "<Figure size 504x288 with 1 Axes>"
      ]
     },
     "metadata": {
      "needs_background": "light"
     },
     "output_type": "display_data"
    },
    {
     "data": {
      "image/png": "[encoded data removed]",
      "text/plain": [
       "<Figure size 504x288 with 1 Axes>"
      ]
     },
     "metadata": {
      "needs_background": "light"
     },
     "output_type": "display_data"
    }
   ],
   "source": [
    "for column in joined.columns:\n",
    "    split_hist(joined, column, 'adopt', density = True, bins=10, figsize=(7,4))"
   ]
  },
  {
   "cell_type": "code",
   "execution_count": 188,
   "id": "df3c6740",
   "metadata": {},
   "outputs": [],
   "source": [
    "# # print(joined.columns)\n",
    "# joined_columns = [\n",
    "#     'creation_time', 'creation_source',\n",
    "#        'last_session_creation_time', 'opted_in_to_mailing_list',\n",
    "#        'enabled_for_marketing_drip', 'org_id', 'invited_by_user_id']\n",
    "# for col in joined_columns: \n",
    "#     sns.histplot(x=joined[col], hue=joined['adopt'], multiple=\"dodge\", \n",
    "#                   stat = 'density', shrink = 0.8, common_norm=False)\n",
    "#     plt.xticks(rotation=90)\n",
    "#     plt.show()"
   ]
  },
  {
   "cell_type": "code",
   "execution_count": null,
   "id": "43a9e151",
   "metadata": {},
   "outputs": [],
   "source": []
  }
 ],
 "metadata": {
  "kernelspec": {
   "display_name": "Python 3",
   "language": "python",
   "name": "python3"
  },
  "language_info": {
   "codemirror_mode": {
    "name": "ipython",
    "version": 3
   },
   "file_extension": ".py",
   "mimetype": "text/x-python",
   "name": "python",
   "nbconvert_exporter": "python",
   "pygments_lexer": "ipython3",
   "version": "3.8.8"
  }
 },
 "nbformat": 4,
 "nbformat_minor": 5
}
