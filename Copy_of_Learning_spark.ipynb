{
  "nbformat": 4,
  "nbformat_minor": 0,
  "metadata": {
    "colab": {
      "name": "Copy of Learning spark.ipynb",
      "provenance": [],
      "collapsed_sections": [],
      "authorship_tag": "ABX9TyOzc7baUEbtT6drvB2yR6Wa",
      "include_colab_link": true
    },
    "kernelspec": {
      "name": "python3",
      "display_name": "Python 3"
    },
    "language_info": {
      "name": "python"
    }
  },
  "cells": [
    {
      "cell_type": "markdown",
      "metadata": {
        "id": "view-in-github",
        "colab_type": "text"
      },
      "source": [
        "<a href=\"https://colab.research.google.com/github/mengyanl/springboard/blob/main/Copy_of_Learning_spark.ipynb\" target=\"_parent\"><img src=\"https://colab.research.google.com/assets/colab-badge.svg\" alt=\"Open In Colab\"/></a>"
      ]
    },
    {
      "cell_type": "markdown",
      "metadata": {
        "id": "W3nRjzM1BGjc"
      },
      "source": [
        "# 1st Google Colab notebook for PySpark\n",
        "#### From **Linkedin Apache Pyspark by Example** and **Medium blog** showed the link below."
      ]
    },
    {
      "cell_type": "markdown",
      "metadata": {
        "id": "74mvXaui7cua"
      },
      "source": [
        "https://medium.com/geekculture/how-to-get-your-spark-installation-right-every-time-on-colab-218d57b6091d"
      ]
    },
    {
      "cell_type": "code",
      "metadata": {
        "id": "SYp8N4mH2Hgn"
      },
      "source": [
        "!ls"
      ],
      "execution_count": null,
      "outputs": []
    },
    {
      "cell_type": "code",
      "metadata": {
        "id": "y69WLGB22vfa"
      },
      "source": [
        "# download java\n",
        "!apt-get install openjdk-8-jdk-headless -qq > /dev/null"
      ],
      "execution_count": null,
      "outputs": []
    },
    {
      "cell_type": "code",
      "metadata": {
        "id": "SxcOqypS48dp"
      },
      "source": [
        "# Installing Spark 3.2.0 with Hadoop 2.7\n",
        "!wget -q https://downloads.apache.org/spark/spark-3.2.0//spark-3.2.0-bin-hadoop2.7.tgz"
      ],
      "execution_count": null,
      "outputs": []
    },
    {
      "cell_type": "markdown",
      "metadata": {
        "id": "DslRptsQEpHG"
      },
      "source": [
        "If can not file the file, do following steps: <br>\n",
        "Go to https://downloads.apache.org/spark/   <br>\n",
        "Select folder for example: \"spark-3.0.1/\" <br>\n",
        "Copy file name you want for example: \"spark-3.0.1-bin-hadoop3.2.tgz\" (ends with .tgz) <br>\n",
        "Paste to the provided script"
      ]
    },
    {
      "cell_type": "code",
      "metadata": {
        "id": "3U2uJ3vp5J3O"
      },
      "source": [
        "# unzip the folder\n",
        "!tar xf spark-3.2.0-bin-hadoop2.7.tgz"
      ],
      "execution_count": null,
      "outputs": []
    },
    {
      "cell_type": "code",
      "metadata": {
        "id": "MIMxmtFA6p3I"
      },
      "source": [
        "# install ‘findspark’ library. \n",
        "#It will locate Spark on the system and import it as a regular library.\n",
        "!pip install -q findspark"
      ],
      "execution_count": null,
      "outputs": []
    },
    {
      "cell_type": "code",
      "metadata": {
        "id": "r_-vAhL27TyE"
      },
      "source": [
        " # set the environmental path. \n",
        " # This will enable us to run Pyspark in the Colab environment\n",
        "import os\n",
        "os.environ[\"JAVA_HOME\"] = \"/usr/lib/jvm/java-8-openjdk-amd64\"\n",
        "os.environ[\"SPARK_HOME\"] = \"/content/spark-3.2.0-bin-hadoop2.7\""
      ],
      "execution_count": null,
      "outputs": []
    },
    {
      "cell_type": "code",
      "metadata": {
        "id": "uPDTAqA_71Nv"
      },
      "source": [
        "# locate spark in system\n",
        "import findspark\n",
        "findspark.init()"
      ],
      "execution_count": null,
      "outputs": []
    },
    {
      "cell_type": "code",
      "metadata": {
        "colab": {
          "base_uri": "https://localhost:8080/",
          "height": 36
        },
        "id": "_3qQiQk175hV",
        "outputId": "e6f81b2e-22af-46a3-f21e-bf60c6ce4fa7"
      },
      "source": [
        "# to konw where spark is located\n",
        "findspark.find()"
      ],
      "execution_count": null,
      "outputs": [
        {
          "output_type": "execute_result",
          "data": {
            "application/vnd.google.colaboratory.intrinsic+json": {
              "type": "string"
            },
            "text/plain": [
              "'/content/spark-3.2.0-bin-hadoop2.7'"
            ]
          },
          "metadata": {},
          "execution_count": 7
        }
      ]
    },
    {
      "cell_type": "code",
      "metadata": {
        "id": "PL8HaLEmAq0m"
      },
      "source": [
        "from pyspark import SparkContext\n",
        "sc = SparkContext.getOrCreate()"
      ],
      "execution_count": null,
      "outputs": []
    },
    {
      "cell_type": "code",
      "metadata": {
        "id": "Xc7NSbdqA5mB"
      },
      "source": [
        "# create a spark session\n",
        "import pyspark\n",
        "from pyspark.sql import SparkSession\n",
        "spark= SparkSession \\\n",
        "       .builder \\\n",
        "       .appName(\"Our First Spark example\") \\\n",
        "       .getOrCreate()"
      ],
      "execution_count": null,
      "outputs": []
    },
    {
      "cell_type": "code",
      "metadata": {
        "id": "2G_AZW7pBUKl"
      },
      "source": [
        "# print the SparkSession variable\n",
        "spark"
      ],
      "execution_count": null,
      "outputs": []
    },
    {
      "cell_type": "code",
      "metadata": {
        "colab": {
          "base_uri": "https://localhost:8080/"
        },
        "id": "rOH3uMky6yb7",
        "outputId": "239a7909-f2e7-4221-b324-2faf7fe00c96"
      },
      "source": [
        "!ls"
      ],
      "execution_count": null,
      "outputs": [
        {
          "output_type": "stream",
          "name": "stdout",
          "text": [
            "sample_data  spark-3.2.0-bin-hadoop2.7\tspark-3.2.0-bin-hadoop2.7.tgz\n"
          ]
        }
      ]
    },
    {
      "cell_type": "code",
      "metadata": {
        "id": "8AXTB56FDZ8e"
      },
      "source": [
        "# test\n",
        "import urllib.request\n",
        "BASE_DIR= \"/tmp\"\n",
        "OUTPUT_FILE= os.path.join(BASE_DIR, 'wine_data.csv')"
      ],
      "execution_count": null,
      "outputs": []
    },
    {
      "cell_type": "code",
      "metadata": {
        "id": "Jyr5QvW1DklB"
      },
      "source": [
        "# download dataset\n",
        "wine_data=urllib.request.urlretrieve(\"https://archive.ics.uci.edu/ml/machine-learning-databases/wine/wine.data\", OUTPUT_FILE)"
      ],
      "execution_count": null,
      "outputs": []
    },
    {
      "cell_type": "code",
      "metadata": {
        "id": "nAGy6y5OD_qg"
      },
      "source": [
        "# read data\n",
        "wine_df=spark.read.option(\"InferSchema\",'true').csv(\"/tmp/wine_data.csv\", header=False)"
      ],
      "execution_count": null,
      "outputs": []
    },
    {
      "cell_type": "code",
      "metadata": {
        "id": "B4BALAhKEQkN"
      },
      "source": [
        "# print the schema\n",
        "wine_df.printSchema()"
      ],
      "execution_count": null,
      "outputs": []
    },
    {
      "cell_type": "markdown",
      "metadata": {
        "id": "Uy4pq4wdBPb4"
      },
      "source": [
        "# Download Data"
      ]
    },
    {
      "cell_type": "code",
      "metadata": {
        "id": "gHVcF8E_9O0i"
      },
      "source": [
        "# download Data set Chicago criminal\n",
        "# shift+enter to see progress\n",
        "!wget https://data.cityofchicago.org/api/views/x2n5-8w5q/rows.csv?accessType=DOWNLOAD&api_foundry=true"
      ],
      "execution_count": null,
      "outputs": []
    },
    {
      "cell_type": "code",
      "metadata": {
        "id": "VEXiFb5279dz"
      },
      "source": [
        "!ls"
      ],
      "execution_count": null,
      "outputs": []
    },
    {
      "cell_type": "code",
      "metadata": {
        "id": "J95HtahyCj-7"
      },
      "source": [
        "# rm reported_crimes.csv"
      ],
      "execution_count": null,
      "outputs": []
    },
    {
      "cell_type": "code",
      "metadata": {
        "id": "M3BaAvUx8Ij9"
      },
      "source": [
        "# rename the file\n",
        "!mv rows.csv\\?accessType\\=DOWNLOAD reported_crimes.csv"
      ],
      "execution_count": null,
      "outputs": []
    },
    {
      "cell_type": "markdown",
      "metadata": {
        "id": "waoGANvsBZ9-"
      },
      "source": [
        "# Read CSV"
      ]
    },
    {
      "cell_type": "code",
      "metadata": {
        "id": "bWEHwzeY8QQ1"
      },
      "source": [
        "from pyspark.sql.functions import to_timestamp,col,lit\n",
        "rc = spark.read.csv('reported_crimes.csv',header=True).withColumn('DATE  OF OCCURRENCE',to_timestamp(col('DATE  OF OCCURRENCE'),'MM/dd/yyyy hh:mm:ss a')).filter(col('DATE  OF OCCURRENCE') <= lit('2021-11-11'))\n",
        "rc.show(10)  ## print out in a nice format\n",
        "\n",
        "## df.take(n)  ## returns list of row objects calls collect() on limit() ## similar to df.head()\n",
        "## df.head(n)  ## returns an array calls take() function ## similar with take()\n",
        "## df.limit(n)  ## returns  new dataframe\n",
        "## df.collect()  ## get entire dataframe careful it will crash drive"
      ],
      "execution_count": null,
      "outputs": []
    },
    {
      "cell_type": "markdown",
      "metadata": {
        "id": "_F6EvNrRBfBG"
      },
      "source": [
        "# Schema"
      ]
    },
    {
      "cell_type": "code",
      "metadata": {
        "id": "dp7bnNnlJm5G"
      },
      "source": [
        "## df.dtypes()\n",
        "## df.printSchema()\n",
        "rc.printSchema()"
      ],
      "execution_count": null,
      "outputs": []
    },
    {
      "cell_type": "code",
      "metadata": {
        "id": "PysWele1KgEi"
      },
      "source": [
        "from pyspark.sql.types import StructType, StructField, StringType, TimestampType, BooleanType, DoubleType, IntegerType"
      ],
      "execution_count": null,
      "outputs": []
    },
    {
      "cell_type": "code",
      "metadata": {
        "id": "VZt04Ivy5TAd"
      },
      "source": [
        "rc.columns"
      ],
      "execution_count": null,
      "outputs": []
    },
    {
      "cell_type": "code",
      "metadata": {
        "id": "ihAwwG8n49Dc"
      },
      "source": [
        "StructType([\n",
        "        StructField('CASE#', StringType, True),\n",
        "        StructField('DATE  OF OCCURRENCE', TimestampType, True),\n",
        " 'BLOCK',\n",
        " ' IUCR',\n",
        " ' PRIMARY DESCRIPTION',\n",
        " ' SECONDARY DESCRIPTION',\n",
        " ' LOCATION DESCRIPTION',\n",
        " 'ARREST',\n",
        " 'DOMESTIC',\n",
        " 'BEAT',\n",
        " 'WARD',\n",
        " 'FBI CD',\n",
        " 'X COORDINATE',\n",
        " 'Y COORDINATE',\n",
        " 'LATITUDE',\n",
        " 'LONGITUDE',\n",
        " 'LOCATION')    \n",
        "])"
      ],
      "execution_count": null,
      "outputs": []
    },
    {
      "cell_type": "code",
      "metadata": {
        "id": "QTpBMfEi6OJR"
      },
      "source": [
        "labels = [ \n",
        "          ('CASE#', StringType()),\n",
        "          ('DATE  OF OCCURRENCE', TimestampType()),\n",
        "          ('BLOCK', StringType()),\n",
        " (' IUCR', StringType()),\n",
        " (' PRIMARY DESCRIPTION', StringType()),\n",
        " (' SECONDARY DESCRIPTION', StringType()),\n",
        " (' LOCATION DESCRIPTION', StringType()),\n",
        " ('ARREST', StringType()),\n",
        " ('DOMESTIC', BooleanType()),\n",
        " ('BEAT', StringType()),\n",
        " ('WARD', StringType()),\n",
        " ('FBI CD', StringType()),\n",
        " ('X COORDINATE', StringType()),\n",
        " ('Y COORDINATE', StringType()),\n",
        " ('LATITUDE', DoubleType()),\n",
        " ('LONGITUDE', DoubleType()),\n",
        " ('LOCATION', StringType()), \n",
        "  ]"
      ],
      "execution_count": null,
      "outputs": []
    },
    {
      "cell_type": "code",
      "metadata": {
        "id": "Q9yIcQOo8F1T"
      },
      "source": [
        "schema = StructType([StructField(x[0], x[1], True) for x in labels])\n",
        "schema"
      ],
      "execution_count": null,
      "outputs": []
    },
    {
      "cell_type": "code",
      "metadata": {
        "id": "GnnqzCxv8eC-"
      },
      "source": [
        "rc = spark.read.csv('reported_crimes.csv', schema = schema)\n",
        "rc.printSchema()"
      ],
      "execution_count": null,
      "outputs": []
    },
    {
      "cell_type": "code",
      "metadata": {
        "id": "qLiQWm-e807E"
      },
      "source": [
        "rc.show(5)"
      ],
      "execution_count": null,
      "outputs": []
    },
    {
      "cell_type": "markdown",
      "metadata": {
        "id": "kThPuwuJBCGo"
      },
      "source": [
        "# Columns"
      ]
    },
    {
      "cell_type": "code",
      "metadata": {
        "id": "Kf4tYnd29DiY"
      },
      "source": [
        "## PySpark columns\n",
        "# df.withColumn('DoubleColumn', 2 * df['ColumnA'])\n",
        "# df.withColumnRenamed(ExistingColumnName, NewColumnname)\n",
        "# df.drop('columnName1', 'columnName2', 'columnName3')\n",
        "# df.groupBy('column')"
      ],
      "execution_count": null,
      "outputs": []
    },
    {
      "cell_type": "code",
      "metadata": {
        "id": "zcIsxXK7-cWR"
      },
      "source": [
        "rc.select(' IUCR').show(5)"
      ],
      "execution_count": null,
      "outputs": []
    },
    {
      "cell_type": "code",
      "metadata": {
        "id": "-DoD71DA-sb4"
      },
      "source": [
        "rc.select(rc.ARREST).show(5)"
      ],
      "execution_count": null,
      "outputs": []
    },
    {
      "cell_type": "code",
      "metadata": {
        "id": "qwqGiMfW_HZ_"
      },
      "source": [
        "rc.select(col('ARREST')).show(5)"
      ],
      "execution_count": null,
      "outputs": []
    },
    {
      "cell_type": "code",
      "metadata": {
        "id": "oT3RqUti_h_F"
      },
      "source": [
        "rc.select('ARREST', 'CASE#').show(5)"
      ],
      "execution_count": null,
      "outputs": []
    },
    {
      "cell_type": "code",
      "metadata": {
        "id": "cTLP0wvI_pmV"
      },
      "source": [
        "from pyspark.sql.functions import lit"
      ],
      "execution_count": null,
      "outputs": []
    },
    {
      "cell_type": "code",
      "metadata": {
        "id": "Yksqfn7E_-eU"
      },
      "source": [
        "rc.withColumn('One', lit(1)).show(5)"
      ],
      "execution_count": null,
      "outputs": []
    },
    {
      "cell_type": "code",
      "metadata": {
        "id": "Bdnj1RumAsA_"
      },
      "source": [
        "rc = rc.drop('ARRESTED')\n",
        "rc.show(5)"
      ],
      "execution_count": null,
      "outputs": []
    },
    {
      "cell_type": "markdown",
      "metadata": {
        "id": "WdLQdmHKBlDA"
      },
      "source": [
        "# Filter"
      ]
    },
    {
      "cell_type": "code",
      "metadata": {
        "id": "pc72ACF9A5Fu"
      },
      "source": [
        "## df.filter(col('column') >1)  = in Pandas: df[df.column >1]\n",
        "## df.select(column).distinct().show() = in Pandas: df['column'].unique()\n",
        "## df.orderBy(col('column')) =  in Pandas: df.column.sort_values(by = 'column')\n",
        "## df.union(df2) have to have same schema = Pandas: df.concat(df2)"
      ],
      "execution_count": null,
      "outputs": []
    },
    {
      "cell_type": "code",
      "metadata": {
        "id": "HWh0_EnrC3a9"
      },
      "source": [
        "one_day = spark.read.csv('reported_crimes.csv',header=True).withColumn('DATE  OF OCCURRENCE',to_timestamp(col('DATE  OF OCCURRENCE'),'MM/dd/yyyy hh:mm:ss a')).filter(col('DATE  OF OCCURRENCE') == lit('2021-11-12'))\n",
        "one_day.count()  ## print out in a nice format"
      ],
      "execution_count": null,
      "outputs": []
    },
    {
      "cell_type": "code",
      "metadata": {
        "id": "fb7cJpCyFATJ"
      },
      "source": [
        "Second_day = spark.read.csv('reported_crimes.csv',header=True).withColumn('DATE  OF OCCURRENCE',to_timestamp(col('DATE  OF OCCURRENCE'),'MM/dd/yyyy hh:mm:ss a')).filter(col('DATE  OF OCCURRENCE') == lit('2021-11-13'))\n",
        "Second_day.count()  ## print out in a nice format"
      ],
      "execution_count": null,
      "outputs": []
    },
    {
      "cell_type": "code",
      "metadata": {
        "colab": {
          "base_uri": "https://localhost:8080/"
        },
        "id": "QNu9GNy5D7Bo",
        "outputId": "95cca0d0-ec8d-4497-adb0-066be5201a78"
      },
      "source": [
        "Second_day.union(one_day).orderBy(\"DATE  OF OCCURRENCE\", ascending = False).show(13)"
      ],
      "execution_count": null,
      "outputs": [
        {
          "output_type": "stream",
          "name": "stdout",
          "text": [
            "+--------+-------------------+--------------------+-----+--------------------+----------------------+---------------------+------+--------+----+----+------+------------+------------+------------+-------------+--------------------+\n",
            "|   CASE#|DATE  OF OCCURRENCE|               BLOCK| IUCR| PRIMARY DESCRIPTION| SECONDARY DESCRIPTION| LOCATION DESCRIPTION|ARREST|DOMESTIC|BEAT|WARD|FBI CD|X COORDINATE|Y COORDINATE|    LATITUDE|    LONGITUDE|            LOCATION|\n",
            "+--------+-------------------+--------------------+-----+--------------------+----------------------+---------------------+------+--------+----+----+------+------------+------------+------------+-------------+--------------------+\n",
            "|JE443581|2021-11-13 00:00:00|048XX S MARSHFIEL...| 1477|   WEAPONS VIOLATION|  RECKLESS FIREARM ...|            RESIDENCE|     N|       N| 931|  20|    15|     1166156|     1872657|41.806148486|-87.666123458|(41.806148486, -8...|\n",
            "|JE444226|2021-11-13 00:00:00|    002XX E HURON ST| 0281|CRIMINAL SEXUAL A...|        NON-AGGRAVATED| HOSPITAL BUILDING...|     N|       N|1834|  42|    02|     1178046|     1905133|41.895003278| -87.62152816|(41.895003278, -8...|\n",
            "|JE446066|2021-11-13 00:00:00|010XX N PARKSIDE AVE| 1750|OFFENSE INVOLVING...|           CHILD ABUSE|            APARTMENT|     N|       Y|1511|  29|   08B|     1138492|     1906434|41.899381972|-87.766769174|(41.899381972, -8...|\n",
            "|JE450448|2021-11-13 00:00:00|   032XX W CERMAK RD| 0810|               THEFT|             OVER $500|           RESTAURANT|     N|       N|1024|  12|    06|        null|        null|        null|         null|                null|\n",
            "|JE443945|2021-11-13 00:00:00| 004XX S DEARBORN ST| 0860|               THEFT|          RETAIL THEFT|          GAS STATION|     N|       N| 113|   4|    06|     1176001|     1898180|41.875970169|-87.629248335|(41.875970169, -8...|\n",
            "|JE444247|2021-11-13 00:00:00| 054XX W CHICAGO AVE| 1310|     CRIMINAL DAMAGE|           TO PROPERTY| COMMERCIAL / BUSI...|     N|       N|1524|  37|    14|     1139655|     1904800|41.894876922|-87.762537358|(41.894876922, -8...|\n",
            "|JE443473|2021-11-13 00:00:00|  038XX W MADISON ST| 1320|     CRIMINAL DAMAGE|            TO VEHICLE|               STREET|     N|       N|1122|  28|    14|     1150842|     1899739|41.880777428| -87.72158268|(41.880777428, -8...|\n",
            "|JE445022|2021-11-13 00:00:00|056XX S FRANCISCO...| 1320|     CRIMINAL DAMAGE|            TO VEHICLE|               STREET|     N|       N| 824|  16|    14|     1158005|     1867136|41.791167867| -87.69616864|(41.791167867, -8...|\n",
            "|JE448019|2021-11-13 00:00:00|     004XX E 25TH ST| 0890|               THEFT|         FROM BUILDING|      OTHER (SPECIFY)|     N|       N| 133|   4|    06|     1179482|     1887957| 41.84783858|-87.616780783|(41.84783858, -87...|\n",
            "|JE443378|2021-11-13 00:00:00| 085XX S CRANDON AVE| 2820|       OTHER OFFENSE|      TELEPHONE THREAT|            APARTMENT|     N|       N| 412|   8|   08A|     1192986|     1848936|41.740442663|-87.568495789|(41.740442663, -8...|\n",
            "|JE443349|2021-11-13 00:00:00|051XX N RIDGEWAY AVE| 0312|             ROBBERY|  ARMED - KNIFE / C...|        PARK PROPERTY|     N|       N|1712|  39|    03|     1150469|     1933641|41.973814751|-87.722064863|(41.973814751, -8...|\n",
            "|JE443343|2021-11-12 00:00:00|     008XX E 79TH ST| 0820|               THEFT|        $500 AND UNDER|               STREET|     N|       N| 624|   8|    06|     1183364|     1852811|41.751305337|-87.603628907|(41.751305337, -8...|\n",
            "|JE443080|2021-11-12 00:00:00| 065XX S KEDVALE AVE| 1220|  DECEPTIVE PRACTICE|  THEFT OF LOST / M...|               STREET|     N|       N| 833|  13|    11|     1149829|     1860933|41.774308223| -87.72630918|(41.774308223, -8...|\n",
            "+--------+-------------------+--------------------+-----+--------------------+----------------------+---------------------+------+--------+----+----+------+------------+------------+------------+-------------+--------------------+\n",
            "only showing top 13 rows\n",
            "\n"
          ]
        }
      ]
    },
    {
      "cell_type": "code",
      "metadata": {
        "id": "SptMj5WeFr3W"
      },
      "source": [
        "one_day.groupBy(' PRIMARY DESCRIPTION').count().show()"
      ],
      "execution_count": null,
      "outputs": []
    },
    {
      "cell_type": "code",
      "metadata": {
        "id": "O50O1uJKFRzB"
      },
      "source": [
        "one_day.groupBy(' PRIMARY DESCRIPTION').count().orderBy('count', ascending = False).show()"
      ],
      "execution_count": null,
      "outputs": []
    },
    {
      "cell_type": "code",
      "metadata": {
        "colab": {
          "base_uri": "https://localhost:8080/"
        },
        "id": "l4ET6Ez8HQuS",
        "outputId": "8657e9d2-61a0-4907-ab9d-402c9e32b8da"
      },
      "source": [
        "# challenges\n",
        "Second_day.groupBy('ARREST').count().show()\n",
        "Second_day.select('ARREST').distinct().show()\n",
        "one_day.count()"
      ],
      "execution_count": null,
      "outputs": [
        {
          "output_type": "stream",
          "name": "stdout",
          "text": [
            "+------+-----+\n",
            "|ARREST|count|\n",
            "+------+-----+\n",
            "|     N|   11|\n",
            "+------+-----+\n",
            "\n",
            "+------+\n",
            "|ARREST|\n",
            "+------+\n",
            "|     N|\n",
            "+------+\n",
            "\n"
          ]
        },
        {
          "output_type": "execute_result",
          "data": {
            "text/plain": [
              "11"
            ]
          },
          "metadata": {},
          "execution_count": 83
        }
      ]
    },
    {
      "cell_type": "code",
      "metadata": {
        "colab": {
          "base_uri": "https://localhost:8080/"
        },
        "id": "ExcAnl2AMpPb",
        "outputId": "5852f1c1-31fa-4669-acea-5196f864749b"
      },
      "source": [
        "Second_day.filter(col('ARREST') == 'N').count()/Second_day.select('ARREST').count()"
      ],
      "execution_count": null,
      "outputs": [
        {
          "output_type": "execute_result",
          "data": {
            "text/plain": [
              "1.0"
            ]
          },
          "metadata": {},
          "execution_count": 84
        }
      ]
    },
    {
      "cell_type": "code",
      "metadata": {
        "colab": {
          "base_uri": "https://localhost:8080/"
        },
        "id": "NWJZYrovJsnL",
        "outputId": "3e17fc9a-491e-473d-ff64-538c40421167"
      },
      "source": [
        "one_day.groupby(' LOCATION DESCRIPTION').count().orderBy(' LOCATION DESCRIPTION', ascending = False).show(3)\n"
      ],
      "execution_count": null,
      "outputs": [
        {
          "output_type": "stream",
          "name": "stdout",
          "text": [
            "+---------------------+-----+\n",
            "| LOCATION DESCRIPTION|count|\n",
            "+---------------------+-----+\n",
            "|               STREET|    5|\n",
            "|             SIDEWALK|    1|\n",
            "|   RESIDENCE - GARAGE|    1|\n",
            "+---------------------+-----+\n",
            "only showing top 3 rows\n",
            "\n"
          ]
        }
      ]
    }
  ]
}