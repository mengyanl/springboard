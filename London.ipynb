{
 "cells": [
  {
   "cell_type": "markdown",
   "metadata": {
    "colab_type": "text",
    "id": "Tia3MP1SJpgj"
   },
   "source": [
    "# Springboard Data Science Career Track Unit 4 Challenge - Tier 3 Complete\n",
    "\n",
    "## Objectives\n",
    "Hey! Great job getting through those challenging DataCamp courses. You're learning a lot in a short span of time. \n",
    "\n",
    "In this notebook, you're going to apply the skills you've been learning, bridging the gap between the controlled environment of DataCamp and the *slightly* messier work that data scientists do with actual datasets!\n",
    "\n",
    "Here’s the mystery we’re going to solve: ***which boroughs of London have seen the greatest increase in housing prices, on average, over the last two decades?***\n",
    "\n",
    "\n",
    "A borough is just a fancy word for district. You may be familiar with the five boroughs of New York… well, there are 32 boroughs within Greater London [(here's some info for the curious)](https://en.wikipedia.org/wiki/London_boroughs). Some of them are more desirable areas to live in, and the data will reflect that with a greater rise in housing prices.\n",
    "\n",
    "***This is the Tier 3 notebook, which means it's not filled in at all: we'll just give you the skeleton of a project, the brief and the data. It's up to you to play around with it and see what you can find out! Good luck! If you struggle, feel free to look at easier tiers for help; but try to dip in and out of them, as the more independent work you do, the better it is for your learning!***\n",
    "\n",
    "This challenge will make use of only what you learned in the following DataCamp courses: \n",
    "- Prework courses (Introduction to Python for Data Science, Intermediate Python for Data Science)\n",
    "- Data Types for Data Science\n",
    "- Python Data Science Toolbox (Part One) \n",
    "- pandas Foundations\n",
    "- Manipulating DataFrames with pandas\n",
    "- Merging DataFrames with pandas\n",
    "\n",
    "Of the tools, techniques and concepts in the above DataCamp courses, this challenge should require the application of the following: \n",
    "- **pandas**\n",
    "    - **data ingestion and inspection** (pandas Foundations, Module One) \n",
    "    - **exploratory data analysis** (pandas Foundations, Module Two)\n",
    "    - **tidying and cleaning** (Manipulating DataFrames with pandas, Module Three) \n",
    "    - **transforming DataFrames** (Manipulating DataFrames with pandas, Module One)\n",
    "    - **subsetting DataFrames with lists** (Manipulating DataFrames with pandas, Module One) \n",
    "    - **filtering DataFrames** (Manipulating DataFrames with pandas, Module One) \n",
    "    - **grouping data** (Manipulating DataFrames with pandas, Module Four) \n",
    "    - **melting data** (Manipulating DataFrames with pandas, Module Three) \n",
    "    - **advanced indexing** (Manipulating DataFrames with pandas, Module Four) \n",
    "- **matplotlib** (Intermediate Python for Data Science, Module One)\n",
    "- **fundamental data types** (Data Types for Data Science, Module One) \n",
    "- **dictionaries** (Intermediate Python for Data Science, Module Two)\n",
    "- **handling dates and times** (Data Types for Data Science, Module Four)\n",
    "- **function definition** (Python Data Science Toolbox - Part One, Module One)\n",
    "- **default arguments, variable length, and scope** (Python Data Science Toolbox - Part One, Module Two) \n",
    "- **lambda functions and error handling** (Python Data Science Toolbox - Part One, Module Four) "
   ]
  },
  {
   "cell_type": "markdown",
   "metadata": {
    "colab_type": "text",
    "id": "Ipgd2nV8Jpgl"
   },
   "source": [
    "## The Data Science Pipeline\n",
    "\n",
    "This is Tier Three, so we'll get you started. But after that, it's all in your hands! When you feel done with your investigations, look back over what you've accomplished, and prepare a quick presentation of your findings for the next mentor meeting. \n",
    "\n",
    "Data Science is magical. In this case study, you'll get to apply some complex machine learning algorithms. But as  [David Spiegelhalter](https://www.youtube.com/watch?v=oUs1uvsz0Ok) reminds us, there is no substitute for simply **taking a really, really good look at the data.** Sometimes, this is all we need to answer our question.\n",
    "\n",
    "Data Science projects generally adhere to the four stages of Data Science Pipeline:\n",
    "1. Sourcing and loading \n",
    "2. Cleaning, transforming, and visualizing \n",
    "3. Modeling \n",
    "4. Evaluating and concluding \n"
   ]
  },
  {
   "cell_type": "markdown",
   "metadata": {
    "colab_type": "text",
    "id": "zswDqbefJpgm"
   },
   "source": [
    "### 1. Sourcing and Loading \n",
    "\n",
    "Any Data Science project kicks off by importing  ***pandas***. The documentation of this wonderful library can be found [here](https://pandas.pydata.org/). As you've seen, pandas is conveniently connected to the [Numpy](http://www.numpy.org/) and [Matplotlib](https://matplotlib.org/) libraries. \n",
    "\n",
    "***Hint:*** This part of the data science pipeline will test those skills you acquired in the pandas Foundations course, Module One. "
   ]
  },
  {
   "cell_type": "markdown",
   "metadata": {
    "colab_type": "text",
    "id": "aEau5nEvJpgm"
   },
   "source": [
    "#### 1.1. Importing Libraries"
   ]
  },
  {
   "cell_type": "code",
   "execution_count": 2,
   "metadata": {
    "colab": {},
    "colab_type": "code",
    "id": "7Bt_Q_oPJpgn"
   },
   "outputs": [],
   "source": [
    "# Let's import the pandas, numpy libraries as pd, and np respectively. \n",
    "import pandas as pd\n",
    "import numpy as np\n",
    "from datetime import datetime\n",
    "import seaborn as sns\n",
    "\n",
    "# Load the pyplot collection of functions from matplotlib, as plt \n",
    "import matplotlib.pyplot as plt"
   ]
  },
  {
   "cell_type": "markdown",
   "metadata": {
    "colab_type": "text",
    "id": "koUrawxsJpgq"
   },
   "source": [
    "#### 1.2.  Loading the data\n",
    "Your data comes from the [London Datastore](https://data.london.gov.uk/): a free, open-source data-sharing portal for London-oriented datasets. "
   ]
  },
  {
   "cell_type": "code",
   "execution_count": 3,
   "metadata": {
    "colab": {},
    "colab_type": "code",
    "id": "AiLiD4v3Jpgr"
   },
   "outputs": [],
   "source": [
    "# First, make a variable called url_LondonHousePrices, and assign it the following link, enclosed in quotation-marks as a string:\n",
    "# https://data.london.gov.uk/download/uk-house-price-index/70ac0766-8902-4eb5-aab5-01951aaed773/UK%20House%20price%20index.xls\n",
    "\n",
    "url_LondonHousePrices = \"https://data.london.gov.uk/download/uk-house-price-index/70ac0766-8902-4eb5-aab5-01951aaed773/UK%20House%20price%20index.xls\"\n",
    "\n",
    "# The dataset we're interested in contains the Average prices of the houses, and is actually on a particular sheet of the Excel file. \n",
    "# As a result, we need to specify the sheet name in the read_excel() method.\n",
    "# Put this data into a variable called properties.  \n",
    "properties = pd.read_excel(url_LondonHousePrices, sheet_name='Average price', index_col= None)"
   ]
  },
  {
   "cell_type": "markdown",
   "metadata": {
    "colab_type": "text",
    "id": "POukEJXgJpgu"
   },
   "source": [
    "### 2. Cleaning, transforming, and visualizing\n",
    "This second stage is arguably the most important part of any Data Science project. The first thing to do is take a proper look at the data. Cleaning forms the majority of this stage, and can be done both before or after Transformation.\n",
    "\n",
    "The end goal of data cleaning is to have tidy data. When data is tidy: \n",
    "\n",
    "1. Each variable has a column.\n",
    "2. Each observation forms a row.\n",
    "\n",
    "Keep the end goal in mind as you move through this process, every step will take you closer. \n",
    "\n",
    "\n",
    "\n",
    "***Hint:*** This part of the data science pipeline should test those skills you acquired in: \n",
    "- Intermediate Python for data science, all modules.\n",
    "- pandas Foundations, all modules. \n",
    "- Manipulating DataFrames with pandas, all modules.\n",
    "- Data Types for Data Science, Module Four.\n",
    "- Python Data Science Toolbox - Part One, all modules"
   ]
  },
  {
   "cell_type": "markdown",
   "metadata": {
    "colab_type": "text",
    "id": "Te0Q548tnzZa"
   },
   "source": [
    "**2.1. Exploring your data** \n",
    "\n",
    "Think about your pandas functions for checking out a dataframe. "
   ]
  },
  {
   "cell_type": "code",
   "execution_count": 4,
   "metadata": {
    "colab": {},
    "colab_type": "code",
    "id": "Rxirxw_qoAJa"
   },
   "outputs": [
    {
     "name": "stdout",
     "output_type": "stream",
     "text": [
      "  Unnamed: 0 City of London Barking & Dagenham       Barnet       Bexley  \\\n",
      "0        NaT      E09000001          E09000002    E09000003    E09000004   \n",
      "1 1995-01-01    91448.98487         50460.2266  93284.51832  64958.09036   \n",
      "2 1995-02-01    82202.77314        51085.77983  93190.16963  64787.92069   \n",
      "3 1995-03-01    79120.70256        51268.96956  92247.52435  64367.49344   \n",
      "4 1995-04-01    77101.20804        53133.50526  90762.87492  64277.66881   \n",
      "\n",
      "         Brent      Bromley       Camden      Croydon       Ealing  ...  \\\n",
      "0    E09000005    E09000006    E09000007    E09000008    E09000009  ...   \n",
      "1  71306.56698  81671.47692  120932.8881  69158.16225  79885.89069  ...   \n",
      "2  72022.26197  81657.55944  119508.8622  68951.09542  80897.06551  ...   \n",
      "3  72015.76274  81449.31143  120282.2131  68712.44341  81379.86288  ...   \n",
      "4  72965.63094  81124.41227   120097.899  68610.04641  82188.90498  ...   \n",
      "\n",
      "    NORTH WEST YORKS & THE HUMBER EAST MIDLANDS WEST MIDLANDS EAST OF ENGLAND  \\\n",
      "0    E12000002          E12000003     E12000004     E12000005       E12000006   \n",
      "1  43958.48001        44803.42878   45544.52227   48527.52339      56701.5961   \n",
      "2  43925.42289        44528.80721   46051.57066   49341.29029     56593.59475   \n",
      "3   44434.8681        45200.46775   45383.82395   49442.17973     56171.18278   \n",
      "4   44267.7796        45614.34341   46124.23045   49455.93299     56567.89582   \n",
      "\n",
      "        LONDON   SOUTH EAST   SOUTH WEST Unnamed: 47      England  \n",
      "0    E12000007    E12000008    E12000009         NaN    E92000001  \n",
      "1  74435.76052  64018.87894   54705.1579         NaN  53202.77128  \n",
      "2  72777.93709  63715.02399  54356.14843         NaN   53096.1549  \n",
      "3  73896.84204  64113.60858  53583.07667         NaN   53201.2843  \n",
      "4  74455.28754  64623.22395  54786.01938         NaN   53590.8548  \n",
      "\n",
      "[5 rows x 49 columns]\n"
     ]
    }
   ],
   "source": [
    "print(properties.head())"
   ]
  },
  {
   "cell_type": "code",
   "execution_count": 5,
   "metadata": {},
   "outputs": [
    {
     "name": "stdout",
     "output_type": "stream",
     "text": [
      "  Unnamed: 0 City of London Barking & Dagenham       Barnet       Bexley\n",
      "0        NaT      E09000001          E09000002    E09000003    E09000004\n",
      "1    1995-01    91448.98487         50460.2266  93284.51832  64958.09036\n",
      "2    1995-02    82202.77314        51085.77983  93190.16963  64787.92069\n"
     ]
    }
   ],
   "source": [
    "y_m = []\n",
    "for time in properties.iloc[1:,0]:\n",
    "      year_month = pd.to_datetime(time)\n",
    "      year_month = datetime.strftime(year_month,'%Y-%m')\n",
    "      y_m.append( year_month)\n",
    "# print(y_m[2:5])\n",
    "\n",
    "properties.iloc[1:,0] = y_m\n",
    "print(properties.iloc[0:3, 0:5])"
   ]
  },
  {
   "cell_type": "markdown",
   "metadata": {
    "colab_type": "text",
    "id": "tE9Sqt9-oAta"
   },
   "source": [
    "**2.2. Cleaning the data**\n",
    "\n",
    "You might find you need to transpose your dataframe, check out what its row indexes are, and reset the index. You  also might find you need to assign the values of the first row to your column headings  . (Hint: recall the .columns feature of DataFrames, as well as the iloc[] method).\n",
    "\n",
    "Don't be afraid to use StackOverflow for help  with this."
   ]
  },
  {
   "cell_type": "code",
   "execution_count": 6,
   "metadata": {
    "colab": {},
    "colab_type": "code",
    "id": "cdAu1A3YoH_r"
   },
   "outputs": [
    {
     "name": "stdout",
     "output_type": "stream",
     "text": [
      "0        NaT\n",
      "1    1995-01\n",
      "2    1995-02\n",
      "3    1995-03\n",
      "4    1995-04\n",
      "5    1995-05\n",
      "6    1995-06\n",
      "7    1995-07\n",
      "8    1995-08\n",
      "9    1995-09\n",
      "Name: Unnamed: 0, dtype: object\n"
     ]
    }
   ],
   "source": [
    "properties = properties.transpose()\n",
    "print(properties.iloc[0,:10])\n"
   ]
  },
  {
   "cell_type": "code",
   "execution_count": 7,
   "metadata": {},
   "outputs": [
    {
     "name": "stdout",
     "output_type": "stream",
     "text": [
      "Unnamed: 0\n",
      "NaN            NaT\n",
      "1995-01    1995-01\n",
      "1995-02    1995-02\n",
      "1995-03    1995-03\n",
      "1995-04    1995-04\n",
      "1995-05    1995-05\n",
      "1995-06    1995-06\n",
      "1995-07    1995-07\n",
      "1995-08    1995-08\n",
      "1995-09    1995-09\n",
      "Name: Unnamed: 0, dtype: object\n"
     ]
    }
   ],
   "source": [
    "properties.columns = properties.iloc[0,:]\n",
    "print(properties.iloc[0,:10])"
   ]
  },
  {
   "cell_type": "code",
   "execution_count": 8,
   "metadata": {},
   "outputs": [
    {
     "name": "stdout",
     "output_type": "stream",
     "text": [
      "Unnamed: 0                NaN      1995-01      1995-02      1995-03  \\\n",
      "City of London      E09000001  91448.98487  82202.77314  79120.70256   \n",
      "Barking & Dagenham  E09000002   50460.2266  51085.77983  51268.96956   \n",
      "Barnet              E09000003  93284.51832  93190.16963  92247.52435   \n",
      "Bexley              E09000004  64958.09036  64787.92069  64367.49344   \n",
      "Brent               E09000005  71306.56698  72022.26197  72015.76274   \n",
      "\n",
      "Unnamed: 0              1995-04      1995-05      1995-06      1995-07  \\\n",
      "City of London      77101.20804  84409.14932  94900.51244  110128.0423   \n",
      "Barking & Dagenham  53133.50526  53042.24852  53700.34831  52113.12157   \n",
      "Barnet              90762.87492  90258.00033  90107.23471  91441.24768   \n",
      "Bexley              64277.66881  63997.13588  64252.32335  63722.70055   \n",
      "Brent               72965.63094  73704.04743  74310.48167  74127.03788   \n",
      "\n",
      "Unnamed: 0              1995-08      1995-09  ...      2020-07      2020-08  \\\n",
      "City of London      112329.4376  104473.1096  ...  786626.6665  827658.5167   \n",
      "Barking & Dagenham  52232.19868  51471.61353  ...  304555.5886  304923.5027   \n",
      "Barnet              92361.31512  93273.12245  ...  523279.8903  529660.1524   \n",
      "Bexley              64432.60005  64509.54767  ...  344091.2308  346679.9244   \n",
      "Brent                73547.0411  73789.54287  ...  482303.0931  497729.0327   \n",
      "\n",
      "Unnamed: 0              2020-09      2020-10      2020-11      2020-12  \\\n",
      "City of London      798499.1646  836807.0518  769391.7847  801999.0466   \n",
      "Barking & Dagenham  301702.4656  304852.1338  305012.3291  309560.1023   \n",
      "Barnet                533619.23  530353.5205  528816.4928  532528.0926   \n",
      "Bexley              345061.4945  345404.9836  346252.9145  352260.8385   \n",
      "Brent               519561.8277  522239.3216   513100.814  495066.6459   \n",
      "\n",
      "Unnamed: 0              2021-01      2021-02      2021-03      2021-04  \n",
      "City of London      770030.8669  741900.0531  742627.5735  793431.7231  \n",
      "Barking & Dagenham  311332.8343  313825.9102   315750.633  312287.8094  \n",
      "Barnet              544412.9646  542544.8703   538884.201  544682.0964  \n",
      "Bexley              357006.2787  360401.9947  364888.3401  358959.2269  \n",
      "Brent                 510761.24  513926.8708  509360.1162  479009.9817  \n",
      "\n",
      "[5 rows x 317 columns]\n"
     ]
    }
   ],
   "source": [
    "properties.drop(properties.index[[0]], inplace=True)\n",
    "print(properties.head())"
   ]
  },
  {
   "cell_type": "code",
   "execution_count": 9,
   "metadata": {},
   "outputs": [
    {
     "name": "stdout",
     "output_type": "stream",
     "text": [
      "Unnamed: 0               index        NaN      1995-01      1995-02  \\\n",
      "0               City of London  E09000001  91448.98487  82202.77314   \n",
      "1           Barking & Dagenham  E09000002   50460.2266  51085.77983   \n",
      "2                       Barnet  E09000003  93284.51832  93190.16963   \n",
      "3                       Bexley  E09000004  64958.09036  64787.92069   \n",
      "4                        Brent  E09000005  71306.56698  72022.26197   \n",
      "\n",
      "Unnamed: 0      1995-03      1995-04      1995-05      1995-06      1995-07  \\\n",
      "0           79120.70256  77101.20804  84409.14932  94900.51244  110128.0423   \n",
      "1           51268.96956  53133.50526  53042.24852  53700.34831  52113.12157   \n",
      "2           92247.52435  90762.87492  90258.00033  90107.23471  91441.24768   \n",
      "3           64367.49344  64277.66881  63997.13588  64252.32335  63722.70055   \n",
      "4           72015.76274  72965.63094  73704.04743  74310.48167  74127.03788   \n",
      "\n",
      "Unnamed: 0      1995-08  ...      2020-07      2020-08      2020-09  \\\n",
      "0           112329.4376  ...  786626.6665  827658.5167  798499.1646   \n",
      "1           52232.19868  ...  304555.5886  304923.5027  301702.4656   \n",
      "2           92361.31512  ...  523279.8903  529660.1524    533619.23   \n",
      "3           64432.60005  ...  344091.2308  346679.9244  345061.4945   \n",
      "4            73547.0411  ...  482303.0931  497729.0327  519561.8277   \n",
      "\n",
      "Unnamed: 0      2020-10      2020-11      2020-12      2021-01      2021-02  \\\n",
      "0           836807.0518  769391.7847  801999.0466  770030.8669  741900.0531   \n",
      "1           304852.1338  305012.3291  309560.1023  311332.8343  313825.9102   \n",
      "2           530353.5205  528816.4928  532528.0926  544412.9646  542544.8703   \n",
      "3           345404.9836  346252.9145  352260.8385  357006.2787  360401.9947   \n",
      "4           522239.3216   513100.814  495066.6459    510761.24  513926.8708   \n",
      "\n",
      "Unnamed: 0      2021-03      2021-04  \n",
      "0           742627.5735  793431.7231  \n",
      "1            315750.633  312287.8094  \n",
      "2            538884.201  544682.0964  \n",
      "3           364888.3401  358959.2269  \n",
      "4           509360.1162  479009.9817  \n",
      "\n",
      "[5 rows x 318 columns]\n"
     ]
    }
   ],
   "source": [
    "properties = properties.reset_index()\n",
    "print (properties.head())"
   ]
  },
  {
   "cell_type": "markdown",
   "metadata": {
    "colab_type": "text",
    "id": "o1uLbJAsoIjK"
   },
   "source": [
    "**2.3. Cleaning the data (part 2)**\n",
    "\n",
    "You might we have to **rename** a couple columns. How do you do this? The clue's pretty bold..."
   ]
  },
  {
   "cell_type": "code",
   "execution_count": 10,
   "metadata": {
    "colab": {},
    "colab_type": "code",
    "id": "GKkmn1AnoVZS"
   },
   "outputs": [
    {
     "name": "stdout",
     "output_type": "stream",
     "text": [
      "Index(['District',        NaT,  '1995-01',  '1995-02',  '1995-03',  '1995-04',\n",
      "        '1995-05',  '1995-06',  '1995-07',  '1995-08',\n",
      "       ...\n",
      "        '2020-07',  '2020-08',  '2020-09',  '2020-10',  '2020-11',  '2020-12',\n",
      "        '2021-01',  '2021-02',  '2021-03',  '2021-04'],\n",
      "      dtype='object', name='Unnamed: 0', length=318)\n"
     ]
    }
   ],
   "source": [
    "properties.rename(columns = {'index':'District', 'NaN' : 'ID'}, inplace=True)\n",
    "print (properties.columns)"
   ]
  },
  {
   "cell_type": "markdown",
   "metadata": {
    "colab_type": "text",
    "id": "jy8BzXHmoWEw"
   },
   "source": [
    "**2.4.Transforming the data**\n",
    "\n",
    "Remember what Wes McKinney said about tidy data? \n",
    "\n",
    "You might need to **melt** your DataFrame here. "
   ]
  },
  {
   "cell_type": "code",
   "execution_count": null,
   "metadata": {
    "colab": {},
    "colab_type": "code",
    "id": "S2wM0qLuo2Zt"
   },
   "outputs": [],
   "source": []
  },
  {
   "cell_type": "markdown",
   "metadata": {
    "colab_type": "text",
    "id": "7kIsgAo7o3mf"
   },
   "source": [
    "Remember to make sure your column data types are all correct. Average prices, for example, should be floating point numbers... "
   ]
  },
  {
   "cell_type": "code",
   "execution_count": 11,
   "metadata": {
    "colab": {},
    "colab_type": "code",
    "id": "ZcR4IHbcpOaq"
   },
   "outputs": [
    {
     "name": "stdout",
     "output_type": "stream",
     "text": [
      "Unnamed: 0\n",
      "District    object\n",
      "NaN         object\n",
      "1995-01     object\n",
      "1995-02     object\n",
      "1995-03     object\n",
      "             ...  \n",
      "2020-12     object\n",
      "2021-01     object\n",
      "2021-02     object\n",
      "2021-03     object\n",
      "2021-04     object\n",
      "Length: 318, dtype: object\n"
     ]
    }
   ],
   "source": [
    "print(properties.dtypes)"
   ]
  },
  {
   "cell_type": "markdown",
   "metadata": {
    "colab_type": "text",
    "id": "knLUXHLypOtw"
   },
   "source": [
    "**2.5. Cleaning the data (part 3)**\n",
    "\n",
    "Do we have an equal number of observations in the ID, Average Price, Month, and London Borough columns? Remember that there are only 32 London Boroughs. How many entries do you have in that column? \n",
    "\n",
    "Check out the contents of the London Borough column, and if you find null values, get rid of them however you see fit. "
   ]
  },
  {
   "cell_type": "code",
   "execution_count": 12,
   "metadata": {
    "colab": {},
    "colab_type": "code",
    "id": "BnvTW5a3p0fC"
   },
   "outputs": [
    {
     "name": "stdout",
     "output_type": "stream",
     "text": [
      "0           City of London\n",
      "1       Barking & Dagenham\n",
      "2                   Barnet\n",
      "3                   Bexley\n",
      "4                    Brent\n",
      "5                  Bromley\n",
      "6                   Camden\n",
      "7                  Croydon\n",
      "8                   Ealing\n",
      "9                  Enfield\n",
      "10               Greenwich\n",
      "11                 Hackney\n",
      "12    Hammersmith & Fulham\n",
      "13                Haringey\n",
      "14                  Harrow\n",
      "15                Havering\n",
      "16              Hillingdon\n",
      "17                Hounslow\n",
      "18               Islington\n",
      "19    Kensington & Chelsea\n",
      "20    Kingston upon Thames\n",
      "21                 Lambeth\n",
      "22                Lewisham\n",
      "23                  Merton\n",
      "24                  Newham\n",
      "25               Redbridge\n",
      "26    Richmond upon Thames\n",
      "27               Southwark\n",
      "28                  Sutton\n",
      "29           Tower Hamlets\n",
      "30          Waltham Forest\n",
      "31              Wandsworth\n",
      "32             Westminster\n",
      "33             Unnamed: 34\n",
      "34            Inner London\n",
      "35            Outer London\n",
      "36             Unnamed: 37\n",
      "37              NORTH EAST\n",
      "38              NORTH WEST\n",
      "39      YORKS & THE HUMBER\n",
      "40           EAST MIDLANDS\n",
      "41           WEST MIDLANDS\n",
      "42         EAST OF ENGLAND\n",
      "43                  LONDON\n",
      "44              SOUTH EAST\n",
      "45              SOUTH WEST\n",
      "46             Unnamed: 47\n",
      "47                 England\n",
      "Name: District, dtype: object\n"
     ]
    }
   ],
   "source": [
    "print(properties['District'])"
   ]
  },
  {
   "cell_type": "code",
   "execution_count": 13,
   "metadata": {},
   "outputs": [
    {
     "name": "stdout",
     "output_type": "stream",
     "text": [
      "32\n"
     ]
    }
   ],
   "source": [
    "District_list = ['Barking & Dagenham', 'Barnet', 'Bexley', 'Brent', 'Bromley', 'Camden', \\\n",
    "                 'Croydon', 'Ealing', 'Enfield', 'Greenwich', 'Hackney', \\\n",
    "                 'Hammersmith & Fulham', 'Haringey', 'Harrow', 'Havering', 'Hillingdon', \\\n",
    "                 'Hounslow', 'Islington', 'Kensington & Chelsea', 'Kingston upon Thames', \\\n",
    "                 'Lambeth', 'Lewisham', 'Merton', 'Newham', 'Redbridge', 'Richmond upon Thames', \\\n",
    "                 'Southwark', 'Sutton', 'Tower Hamlets', 'Waltham Forest', 'Wandsworth', 'Westminster']\n",
    "print(len(District_list))"
   ]
  },
  {
   "cell_type": "code",
   "execution_count": 14,
   "metadata": {},
   "outputs": [
    {
     "name": "stdout",
     "output_type": "stream",
     "text": [
      "32\n"
     ]
    }
   ],
   "source": [
    "properties_32 = properties[properties['District'].isin(District_list)]\n",
    "print(len(properties_32))"
   ]
  },
  {
   "cell_type": "code",
   "execution_count": 15,
   "metadata": {},
   "outputs": [
    {
     "name": "stdout",
     "output_type": "stream",
     "text": [
      "Missing in District column:  0\n",
      "Unnamed: 0\n",
      "District    False\n",
      "NaN         False\n",
      "1995-01     False\n",
      "1995-02     False\n",
      "1995-03     False\n",
      "            ...  \n",
      "2020-12     False\n",
      "2021-01     False\n",
      "2021-02     False\n",
      "2021-03     False\n",
      "2021-04     False\n",
      "Length: 318, dtype: bool\n",
      "Unnamed: 0   District        NaN      1995-01      1995-02      1995-03  \\\n",
      "count              32         32     32.00000     32.00000     32.00000   \n",
      "unique             32         32     32.00000     32.00000     32.00000   \n",
      "top         Greenwich  E09000013  72514.69096  80897.06551  60288.03002   \n",
      "freq                1          1      1.00000      1.00000      1.00000   \n",
      "\n",
      "Unnamed: 0      1995-04      1995-05      1995-06      1995-07      1995-08  \\\n",
      "count          32.00000     32.00000     32.00000     32.00000     32.00000   \n",
      "unique         32.00000     32.00000     32.00000     32.00000     32.00000   \n",
      "top         68610.04641  66432.85846  80704.92667  89830.58934  68096.79385   \n",
      "freq            1.00000      1.00000      1.00000      1.00000      1.00000   \n",
      "\n",
      "Unnamed: 0  ...      2020-07      2020-08      2020-09     2020-10  \\\n",
      "count       ...      32.0000      32.0000      32.0000      32.000   \n",
      "unique      ...      32.0000      32.0000      32.0000      32.000   \n",
      "top         ...  584128.3138  497729.0327  467584.3014  827264.235   \n",
      "freq        ...       1.0000       1.0000       1.0000       1.000   \n",
      "\n",
      "Unnamed: 0      2020-11      2020-12      2021-01     2021-02      2021-03  \\\n",
      "count           32.0000      32.0000      32.0000      32.000      32.0000   \n",
      "unique          32.0000      32.0000      32.0000      32.000      32.0000   \n",
      "top         381291.8052  352260.8385  543076.8118  459090.234  687232.7083   \n",
      "freq             1.0000       1.0000       1.0000       1.000       1.0000   \n",
      "\n",
      "Unnamed: 0      2021-04  \n",
      "count           32.0000  \n",
      "unique          32.0000  \n",
      "top         382016.3955  \n",
      "freq             1.0000  \n",
      "\n",
      "[4 rows x 318 columns]\n"
     ]
    }
   ],
   "source": [
    "print('Missing in District column: ', properties_32['District'].isna().sum())\n",
    "print(properties_32.isna().any())\n",
    "print(properties_32.describe())"
   ]
  },
  {
   "cell_type": "code",
   "execution_count": 16,
   "metadata": {},
   "outputs": [
    {
     "name": "stdout",
     "output_type": "stream",
     "text": [
      "             District    Month        Price\n",
      "0  Barking & Dagenham  1995-01   50460.2266\n",
      "1              Barnet  1995-01  93284.51832\n",
      "2              Bexley  1995-01  64958.09036\n",
      "3               Brent  1995-01  71306.56698\n",
      "4             Bromley  1995-01  81671.47692\n"
     ]
    }
   ],
   "source": [
    "melt = properties_32.melt(id_vars = ['District'], value_vars = y_m,\\\n",
    "                   var_name = ['Month'], value_name = 'Price') \n",
    "print(melt.head())"
   ]
  },
  {
   "cell_type": "markdown",
   "metadata": {
    "colab_type": "text",
    "id": "PGEx6mJsp6dG"
   },
   "source": [
    "**2.6. Visualizing the data**\n",
    "\n",
    "To visualize the data, why not subset on a particular London Borough? Maybe do a line plot of Month against Average Price?"
   ]
  },
  {
   "cell_type": "code",
   "execution_count": 17,
   "metadata": {
    "colab": {},
    "colab_type": "code",
    "id": "nAg5pT9cqHAR"
   },
   "outputs": [
    {
     "name": "stdout",
     "output_type": "stream",
     "text": [
      "             District    Month        Price  Year\n",
      "0  Barking & Dagenham  1995-01   50460.2266  1995\n",
      "1              Barnet  1995-01  93284.51832  1995\n",
      "2              Bexley  1995-01  64958.09036  1995\n",
      "3               Brent  1995-01  71306.56698  1995\n",
      "4             Bromley  1995-01  81671.47692  1995\n"
     ]
    }
   ],
   "source": [
    "# years = []\n",
    "# for time in melt['Month']:\n",
    "      # year = time[0:4]\n",
    "      # years.append(year)\n",
    "# print(years[0:5])\n",
    "\n",
    "# melt['Year'] = years\n",
    "\n",
    "# Use lambda as directions\n",
    "melt['Year'] = [month[0:4] for month in melt['Month'] ]\n",
    "\n",
    "# Check\n",
    "print(melt.head())\n"
   ]
  },
  {
   "cell_type": "markdown",
   "metadata": {
    "colab_type": "text",
    "id": "aWTPqSJeqHnC"
   },
   "source": [
    "To limit the number of data points you have, you might want to extract the year from every month value your *Month* column. \n",
    "\n",
    "To this end, you *could* apply a ***lambda function***. Your logic could work as follows:\n",
    "1. look through the `Month` column\n",
    "2. extract the year from each individual value in that column \n",
    "3. store that corresponding year as separate column. \n",
    "\n",
    "Whether you go ahead with this is up to you. Just so long as you answer our initial brief: which boroughs of London have seen the greatest house price increase, on average, over the past two decades? "
   ]
  },
  {
   "cell_type": "code",
   "execution_count": 18,
   "metadata": {
    "colab": {},
    "colab_type": "code",
    "id": "e0DF92cyqnu8"
   },
   "outputs": [
    {
     "name": "stdout",
     "output_type": "stream",
     "text": [
      "District     object\n",
      "Month        object\n",
      "Price       float64\n",
      "Year         object\n",
      "dtype: object\n",
      "District            Year\n",
      "Barking & Dagenham  1995    51817.969390\n",
      "                    1996    51718.192690\n",
      "                    1997    55974.262309\n",
      "                    1998    60285.821083\n",
      "                    1999    65320.934441\n",
      "Name: Price, dtype: float64\n"
     ]
    },
    {
     "data": {
      "text/plain": [
       "0"
      ]
     },
     "execution_count": 18,
     "metadata": {},
     "output_type": "execute_result"
    }
   ],
   "source": [
    "melt['Price'] = pd.to_numeric(melt['Price'])\n",
    "print(melt.dtypes)\n",
    "Grouped = melt.groupby(['District','Year'])['Price'].mean()\n",
    "print (Grouped.head())\n",
    "\n",
    "# make sure no missing values\n",
    "Grouped.isna().sum()"
   ]
  },
  {
   "cell_type": "code",
   "execution_count": 19,
   "metadata": {},
   "outputs": [
    {
     "name": "stdout",
     "output_type": "stream",
     "text": [
      "             District  Year         Price\n",
      "0  Barking & Dagenham  1995  51817.969390\n",
      "1  Barking & Dagenham  1996  51718.192690\n",
      "2  Barking & Dagenham  1997  55974.262309\n",
      "3  Barking & Dagenham  1998  60285.821083\n",
      "4  Barking & Dagenham  1999  65320.934441\n",
      "        District  Year         Price\n",
      "859  Westminster  2017  1.064772e+06\n",
      "860  Westminster  2018  1.020025e+06\n",
      "861  Westminster  2019  9.559986e+05\n",
      "862  Westminster  2020  9.604692e+05\n",
      "863  Westminster  2021  9.393574e+05\n"
     ]
    }
   ],
   "source": [
    "Grouped = Grouped.reset_index()\n",
    "print(Grouped.head())\n",
    "print(Grouped.tail())"
   ]
  },
  {
   "cell_type": "code",
   "execution_count": 20,
   "metadata": {},
   "outputs": [
    {
     "name": "stdout",
     "output_type": "stream",
     "text": [
      "               District  Year          Price\n",
      "26   Barking & Dagenham  2021  313299.296725\n",
      "53               Barnet  2021  542631.033075\n",
      "80               Bexley  2021  360313.960100\n",
      "107               Brent  2021  503264.552175\n",
      "134             Bromley  2021  459097.344425\n",
      "512    Kensington & Chelsea\n",
      "Name: District, dtype: object\n"
     ]
    }
   ],
   "source": [
    "Year_2021 = Grouped[Grouped[\"Year\"]=='2021']\n",
    "print(Year_2021.head())\n",
    "Max_2021=Year_2021[Year_2021['Price']== Year_2021['Price'].max()]['District']\n",
    "print(Max_2021)"
   ]
  },
  {
   "cell_type": "code",
   "execution_count": 21,
   "metadata": {},
   "outputs": [],
   "source": [
    "def price (year, district):\n",
    "    price = float(Grouped[(Grouped[\"Year\"]== year) & (Grouped[\"District\"] == district)]['Price']) \n",
    "    return price"
   ]
  },
  {
   "cell_type": "code",
   "execution_count": 22,
   "metadata": {},
   "outputs": [
    {
     "name": "stdout",
     "output_type": "stream",
     "text": [
      "132727.506075\n"
     ]
    }
   ],
   "source": [
    "print(price('2000','Hackney'))"
   ]
  },
  {
   "cell_type": "code",
   "execution_count": 23,
   "metadata": {},
   "outputs": [
    {
     "data": {
      "image/png": "[encoded data removed]",
      "text/plain": [
       "<Figure size 720x432 with 1 Axes>"
      ]
     },
     "metadata": {
      "needs_background": "light"
     },
     "output_type": "display_data"
    }
   ],
   "source": [
    "plt.figure(figsize=(10, 6))\n",
    "sns.lineplot(x='Year', y='Price', data=Grouped, hue='District')\n",
    "plt.legend(bbox_to_anchor=(1.05, 1), loc='upper left')\n",
    "plt.xticks(rotation=90)\n",
    "plt.show()"
   ]
  },
  {
   "cell_type": "code",
   "execution_count": 24,
   "metadata": {},
   "outputs": [],
   "source": [
    "def increase_ratio (year1, year2, district):\n",
    "    # year1 must be larger than year2\n",
    "    Year1_price = float(Grouped[(Grouped[\"Year\"]== year1) & (Grouped[\"District\"] == district)]['Price'])\n",
    "    Year2_price = float(Grouped[(Grouped[\"Year\"]== year2) & (Grouped[\"District\"] == district)]['Price'])\n",
    "    increase = float(Grouped[(Grouped[\"Year\"]== year1) & (Grouped[\"District\"] == district)]['Price'])\\\n",
    "               -float(Grouped[(Grouped[\"Year\"]== year2) & (Grouped[\"District\"] == district)]['Price'])\n",
    "    ratio = float(Grouped[(Grouped[\"Year\"]== year1) & (Grouped[\"District\"] == district)]['Price'])\\\n",
    "               /float(Grouped[(Grouped[\"Year\"]== year2) & (Grouped[\"District\"] == district)]['Price']) -1\n",
    "    value = str('For ' + district + ', ' + 'Year1 Price = ' + str(Year1_price)+ ', ' \\\n",
    "                + 'Year2 Price = ' + str(Year2_price)+ ', ' \\\n",
    "                +  'Increase value = ' + str(int(increase))+', '\\\n",
    "                + 'Increased ratio = ' + str(int(ratio)))\n",
    "    return value"
   ]
  },
  {
   "cell_type": "code",
   "execution_count": 25,
   "metadata": {},
   "outputs": [
    {
     "name": "stdout",
     "output_type": "stream",
     "text": [
      "For Hackney, Year1 Price = 582295.4251416667, Year2 Price = 132727.506075, Increase value = 449567, Increased ratio = 3\n"
     ]
    }
   ],
   "source": [
    "print(increase_ratio('2020', '2000', 'Hackney'))"
   ]
  },
  {
   "cell_type": "markdown",
   "metadata": {
    "colab_type": "text",
    "id": "2knuTxAEqoJ4"
   },
   "source": [
    "**3. Modeling**\n",
    "\n",
    "Consider creating a function that will calculate a ratio of house prices, comparing the price of a house in 2018 to the price in 1998.\n",
    "\n",
    "Consider calling this function create_price_ratio.\n",
    "\n",
    "You'd want this function to:\n",
    "1. Take a filter of dfg, specifically where this filter constrains the London_Borough, as an argument. For example, one admissible argument should be: dfg[dfg['London_Borough']=='Camden'].\n",
    "2. Get the Average Price for that Borough, for the years 1998 and 2018.\n",
    "4. Calculate the ratio of the Average Price for 1998 divided by the Average Price for 2018.\n",
    "5. Return that ratio.\n",
    "\n",
    "Once you've written this function, you ultimately want to use it to iterate through all the unique London_Boroughs and work out the ratio capturing the difference of house prices between 1998 and 2018.\n",
    "\n",
    "Bear in mind: you don't have to write a function like this if you don't want to. If you can solve the brief otherwise, then great! \n",
    "\n",
    "***Hint***: This section should test the skills you acquired in:\n",
    "- Python Data Science Toolbox - Part One, all modules"
   ]
  },
  {
   "cell_type": "code",
   "execution_count": 26,
   "metadata": {
    "colab": {},
    "colab_type": "code",
    "id": "cKTyr437UgDa"
   },
   "outputs": [],
   "source": [
    "# use year1 > year2 \n",
    "def filter (year1,year2):\n",
    "\n",
    "    Increase = {}\n",
    "    Ratio = {}\n",
    "    Ratio_min ={}\n",
    "    for borough in Grouped['District']:\n",
    "        By_borough = Grouped[Grouped['District'] == borough]\n",
    "        increase = float(By_borough[By_borough['Year'] == year1]['Price'])-\\\n",
    "        float(By_borough[By_borough['Year'] == year2]['Price'])\n",
    "        ratio = float(By_borough[By_borough['Year'] == year1]['Price'])/\\\n",
    "        float(By_borough[By_borough['Year'] == year2]['Price'])\n",
    "    \n",
    "## round to 2 decimals, not really needed\n",
    "        Increase[borough] = float(\"{:.2f}\".format(increase))\n",
    "        Ratio[borough] = float(\"{:.2f}\".format(ratio))\n",
    "    # df = pd.DataFrame(list(zip(London_borough, Increase)),columns =['District', 'Increase'])\n",
    "    Max_Increase = max(Increase, key=Increase.get)\n",
    "    Max_Ratio = max(Ratio, key=Ratio.get)\n",
    "    max_increase_value = Increase[Max_Increase]\n",
    "    max_ratio_value = float(\"{:.2f}\".format(Ratio[Max_Ratio]-1))\n",
    "    \n",
    "    two_district = str('For ' + year1 + ' and ' + year2 + ' : ' 'Max Increased Value: ' + Max_Increase + \\\n",
    "                       ' , ' + str(max_increase_value)\\\n",
    "                       + '; Max Increased Ratio: ' +  Max_Ratio +' , ' + str(max_ratio_value))\n",
    "   \n",
    "    return two_district"
   ]
  },
  {
   "cell_type": "code",
   "execution_count": 27,
   "metadata": {},
   "outputs": [
    {
     "name": "stdout",
     "output_type": "stream",
     "text": [
      "For 2020 and 2000 : Max Increased Value: Kensington & Chelsea , 949560.75; Max Increased Ratio: Hackney , 3.39\n",
      "For 2021 and 2001 : Max Increased Value: Kensington & Chelsea , 826944.81; Max Increased Ratio: Waltham Forest , 3.05\n",
      "For 2019 and 1999 : Max Increased Value: Kensington & Chelsea , 929967.41; Max Increased Ratio: Hackney , 4.26\n",
      "For 2018 and 1998 : Max Increased Value: Kensington & Chelsea , 1095530.0; Max Increased Ratio: Hackney , 5.2\n"
     ]
    }
   ],
   "source": [
    "print(filter('2020','2000'))\n",
    "print(filter('2021','2001'))\n",
    "print(filter('2019','1999'))\n",
    "print(filter('2018', '1998'))"
   ]
  },
  {
   "cell_type": "markdown",
   "metadata": {
    "colab_type": "text",
    "id": "NzYUI7FxJpgv"
   },
   "source": [
    "### 4. Conclusion\n",
    "What can you conclude? Type out your conclusion below. \n",
    "\n",
    "Look back at your notebook. Think about how you might summarize what you have done, and prepare a quick presentation on it to your mentor at your next meeting. \n",
    "\n",
    "We hope you enjoyed this practical project. It should have consolidated your data hygiene and pandas skills by looking at a real-world problem involving just the kind of dataset you might encounter as a budding data scientist. Congratulations, and looking forward to seeing you at the next step in the course! "
   ]
  },
  {
   "cell_type": "code",
   "execution_count": 29,
   "metadata": {},
   "outputs": [],
   "source": [
    "# Conclustion: The most increased values from 1998-2018, 1999-2019, 2000-2020, 2001-2021 are all Kensington & Chelsea. But if using increasing rate, there are other results.\n",
    "# Use data from 2000-2020, Hackney has the highest increasing rate of about 3.4-fold. (Waltham Forest has a very close number that roundup to 3.4 also. The values for Kensington & Chelsea showed only about a 2-fold increase). \n",
    "# By changing the starting and ending years, such as 2001-2021, The highest increased rate happened in Waltham Forest, a 3-fold increase from 118,843 in 2001. (Hackney had a 2.9-fold change in this period).\n"
   ]
  },
  {
   "cell_type": "code",
   "execution_count": null,
   "metadata": {},
   "outputs": [],
   "source": []
  }
 ],
 "metadata": {
  "colab": {
   "collapsed_sections": [],
   "name": "Springboard Data Science Career Track Unit 4 Challenge - Tier 3 Complete .ipynb",
   "provenance": []
  },
  "kernelspec": {
   "display_name": "Python 3",
   "language": "python",
   "name": "python3"
  },
  "language_info": {
   "codemirror_mode": {
    "name": "ipython",
    "version": 3
   },
   "file_extension": ".py",
   "mimetype": "text/x-python",
   "name": "python",
   "nbconvert_exporter": "python",
   "pygments_lexer": "ipython3",
   "version": "3.8.8"
  }
 },
 "nbformat": 4,
 "nbformat_minor": 1
}
