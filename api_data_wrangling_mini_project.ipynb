{
 "cells": [
  {
   "cell_type": "markdown",
   "metadata": {},
   "source": [
    "This exercise will require you to pull some data from the Qunadl API. Qaundl is currently the most widely used aggregator of financial market data."
   ]
  },
  {
   "cell_type": "markdown",
   "metadata": {},
   "source": [
    "As a first step, you will need to register a free account on the http://www.quandl.com website."
   ]
  },
  {
   "cell_type": "markdown",
   "metadata": {},
   "source": [
    "After you register, you will be provided with a unique API key, that you should store:"
   ]
  },
  {
   "cell_type": "code",
   "execution_count": 1,
   "metadata": {
    "jupyter": {
     "outputs_hidden": true
    }
   },
   "outputs": [],
   "source": [
    "# Store the API key as a string - according to PEP8, constants are always named in all upper case\n",
    "API_KEY = 'wG17Do_um4yWxYJ3ij21'"
   ]
  },
  {
   "cell_type": "markdown",
   "metadata": {},
   "source": [
    "Qaundl has a large number of data sources, but, unfortunately, most of them require a Premium subscription. Still, there are also a good number of free datasets."
   ]
  },
  {
   "cell_type": "markdown",
   "metadata": {},
   "source": [
    "For this mini project, we will focus on equities data from the Frankfurt Stock Exhange (FSE), which is available for free. We'll try and analyze the stock prices of a company called Carl Zeiss Meditec, which manufactures tools for eye examinations, as well as medical lasers for laser eye surgery: https://www.zeiss.com/meditec/int/home.html. The company is listed under the stock ticker AFX_X."
   ]
  },
  {
   "cell_type": "markdown",
   "metadata": {},
   "source": [
    "You can find the detailed Quandl API instructions here: https://docs.quandl.com/docs/time-series"
   ]
  },
  {
   "cell_type": "markdown",
   "metadata": {},
   "source": [
    "While there is a dedicated Python package for connecting to the Quandl API, we would prefer that you use the *requests* package, which can be easily downloaded using *pip* or *conda*. You can find the documentation for the package here: http://docs.python-requests.org/en/master/ "
   ]
  },
  {
   "cell_type": "markdown",
   "metadata": {},
   "source": [
    "Finally, apart from the *requests* package, you are encouraged to not use any third party Python packages, such as *pandas*, and instead focus on what's available in the Python Standard Library (the *collections* module might come in handy: https://pymotw.com/3/collections/ ).\n",
    "Also, since you won't have access to DataFrames, you are encouraged to us Python's native data structures - preferably dictionaries, though some questions can also be answered using lists.\n",
    "You can read more on these data structures here: https://docs.python.org/3/tutorial/datastructures.html"
   ]
  },
  {
   "cell_type": "markdown",
   "metadata": {},
   "source": [
    "Keep in mind that the JSON responses you will be getting from the API map almost one-to-one to Python's dictionaries. Unfortunately, they can be very nested, so make sure you read up on indexing dictionaries in the documentation provided above."
   ]
  },
  {
   "cell_type": "code",
   "execution_count": 40,
   "metadata": {
    "jupyter": {
     "outputs_hidden": true
    }
   },
   "outputs": [],
   "source": [
    "# First, import the relevant modules\n",
    "import requests\n",
    "import quandl\n",
    "import json"
   ]
  },
  {
   "cell_type": "markdown",
   "metadata": {},
   "source": [
    "Note: API's can change a bit with each version, for this exercise it is reccomended to use the \"V3\" quandl api at `https://www.quandl.com/api/v3/`"
   ]
  },
  {
   "cell_type": "code",
   "execution_count": 53,
   "metadata": {
    "jupyter": {
     "outputs_hidden": true
    }
   },
   "outputs": [
    {
     "data": {
      "text/plain": [
       "<Response [200]>"
      ]
     },
     "execution_count": 53,
     "metadata": {},
     "output_type": "execute_result"
    }
   ],
   "source": [
    "# Now, call the Quandl API and pull out a small sample of the data (only one day) to get a glimpse\n",
    "# into the JSON structure that will be returned\n",
    "\n",
    "# use requests\n",
    "# res = requests.get('https://www.quandl.com/api/v3/datasets/FSE/AFX_X.json?&start_date=2017-01-01&end_date=2017-01-03api_key = wG17Do_um4yWxYJ3ij21')\n",
    "\n",
    "# use quandl, out put is a dataframe\n",
    "# quandl.ApiConfig.api_key = API_KEY\n",
    "# res = quandl.get(\"FSE/AFX_X\", start_date=\"2017-01-01\", end_date=\"2017-12-31\")\n",
    "\n",
    "# print(res)"
   ]
  },
  {
   "cell_type": "code",
   "execution_count": 54,
   "metadata": {
    "jupyter": {
     "outputs_hidden": true
    }
   },
   "outputs": [
    {
     "data": {
      "text/plain": [
       "{'dataset': {'id': 10095370,\n",
       "  'dataset_code': 'AFX_X',\n",
       "  'database_code': 'FSE',\n",
       "  'name': 'Carl Zeiss Meditec (AFX_X)',\n",
       "  'description': 'Stock Prices for Carl Zeiss Meditec (2020-11-02) from the Frankfurt Stock Exchange.<br><br>Trading System: Xetra<br><br>ISIN: DE0005313704',\n",
       "  'refreshed_at': '2020-12-01T14:48:09.907Z',\n",
       "  'newest_available_date': '2020-12-01',\n",
       "  'oldest_available_date': '2000-06-07',\n",
       "  'column_names': ['Date',\n",
       "   'Open',\n",
       "   'High',\n",
       "   'Low',\n",
       "   'Close',\n",
       "   'Change',\n",
       "   'Traded Volume',\n",
       "   'Turnover',\n",
       "   'Last Price of the Day',\n",
       "   'Daily Traded Units',\n",
       "   'Daily Turnover'],\n",
       "  'frequency': 'daily',\n",
       "  'type': 'Time Series',\n",
       "  'premium': False,\n",
       "  'limit': None,\n",
       "  'transform': None,\n",
       "  'column_index': None,\n",
       "  'start_date': '2017-01-01',\n",
       "  'end_date': '2017-01-03',\n",
       "  'data': [['2017-01-03',\n",
       "    35.9,\n",
       "    35.93,\n",
       "    35.34,\n",
       "    35.48,\n",
       "    None,\n",
       "    70618.0,\n",
       "    2515473.0,\n",
       "    None,\n",
       "    None,\n",
       "    None],\n",
       "   ['2017-01-02',\n",
       "    34.99,\n",
       "    35.94,\n",
       "    34.99,\n",
       "    35.8,\n",
       "    None,\n",
       "    44700.0,\n",
       "    1590561.0,\n",
       "    None,\n",
       "    None,\n",
       "    None]],\n",
       "  'collapse': None,\n",
       "  'order': None,\n",
       "  'database_id': 6129}}"
      ]
     },
     "execution_count": 54,
     "metadata": {},
     "output_type": "execute_result"
    }
   ],
   "source": [
    "# Inspect the JSON structure of the object you created, and take note of how nested it is,\n",
    "# as well as the overall structure\n",
    "\n",
    "# JSON_data = res.json()\n",
    "# JSON_data "
   ]
  },
  {
   "cell_type": "markdown",
   "metadata": {},
   "source": [
    "These are your tasks for this mini project:\n",
    "\n",
    "1. Collect data from the Franfurt Stock Exchange, for the ticker AFX_X, for the whole year 2017 (keep in mind that the date format is YYYY-MM-DD).\n",
    "2. Convert the returned JSON object into a Python dictionary.\n",
    "3. Calculate what the highest and lowest opening prices were for the stock in this period.\n",
    "4. What was the largest change in any one day (based on High and Low price)?\n",
    "5. What was the largest change between any two days (based on Closing Price)?\n",
    "6. What was the average daily trading volume during this year?\n",
    "7. (Optional) What was the median trading volume during this year. (Note: you may need to implement your own function for calculating the median.)"
   ]
  },
  {
   "cell_type": "code",
   "execution_count": null,
   "metadata": {
    "jupyter": {
     "outputs_hidden": true
    }
   },
   "outputs": [],
   "source": [
    "pip install Quandl"
   ]
  },
  {
   "cell_type": "code",
   "execution_count": 15,
   "metadata": {},
   "outputs": [
    {
     "name": "stdout",
     "output_type": "stream",
     "text": [
      "Requirement already satisfied: Requests in /Users/Ling/opt/anaconda3/lib/python3.8/site-packages (2.25.1)\n",
      "Requirement already satisfied: chardet<5,>=3.0.2 in /Users/Ling/opt/anaconda3/lib/python3.8/site-packages (from Requests) (4.0.0)\n",
      "Requirement already satisfied: certifi>=2017.4.17 in /Users/Ling/opt/anaconda3/lib/python3.8/site-packages (from Requests) (2020.12.5)\n",
      "Requirement already satisfied: idna<3,>=2.5 in /Users/Ling/opt/anaconda3/lib/python3.8/site-packages (from Requests) (2.10)\n",
      "Requirement already satisfied: urllib3<1.27,>=1.21.1 in /Users/Ling/opt/anaconda3/lib/python3.8/site-packages (from Requests) (1.26.4)\n",
      "Note: you may need to restart the kernel to use updated packages.\n"
     ]
    }
   ],
   "source": [
    "pip install Requests"
   ]
  },
  {
   "cell_type": "code",
   "execution_count": 65,
   "metadata": {},
   "outputs": [
    {
     "data": {
      "text/plain": [
       "<Response [200]>"
      ]
     },
     "execution_count": 65,
     "metadata": {},
     "output_type": "execute_result"
    }
   ],
   "source": [
    "# Collect data from the Franfurt Stock Exchange, for the ticker AFX_X, for the whole year 2017 (keep in mind that the date format is YYYY-MM-DD).\n",
    "# Convert the returned JSON object into a Python dictionary.\n",
    "url = 'https://www.quandl.com/api/v3/datasets/FSE/AFX_X/'\n",
    "params = dict(start_date='2017-01-01',\n",
    "              end_date='2017-12-31',\n",
    "              order='asc',\n",
    "              api_key=API_KEY)\n",
    "req = requests.get(url, params)\n",
    "req"
   ]
  },
  {
   "cell_type": "code",
   "execution_count": 66,
   "metadata": {},
   "outputs": [
    {
     "data": {
      "text/plain": [
       "dict_keys(['id', 'dataset_code', 'database_code', 'name', 'description', 'refreshed_at', 'newest_available_date', 'oldest_available_date', 'column_names', 'frequency', 'type', 'premium', 'limit', 'transform', 'column_index', 'start_date', 'end_date', 'data', 'collapse', 'order', 'database_id'])"
      ]
     },
     "execution_count": 66,
     "metadata": {},
     "output_type": "execute_result"
    }
   ],
   "source": [
    "# Check keys in the dictionary\n",
    "json_data = req.json()\n",
    "# type(json_data)\n",
    "print(json_data.keys())\n",
    "data_dict = json_data['dataset']\n",
    "data_dict.keys()"
   ]
  },
  {
   "cell_type": "code",
   "execution_count": 71,
   "metadata": {},
   "outputs": [
    {
     "name": "stdout",
     "output_type": "stream",
     "text": [
      "['Date', 'Open', 'High', 'Low', 'Close', 'Change', 'Traded Volume', 'Turnover', 'Last Price of the Day', 'Daily Traded Units', 'Daily Turnover']\n",
      "<class 'list'>\n",
      "['2017-01-02', 34.99, 35.94, 34.99, 35.8, None, 44700.0, 1590561.0, None, None, None]\n"
     ]
    }
   ],
   "source": [
    "new_columns = data_dict['column_names']\n",
    "print(new_columns)\n",
    "print(type(data_dict['data']))\n",
    "print(data_dict['data'][0])"
   ]
  },
  {
   "cell_type": "code",
   "execution_count": 91,
   "metadata": {},
   "outputs": [
    {
     "name": "stdout",
     "output_type": "stream",
     "text": [
      "[34.99, 35.9, 35.48, 35.02, 34.91, 35.29, 34.8, 34.95, 35.38, 34.98, 34.85, 35.06, 35.04, 35.04, 34.54, 34.04, 34.0, 34.42, 35.07, 34.83, 35.38, 35.24, 34.75, 35.95, 36.02, 36.06, 35.56, 35.98, 36.2, 36.65, 37.37, 38.81, 38.5, 38.8, 38.8, 39.25, 38.85, 39.6, 39.72, 39.77, 39.75, 40.38, 41.19, 41.38, 41.12, 41.25, 41.5, 41.13, 41.61, 41.53, 41.4, 41.2, 41.4, 41.4, 41.47, 41.26, 41.8, 38.25, 39.01, 38.94, 38.73, 38.95, 39.39, 40.02, 39.77, 40.15, 39.5, 41.1, 40.96, 40.9, 41.46, 41.62, 42.02, 42.06, 0, 0, 42.24, 41.94, 42.5, 41.97, 42.01, 41.93, 41.88, 41.51, 42.17, 0, 41.89, 42.2, 41.86, 42.52, 43.0, 41.83, 43.5, 43.4, 45.18, 45.09, 45.15, 45.06, 44.0, 43.74, 44.16, 43.67, 43.92, 44.8, 44.8, 45.61, 45.05, 45.22, 46.12, 46.8, 47.12, 47.01, 47.8, 46.77, 47.31, 46.5, 46.52, 46.34, 45.66, 46.9, 46.48, 47.46, 47.03, 47.29, 46.95, 47.23, 46.68, 45.73, 45.01, 45.29, 45.83, 44.67, 45.5, 44.79, 44.64, 44.94, 44.29, 44.67, 45.07, 45.6, 45.5, 45.06, 45.74, 45.57, 45.31, 44.7, 44.91, 45.16, 45.26, 44.94, 45.24, 45.25, 45.34, 45.13, 45.85, 44.9, 43.5, 41.73, 41.3, 42.12, 42.53, 42.4, 41.88, 42.28, 42.42, 42.46, 42.82, 42.72, 42.64, 42.11, 41.71, 42.0, 42.0, 42.16, 42.38, 43.0, 42.66, 43.0, 42.7, 42.81, 43.21, 42.49, 42.35, 42.29, 42.5, 42.65, 42.54, 42.29, 41.48, 42.3, 42.3, 42.35, 42.0, 43.58, 44.51, 45.36, 46.01, 46.19, 46.2, 45.64, 45.97, 45.58, 45.5, 45.61, 45.8, 46.01, 45.72, 45.08, 44.9, 45.16, 45.01, 45.2, 45.48, 46.53, 46.29, 45.88, 45.0, 45.81, 46.16, 46.42, 47.65, 47.3, 48.38, 48.4, 47.98, 47.09, 47.03, 46.57, 47.25, 48.4, 48.8, 49.11, 49.13, 49.09, 49.64, 48.64, 49.52, 49.5, 51.21, 50.8, 50.89, 51.5, 52.28, 52.29, 52.64, 53.11, 52.7, 52.37, 52.73, 51.88, 51.16, 51.05, 51.45, 51.65, 51.76]\n",
      "Highest opening: 53.11lowest opening: 0\n"
     ]
    }
   ],
   "source": [
    "# Calculate what the highest and lowest opening prices were for the stock in this period.\n",
    "list_opening = [0 if x[1]is None else x[1] for x in data_dict['data']]\n",
    "# check if None is still in the list\n",
    "# print (list_opening)\n",
    "print ('Highest opening: ' + str(max(list_opening)) + 'lowest opening: ' + str(min(list_opening)))"
   ]
  },
  {
   "cell_type": "code",
   "execution_count": 93,
   "metadata": {},
   "outputs": [
    {
     "name": "stdout",
     "output_type": "stream",
     "text": [
      "Largest change in one day is: 2.8100000000000023\n"
     ]
    }
   ],
   "source": [
    "# What was the largest change in any one day (based on High and Low price)?\n",
    "Change_1_day = [0 if ((x[2]is None) or (x[3] is None)) else (x[2]-x[3]) for x in data_dict['data']]\n",
    "# print(Change_1_day)\n",
    "print('Largest change in one day is: ' + str(max(Change_1_day)))"
   ]
  },
  {
   "cell_type": "code",
   "execution_count": 99,
   "metadata": {},
   "outputs": [
    {
     "name": "stdout",
     "output_type": "stream",
     "text": [
      "Largest 2 day difference: 2.280000000000001\n"
     ]
    }
   ],
   "source": [
    "# What was the largest change between any two days (based on Closing Price)?\n",
    "close = [0 if x[4]is None else x[4] for x in data_dict['data']]\n",
    "close_2_day = []\n",
    "# print(closing)\n",
    "for i in range(len(closing)-2):\n",
    "    diff = close[i+2]-close[i]\n",
    "    close_2_day.append(diff)\n",
    "print('Largest 2 day difference: '+ str(max(close_2_day)))"
   ]
  },
  {
   "cell_type": "code",
   "execution_count": 102,
   "metadata": {},
   "outputs": [
    {
     "name": "stdout",
     "output_type": "stream",
     "text": [
      "Average trading volume of 2017 is: 89124.33725490196\n"
     ]
    }
   ],
   "source": [
    "#What was the average daily trading volume during this year?\n",
    "trade = [0 if x[6]is None else x[6] for x in data_dict['data']]\n",
    "average_trade = sum(trade)/len(trade)\n",
    "print('Average trading volume of 2017 is: ' + str(average_trade))"
   ]
  },
  {
   "cell_type": "code",
   "execution_count": 110,
   "metadata": {},
   "outputs": [
    {
     "name": "stdout",
     "output_type": "stream",
     "text": [
      "Trade has 255 items\n",
      "The median is: 136112.0\n"
     ]
    }
   ],
   "source": [
    "# What was the median trading volume during this year. (Note: you may need to implement your own function for calculating the median.)\n",
    "print('Trade has '+ str(len(trade)) +' items')\n",
    "# odd items median is vavle of the number in the middle\n",
    "print('The median is: ' + str(trade[int(len(trade)/2)+1]))\n"
   ]
  },
  {
   "cell_type": "code",
   "execution_count": null,
   "metadata": {},
   "outputs": [],
   "source": []
  }
 ],
 "metadata": {
  "kernelspec": {
   "display_name": "Python 3",
   "language": "python",
   "name": "python3"
  },
  "language_info": {
   "codemirror_mode": {
    "name": "ipython",
    "version": 3
   },
   "file_extension": ".py",
   "mimetype": "text/x-python",
   "name": "python",
   "nbconvert_exporter": "python",
   "pygments_lexer": "ipython3",
   "version": "3.8.8"
  }
 },
 "nbformat": 4,
 "nbformat_minor": 4
}
