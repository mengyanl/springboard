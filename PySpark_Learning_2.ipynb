{
  "nbformat": 4,
  "nbformat_minor": 0,
  "metadata": {
    "colab": {
      "name": "PySpark_Learning_2.ipynb",
      "provenance": [],
      "collapsed_sections": [],
      "authorship_tag": "ABX9TyNMEJLlKVpEIwYe79KKp9vE",
      "include_colab_link": true
    },
    "kernelspec": {
      "name": "python3",
      "display_name": "Python 3"
    },
    "language_info": {
      "name": "python"
    }
  },
  "cells": [
    {
      "cell_type": "markdown",
      "metadata": {
        "id": "view-in-github",
        "colab_type": "text"
      },
      "source": [
        "<a href=\"https://colab.research.google.com/github/mengyanl/springboard/blob/main/PySpark_Learning_2.ipynb\" target=\"_parent\"><img src=\"https://colab.research.google.com/assets/colab-badge.svg\" alt=\"Open In Colab\"/></a>"
      ]
    },
    {
      "cell_type": "markdown",
      "metadata": {
        "id": "H2WY9WAFHk5W"
      },
      "source": [
        "# 2nd Google Colab notebook\n",
        "## from LinkedIn learning Jonathan Fernandes tutorials"
      ]
    },
    {
      "cell_type": "code",
      "metadata": {
        "colab": {
          "base_uri": "https://localhost:8080/"
        },
        "id": "ZoiYF9T7IA4V",
        "outputId": "2859b461-443d-48e6-ce88-84b3629c258a"
      },
      "source": [
        "!ls"
      ],
      "execution_count": 1,
      "outputs": [
        {
          "output_type": "stream",
          "name": "stdout",
          "text": [
            "sample_data\n"
          ]
        }
      ]
    },
    {
      "cell_type": "code",
      "metadata": {
        "id": "nBMh_qN1IHAL"
      },
      "source": [
        "# download java\n",
        "!apt-get install openjdk-8-jdk-headless -qq > /dev/null"
      ],
      "execution_count": 2,
      "outputs": []
    },
    {
      "cell_type": "code",
      "metadata": {
        "id": "Ey3J-vZEIlI-"
      },
      "source": [
        "# Installing Spark 3.2.0 with Hadoop 2.7\n",
        "!wget -q https://downloads.apache.org/spark/spark-3.2.0//spark-3.2.0-bin-hadoop2.7.tgz"
      ],
      "execution_count": 3,
      "outputs": []
    },
    {
      "cell_type": "code",
      "metadata": {
        "id": "cbhVBl4fIn4Y"
      },
      "source": [
        "# unzip the folder\n",
        "!tar xf spark-3.2.0-bin-hadoop2.7.tgz"
      ],
      "execution_count": 4,
      "outputs": []
    },
    {
      "cell_type": "code",
      "metadata": {
        "id": "1mlBQmXPIsmz"
      },
      "source": [
        "# install ‘findspark’ library. \n",
        "#It will locate Spark on the system and import it as a regular library.\n",
        "!pip install -q findspark"
      ],
      "execution_count": 5,
      "outputs": []
    },
    {
      "cell_type": "markdown",
      "metadata": {
        "id": "N8OMiJfRIydZ"
      },
      "source": [
        "## Setup Environment"
      ]
    },
    {
      "cell_type": "code",
      "metadata": {
        "colab": {
          "base_uri": "https://localhost:8080/",
          "height": 36
        },
        "id": "eRhxskkRI3qB",
        "outputId": "26806b90-0a1b-4a4f-fcc7-8442db8bba1c"
      },
      "source": [
        "import os\n",
        "os.environ[\"JAVA_HOME\"] = \"/usr/lib/jvm/java-8-openjdk-amd64\"\n",
        "os.environ[\"SPARK_HOME\"] = \"/content/spark-3.2.0-bin-hadoop2.7\"\n",
        "import findspark\n",
        "findspark.init()\n",
        "findspark.find()"
      ],
      "execution_count": 6,
      "outputs": [
        {
          "output_type": "execute_result",
          "data": {
            "application/vnd.google.colaboratory.intrinsic+json": {
              "type": "string"
            },
            "text/plain": [
              "'/content/spark-3.2.0-bin-hadoop2.7'"
            ]
          },
          "metadata": {},
          "execution_count": 6
        }
      ]
    },
    {
      "cell_type": "code",
      "metadata": {
        "colab": {
          "base_uri": "https://localhost:8080/",
          "height": 219
        },
        "id": "eu1pEjdNJE7o",
        "outputId": "da062fa1-7348-43c9-d2e9-15eac5343f36"
      },
      "source": [
        "from pyspark import SparkContext\n",
        "sc = SparkContext.getOrCreate()\n",
        "\n",
        "import pyspark\n",
        "from pyspark.sql import SparkSession\n",
        "spark= SparkSession \\\n",
        "       .builder \\\n",
        "       .appName(\"Our First Spark example\") \\\n",
        "       .getOrCreate()\n",
        "\n",
        "spark"
      ],
      "execution_count": 7,
      "outputs": [
        {
          "output_type": "execute_result",
          "data": {
            "text/html": [
              "\n",
              "            <div>\n",
              "                <p><b>SparkSession - in-memory</b></p>\n",
              "                \n",
              "        <div>\n",
              "            <p><b>SparkContext</b></p>\n",
              "\n",
              "            <p><a href=\"http://24f43ffd5041:4040\">Spark UI</a></p>\n",
              "\n",
              "            <dl>\n",
              "              <dt>Version</dt>\n",
              "                <dd><code>v3.2.0</code></dd>\n",
              "              <dt>Master</dt>\n",
              "                <dd><code>local[*]</code></dd>\n",
              "              <dt>AppName</dt>\n",
              "                <dd><code>pyspark-shell</code></dd>\n",
              "            </dl>\n",
              "        </div>\n",
              "        \n",
              "            </div>\n",
              "        "
            ],
            "text/plain": [
              "<pyspark.sql.session.SparkSession at 0x7fbbc7c86690>"
            ]
          },
          "metadata": {},
          "execution_count": 7
        }
      ]
    },
    {
      "cell_type": "code",
      "metadata": {
        "colab": {
          "base_uri": "https://localhost:8080/"
        },
        "id": "HtGCwfJXJJp8",
        "outputId": "11bba4b4-f58d-4290-b7f3-20d23db57ba1"
      },
      "source": [
        "!ls"
      ],
      "execution_count": 8,
      "outputs": [
        {
          "output_type": "stream",
          "name": "stdout",
          "text": [
            "sample_data  spark-3.2.0-bin-hadoop2.7\tspark-3.2.0-bin-hadoop2.7.tgz\n"
          ]
        }
      ]
    },
    {
      "cell_type": "markdown",
      "metadata": {
        "id": "7J8R4GHZJ4As"
      },
      "source": [
        "# Download Data from LinkedIn learning course"
      ]
    },
    {
      "cell_type": "code",
      "metadata": {
        "colab": {
          "base_uri": "https://localhost:8080/"
        },
        "id": "OjU5XXB-J6XE",
        "outputId": "524a5661-9d05-4a04-bc88-5ff00cfd9103"
      },
      "source": [
        "!wget https://data.cityofchicago.org/api/views/ijzp-q8t2/rows.csv?accessType=DOWNLOAD\n",
        "!mv rows.csv\\?accessType\\=DOWNLOAD reported_crimes.csv"
      ],
      "execution_count": 9,
      "outputs": [
        {
          "output_type": "stream",
          "name": "stdout",
          "text": [
            "--2021-11-24 02:00:19--  https://data.cityofchicago.org/api/views/ijzp-q8t2/rows.csv?accessType=DOWNLOAD\n",
            "Resolving data.cityofchicago.org (data.cityofchicago.org)... 52.206.140.199, 52.206.68.26, 52.206.140.205\n",
            "Connecting to data.cityofchicago.org (data.cityofchicago.org)|52.206.140.199|:443... connected.\n",
            "HTTP request sent, awaiting response... 200 OK\n",
            "Length: unspecified [text/csv]\n",
            "Saving to: ‘rows.csv?accessType=DOWNLOAD’\n",
            "\n",
            "rows.csv?accessType     [             <=>    ]   1.63G  2.98MB/s    in 10m 36s \n",
            "\n",
            "2021-11-24 02:10:56 (2.63 MB/s) - ‘rows.csv?accessType=DOWNLOAD’ saved [1756268680]\n",
            "\n"
          ]
        }
      ]
    },
    {
      "cell_type": "code",
      "metadata": {
        "id": "7CrdIr1geDFu"
      },
      "source": [
        "# hadoop fs -put localfile /Users/Ling/Desktop/01_Springboard/Exercise_PySpark/Crimes_2001_to_Present.csv\n",
        "# rc = spark.read.format('csv').load(\"file:///Users/Ling/Desktop/01_Springboard/Exercise_PySpark/Crimes_2001_to_Present.csv\")\n",
        "# rc.withColumn('DATE',to_timestamp(col('DATE'),'MM/dd/yyyy hh:mm:ss a')).filter(col('DATE') <= lit('2002-01-01'))\n",
        "# rc.show(5)"
      ],
      "execution_count": 10,
      "outputs": []
    },
    {
      "cell_type": "code",
      "metadata": {
        "colab": {
          "base_uri": "https://localhost:8080/"
        },
        "id": "vZpS_PbmTZNV",
        "outputId": "40358aa9-3c9d-4b53-9a01-72aade76ec37"
      },
      "source": [
        "!ls"
      ],
      "execution_count": 11,
      "outputs": [
        {
          "output_type": "stream",
          "name": "stdout",
          "text": [
            "reported_crimes.csv  spark-3.2.0-bin-hadoop2.7\n",
            "sample_data\t     spark-3.2.0-bin-hadoop2.7.tgz\n"
          ]
        }
      ]
    },
    {
      "cell_type": "code",
      "metadata": {
        "colab": {
          "base_uri": "https://localhost:8080/"
        },
        "id": "KyjVsMCBKGu0",
        "outputId": "01171b9c-0c68-4a78-cebb-2d32a8b97c3e"
      },
      "source": [
        "from pyspark.sql.functions import to_timestamp,col,lit\n",
        "rc = spark.read.csv('reported_crimes.csv', header = True).withColumn('DATE',to_timestamp(col('DATE'),'MM/dd/yyyy hh:mm:ss a')).filter(col('DATE') <= lit('2002-01-01'))\n",
        "rc.show(5)"
      ],
      "execution_count": 14,
      "outputs": [
        {
          "output_type": "stream",
          "name": "stdout",
          "text": [
            "+--------+-----------+-------------------+--------------------+----+------------------+--------------------+--------------------+------+--------+----+--------+----+--------------+--------+------------+------------+----+--------------------+-----------+-------------+--------------------+\n",
            "|      ID|Case Number|               DATE|               Block|IUCR|      Primary Type|         Description|Location Description|Arrest|Domestic|Beat|District|Ward|Community Area|FBI Code|X Coordinate|Y Coordinate|Year|          Updated On|   Latitude|    Longitude|            Location|\n",
            "+--------+-----------+-------------------+--------------------+----+------------------+--------------------+--------------------+------+--------+----+--------+----+--------------+--------+------------+------------+----+--------------------+-----------+-------------+--------------------+\n",
            "|11034701|   JA366925|2001-01-01 11:00:00|     016XX E 86TH PL|1153|DECEPTIVE PRACTICE|FINANCIAL IDENTIT...|           RESIDENCE| false|   false|0412|     004|   8|            45|      11|        null|        null|2001|08/05/2017 03:50:...|       null|         null|                null|\n",
            "| 1744168|    G553545|2001-09-15 02:00:00|     013XX W POLK ST|0460|           BATTERY|              SIMPLE|              STREET| false|   false|1213|     012|null|          null|     08B|        null|        null|2001|08/17/2015 03:03:...|       null|         null|                null|\n",
            "| 1833988|    G666677|2001-11-02 18:30:00| 002XX W CONGRESS PW|0810|             THEFT|           OVER $500|               OTHER| false|   false|0131|     001|null|          null|      06|        null|        null|2001|08/17/2015 03:03:...|       null|         null|                null|\n",
            "| 1896258|    G749215|2001-12-15 02:00:00|    011XX N STATE ST|0460|           BATTERY|              SIMPLE|              STREET| false|   false|1824|     018|null|          null|     08B|        null|        null|2001|08/17/2015 03:03:...|       null|         null|                null|\n",
            "|    1023|    G501252|2001-08-22 17:15:00|051XX W WASHINGTO...|0110|          HOMICIDE| FIRST DEGREE MURDER|              STREET|  true|   false|1533|     015|  28|            25|     01A|     1141945|     1900001|2001|03/19/2019 04:11:...|41.88166577|-87.754245643|(41.88166577, -87...|\n",
            "+--------+-----------+-------------------+--------------------+----+------------------+--------------------+--------------------+------+--------+----+--------+----+--------------+--------+------------+------------+----+--------------------+-----------+-------------+--------------------+\n",
            "only showing top 5 rows\n",
            "\n"
          ]
        }
      ]
    },
    {
      "cell_type": "markdown",
      "metadata": {
        "id": "tcYLfsHSKSNu"
      },
      "source": [
        "# Functions"
      ]
    },
    {
      "cell_type": "code",
      "metadata": {
        "colab": {
          "base_uri": "https://localhost:8080/"
        },
        "id": "ZcllikQIKVzP",
        "outputId": "0c3b46a3-3b0b-4f1e-ae90-c0dfbdb2c0f9"
      },
      "source": [
        "# buildin functions\n",
        "from pyspark.sql import functions\n",
        "print(dir(functions))\n",
        "\n",
        "# from pyspark.sql.functions import mean\n",
        "# df.select(mean(df.column1)).show()"
      ],
      "execution_count": 15,
      "outputs": [
        {
          "output_type": "stream",
          "name": "stdout",
          "text": [
            "['Column', 'DataFrame', 'DataType', 'PandasUDFType', 'PythonEvalType', 'SparkContext', 'StringType', 'UserDefinedFunction', '__builtins__', '__cached__', '__doc__', '__file__', '__loader__', '__name__', '__package__', '__spec__', '_create_column_from_literal', '_create_lambda', '_create_udf', '_get_get_jvm_function', '_get_lambda_parameters', '_invoke_binary_math_function', '_invoke_function', '_invoke_function_over_column', '_invoke_higher_order_function', '_options_to_str', '_test', '_to_java_column', '_to_seq', '_unresolved_named_lambda_variable', 'abs', 'acos', 'acosh', 'add_months', 'aggregate', 'approxCountDistinct', 'approx_count_distinct', 'array', 'array_contains', 'array_distinct', 'array_except', 'array_intersect', 'array_join', 'array_max', 'array_min', 'array_position', 'array_remove', 'array_repeat', 'array_sort', 'array_union', 'arrays_overlap', 'arrays_zip', 'asc', 'asc_nulls_first', 'asc_nulls_last', 'ascii', 'asin', 'asinh', 'assert_true', 'atan', 'atan2', 'atanh', 'avg', 'base64', 'bin', 'bitwiseNOT', 'bitwise_not', 'broadcast', 'bround', 'bucket', 'cbrt', 'ceil', 'coalesce', 'col', 'collect_list', 'collect_set', 'column', 'concat', 'concat_ws', 'conv', 'corr', 'cos', 'cosh', 'count', 'countDistinct', 'count_distinct', 'covar_pop', 'covar_samp', 'crc32', 'create_map', 'cume_dist', 'current_date', 'current_timestamp', 'date_add', 'date_format', 'date_sub', 'date_trunc', 'datediff', 'dayofmonth', 'dayofweek', 'dayofyear', 'days', 'decode', 'degrees', 'dense_rank', 'desc', 'desc_nulls_first', 'desc_nulls_last', 'element_at', 'encode', 'exists', 'exp', 'explode', 'explode_outer', 'expm1', 'expr', 'factorial', 'filter', 'first', 'flatten', 'floor', 'forall', 'format_number', 'format_string', 'from_csv', 'from_json', 'from_unixtime', 'from_utc_timestamp', 'functools', 'get_json_object', 'greatest', 'grouping', 'grouping_id', 'hash', 'hex', 'hour', 'hours', 'hypot', 'initcap', 'input_file_name', 'instr', 'isnan', 'isnull', 'json_tuple', 'kurtosis', 'lag', 'last', 'last_day', 'lead', 'least', 'length', 'levenshtein', 'lit', 'locate', 'log', 'log10', 'log1p', 'log2', 'lower', 'lpad', 'ltrim', 'map_concat', 'map_entries', 'map_filter', 'map_from_arrays', 'map_from_entries', 'map_keys', 'map_values', 'map_zip_with', 'max', 'md5', 'mean', 'min', 'minute', 'monotonically_increasing_id', 'month', 'months', 'months_between', 'nanvl', 'next_day', 'nth_value', 'ntile', 'overlay', 'pandas_udf', 'percent_rank', 'percentile_approx', 'posexplode', 'posexplode_outer', 'pow', 'product', 'quarter', 'radians', 'raise_error', 'rand', 'randn', 'rank', 'regexp_extract', 'regexp_replace', 'repeat', 'reverse', 'rint', 'round', 'row_number', 'rpad', 'rtrim', 'schema_of_csv', 'schema_of_json', 'second', 'sentences', 'sequence', 'session_window', 'sha1', 'sha2', 'shiftLeft', 'shiftRight', 'shiftRightUnsigned', 'shiftleft', 'shiftright', 'shiftrightunsigned', 'shuffle', 'signum', 'sin', 'since', 'sinh', 'size', 'skewness', 'slice', 'sort_array', 'soundex', 'spark_partition_id', 'split', 'sqrt', 'stddev', 'stddev_pop', 'stddev_samp', 'struct', 'substring', 'substring_index', 'sum', 'sumDistinct', 'sum_distinct', 'sys', 'tan', 'tanh', 'timestamp_seconds', 'toDegrees', 'toRadians', 'to_csv', 'to_date', 'to_json', 'to_str', 'to_timestamp', 'to_utc_timestamp', 'transform', 'transform_keys', 'transform_values', 'translate', 'trim', 'trunc', 'udf', 'unbase64', 'unhex', 'unix_timestamp', 'upper', 'var_pop', 'var_samp', 'variance', 'warnings', 'weekofyear', 'when', 'window', 'xxhash64', 'year', 'years', 'zip_with']\n"
          ]
        }
      ]
    },
    {
      "cell_type": "code",
      "metadata": {
        "id": "0EsthfBaLAxT"
      },
      "source": [
        "from pyspark.sql.functions import lower, upper, substring"
      ],
      "execution_count": 16,
      "outputs": []
    },
    {
      "cell_type": "code",
      "metadata": {
        "colab": {
          "base_uri": "https://localhost:8080/"
        },
        "id": "pYuzF1JgL-WD",
        "outputId": "a3033951-08b2-4053-b6a8-bc2375b4ec6c"
      },
      "source": [
        "help(substring)   # position is 1 based"
      ],
      "execution_count": 17,
      "outputs": [
        {
          "output_type": "stream",
          "name": "stdout",
          "text": [
            "Help on function substring in module pyspark.sql.functions:\n",
            "\n",
            "substring(str, pos, len)\n",
            "    Substring starts at `pos` and is of length `len` when str is String type or\n",
            "    returns the slice of byte array that starts at `pos` in byte and is of length `len`\n",
            "    when str is Binary type.\n",
            "    \n",
            "    .. versionadded:: 1.5.0\n",
            "    \n",
            "    Notes\n",
            "    -----\n",
            "    The position is not zero based, but 1 based index.\n",
            "    \n",
            "    Examples\n",
            "    --------\n",
            "    >>> df = spark.createDataFrame([('abcd',)], ['s',])\n",
            "    >>> df.select(substring(df.s, 1, 2).alias('s')).collect()\n",
            "    [Row(s='ab')]\n",
            "\n"
          ]
        }
      ]
    },
    {
      "cell_type": "code",
      "metadata": {
        "colab": {
          "base_uri": "https://localhost:8080/"
        },
        "id": "I-qv9xenMSUY",
        "outputId": "0583fb45-7fb3-450c-c847-02ea6b2aadde"
      },
      "source": [
        "rc.printSchema()"
      ],
      "execution_count": 18,
      "outputs": [
        {
          "output_type": "stream",
          "name": "stdout",
          "text": [
            "root\n",
            " |-- ID: string (nullable = true)\n",
            " |-- Case Number: string (nullable = true)\n",
            " |-- DATE: timestamp (nullable = true)\n",
            " |-- Block: string (nullable = true)\n",
            " |-- IUCR: string (nullable = true)\n",
            " |-- Primary Type: string (nullable = true)\n",
            " |-- Description: string (nullable = true)\n",
            " |-- Location Description: string (nullable = true)\n",
            " |-- Arrest: string (nullable = true)\n",
            " |-- Domestic: string (nullable = true)\n",
            " |-- Beat: string (nullable = true)\n",
            " |-- District: string (nullable = true)\n",
            " |-- Ward: string (nullable = true)\n",
            " |-- Community Area: string (nullable = true)\n",
            " |-- FBI Code: string (nullable = true)\n",
            " |-- X Coordinate: string (nullable = true)\n",
            " |-- Y Coordinate: string (nullable = true)\n",
            " |-- Year: string (nullable = true)\n",
            " |-- Updated On: string (nullable = true)\n",
            " |-- Latitude: string (nullable = true)\n",
            " |-- Longitude: string (nullable = true)\n",
            " |-- Location: string (nullable = true)\n",
            "\n"
          ]
        }
      ]
    },
    {
      "cell_type": "markdown",
      "metadata": {
        "id": "6CwPyFvMPiJ9"
      },
      "source": [
        "## Display the Primary Description column in lower and upper charicters and the first 4 charicters of the column"
      ]
    },
    {
      "cell_type": "code",
      "metadata": {
        "colab": {
          "base_uri": "https://localhost:8080/"
        },
        "id": "N5_fz0kXMgcm",
        "outputId": "8834d66d-f3d8-48e0-e593-21e09b329cec"
      },
      "source": [
        "rc.select(lower(col('PRIMARY TYPE')), upper(col('PRIMARY TYPE')), substring(col('PRIMARY TYPE'), 1,4)).show(5)"
      ],
      "execution_count": 20,
      "outputs": [
        {
          "output_type": "stream",
          "name": "stdout",
          "text": [
            "+-------------------+-------------------+-----------------------------+\n",
            "|lower(PRIMARY TYPE)|upper(PRIMARY TYPE)|substring(PRIMARY TYPE, 1, 4)|\n",
            "+-------------------+-------------------+-----------------------------+\n",
            "| deceptive practice| DECEPTIVE PRACTICE|                         DECE|\n",
            "|            battery|            BATTERY|                         BATT|\n",
            "|              theft|              THEFT|                         THEF|\n",
            "|            battery|            BATTERY|                         BATT|\n",
            "|           homicide|           HOMICIDE|                         HOMI|\n",
            "+-------------------+-------------------+-----------------------------+\n",
            "only showing top 5 rows\n",
            "\n"
          ]
        }
      ]
    },
    {
      "cell_type": "markdown",
      "metadata": {
        "id": "-zHJqhG-P3RD"
      },
      "source": [
        "## Show the oldest and the most recent dates"
      ]
    },
    {
      "cell_type": "code",
      "metadata": {
        "id": "ZAk4x4U7NdxC"
      },
      "source": [
        "from pyspark.sql.functions import min, max"
      ],
      "execution_count": 21,
      "outputs": []
    },
    {
      "cell_type": "code",
      "metadata": {
        "colab": {
          "base_uri": "https://localhost:8080/"
        },
        "id": "g1Yqg-AcNkqw",
        "outputId": "88219cf1-9ab6-42f4-9a98-bee922eb3ac7"
      },
      "source": [
        "rc.select(min(col('DATE')), max(col('DATE'))).show(1)"
      ],
      "execution_count": 22,
      "outputs": [
        {
          "output_type": "stream",
          "name": "stdout",
          "text": [
            "+-------------------+-------------------+\n",
            "|          min(DATE)|          max(DATE)|\n",
            "+-------------------+-------------------+\n",
            "|2001-01-01 00:00:00|2002-01-01 00:00:00|\n",
            "+-------------------+-------------------+\n",
            "\n"
          ]
        }
      ]
    },
    {
      "cell_type": "markdown",
      "metadata": {
        "id": "_tWv-kulPMTW"
      },
      "source": [
        "## waht is 3 days earlier than the oldest data and 3 days later than the most recent date?"
      ]
    },
    {
      "cell_type": "code",
      "metadata": {
        "id": "IGSsJ4StN3Gi"
      },
      "source": [
        "from pyspark.sql.functions import date_add, date_sub"
      ],
      "execution_count": 23,
      "outputs": []
    },
    {
      "cell_type": "code",
      "metadata": {
        "colab": {
          "base_uri": "https://localhost:8080/"
        },
        "id": "y4CeOUhIOEZG",
        "outputId": "77153d34-27cb-4cf8-844c-0297889d4c0c"
      },
      "source": [
        "help(date_add)"
      ],
      "execution_count": 24,
      "outputs": [
        {
          "output_type": "stream",
          "name": "stdout",
          "text": [
            "Help on function date_add in module pyspark.sql.functions:\n",
            "\n",
            "date_add(start, days)\n",
            "    Returns the date that is `days` days after `start`\n",
            "    \n",
            "    .. versionadded:: 1.5.0\n",
            "    \n",
            "    Examples\n",
            "    --------\n",
            "    >>> df = spark.createDataFrame([('2015-04-08',)], ['dt'])\n",
            "    >>> df.select(date_add(df.dt, 1).alias('next_date')).collect()\n",
            "    [Row(next_date=datetime.date(2015, 4, 9))]\n",
            "\n"
          ]
        }
      ]
    },
    {
      "cell_type": "code",
      "metadata": {
        "colab": {
          "base_uri": "https://localhost:8080/"
        },
        "id": "FA7oaIfrOHME",
        "outputId": "118620b4-7c7c-4f87-b8e8-2fe8cbae32fa"
      },
      "source": [
        "rc.select(date_sub(min(col('DATE')), 3),date_add(max(col('DATE')), 3)).show(1)"
      ],
      "execution_count": 25,
      "outputs": [
        {
          "output_type": "stream",
          "name": "stdout",
          "text": [
            "+----------------------+----------------------+\n",
            "|date_sub(min(DATE), 3)|date_add(max(DATE), 3)|\n",
            "+----------------------+----------------------+\n",
            "|            2000-12-29|            2002-01-04|\n",
            "+----------------------+----------------------+\n",
            "\n"
          ]
        }
      ]
    },
    {
      "cell_type": "code",
      "metadata": {
        "id": "C8uuSgP_O2hU"
      },
      "source": [
        "from pyspark.sql.functions import to_date, to_timestamp, lit"
      ],
      "execution_count": 26,
      "outputs": []
    },
    {
      "cell_type": "code",
      "metadata": {
        "colab": {
          "base_uri": "https://localhost:8080/"
        },
        "id": "D6t3JPrTQ9Jw",
        "outputId": "b26641f2-b5ed-477c-bda9-00ff64352584"
      },
      "source": [
        "df = spark.createDataFrame([('2019-12-25 13:30:00', )], ['Christmas'])\n",
        "df.show(1)"
      ],
      "execution_count": 27,
      "outputs": [
        {
          "output_type": "stream",
          "name": "stdout",
          "text": [
            "+-------------------+\n",
            "|          Christmas|\n",
            "+-------------------+\n",
            "|2019-12-25 13:30:00|\n",
            "+-------------------+\n",
            "\n"
          ]
        }
      ]
    },
    {
      "cell_type": "code",
      "metadata": {
        "colab": {
          "base_uri": "https://localhost:8080/"
        },
        "id": "qB5dzC9zQJcV",
        "outputId": "0bc0b892-d7d0-48c0-ddf2-585eba39461e"
      },
      "source": [
        "df.select(to_date(col('Christmas'), 'yyyy-MM-dd HH:mm:ss'), to_timestamp(col('Christmas'), 'yyyy-MM-dd HH:mm:ss')).show(1)"
      ],
      "execution_count": 28,
      "outputs": [
        {
          "output_type": "stream",
          "name": "stdout",
          "text": [
            "+---------------------------------------+--------------------------------------------+\n",
            "|to_date(Christmas, yyyy-MM-dd HH:mm:ss)|to_timestamp(Christmas, yyyy-MM-dd HH:mm:ss)|\n",
            "+---------------------------------------+--------------------------------------------+\n",
            "|                             2019-12-25|                         2019-12-25 13:30:00|\n",
            "+---------------------------------------+--------------------------------------------+\n",
            "\n"
          ]
        }
      ]
    },
    {
      "cell_type": "code",
      "metadata": {
        "colab": {
          "base_uri": "https://localhost:8080/"
        },
        "id": "lN5tX-YBRE0r",
        "outputId": "49d9973e-dbe4-4dd6-821a-f60886da5a31"
      },
      "source": [
        "df = spark.createDataFrame([('25/Dec/2019 13:30:00', )], ['Christmas'])\n",
        "df.show(1)"
      ],
      "execution_count": 29,
      "outputs": [
        {
          "output_type": "stream",
          "name": "stdout",
          "text": [
            "+--------------------+\n",
            "|           Christmas|\n",
            "+--------------------+\n",
            "|25/Dec/2019 13:30:00|\n",
            "+--------------------+\n",
            "\n"
          ]
        }
      ]
    },
    {
      "cell_type": "code",
      "metadata": {
        "colab": {
          "base_uri": "https://localhost:8080/"
        },
        "id": "Xw5ETmhORFcQ",
        "outputId": "383f98da-aa0a-4903-e51b-1028b2af7edb"
      },
      "source": [
        "df.select(to_date(col('Christmas'), 'dd/MMM/yyyy HH:mm:ss'), to_timestamp(col('Christmas'), 'dd/MMM/yyyy HH:mm:ss')).show(1)"
      ],
      "execution_count": 30,
      "outputs": [
        {
          "output_type": "stream",
          "name": "stdout",
          "text": [
            "+----------------------------------------+---------------------------------------------+\n",
            "|to_date(Christmas, dd/MMM/yyyy HH:mm:ss)|to_timestamp(Christmas, dd/MMM/yyyy HH:mm:ss)|\n",
            "+----------------------------------------+---------------------------------------------+\n",
            "|                              2019-12-25|                          2019-12-25 13:30:00|\n",
            "+----------------------------------------+---------------------------------------------+\n",
            "\n"
          ]
        }
      ]
    },
    {
      "cell_type": "code",
      "metadata": {
        "colab": {
          "base_uri": "https://localhost:8080/"
        },
        "id": "TM3xXGmfRGY8",
        "outputId": "a35d9d03-9071-4d59-aab7-bce2b8770797"
      },
      "source": [
        "df = spark.createDataFrame([('12/25/2021 01:30:00 PM', )], ['Christmas'])\n",
        "df.show(1, truncate = False)"
      ],
      "execution_count": 31,
      "outputs": [
        {
          "output_type": "stream",
          "name": "stdout",
          "text": [
            "+----------------------+\n",
            "|Christmas             |\n",
            "+----------------------+\n",
            "|12/25/2021 01:30:00 PM|\n",
            "+----------------------+\n",
            "\n"
          ]
        }
      ]
    },
    {
      "cell_type": "code",
      "metadata": {
        "colab": {
          "base_uri": "https://localhost:8080/"
        },
        "id": "1n0XhwP9RHEx",
        "outputId": "02b49c0c-5fd6-4de1-9617-79b0fc82e921"
      },
      "source": [
        "spark.sql(\"set spark.sql.legacy.timeParserPolicy=LEGACY\")\n",
        "df.select(to_date(col('Christmas'), 'MM/dd/yyyy hh:mm:ss aa'),to_timestamp(col('Christmas'), 'MM/dd/yyyy hh:mm:ss aa')).show(1)"
      ],
      "execution_count": 32,
      "outputs": [
        {
          "output_type": "stream",
          "name": "stdout",
          "text": [
            "+------------------------------------------+-----------------------------------------------+\n",
            "|to_date(Christmas, MM/dd/yyyy hh:mm:ss aa)|to_timestamp(Christmas, MM/dd/yyyy hh:mm:ss aa)|\n",
            "+------------------------------------------+-----------------------------------------------+\n",
            "|                                2021-12-25|                            2021-12-25 13:30:00|\n",
            "+------------------------------------------+-----------------------------------------------+\n",
            "\n"
          ]
        }
      ]
    },
    {
      "cell_type": "code",
      "metadata": {
        "colab": {
          "base_uri": "https://localhost:8080/"
        },
        "id": "2knID57rQXiL",
        "outputId": "a925d555-ec16-4d78-c099-aa45849dfe1f"
      },
      "source": [
        "nrc=spark.read.csv('reported_crimes.csv',header=True)\n",
        "nrc.show(5, truncate = False)"
      ],
      "execution_count": 33,
      "outputs": [
        {
          "output_type": "stream",
          "name": "stdout",
          "text": [
            "+--------+-----------+----------------------+---------------------+----+------------+-----------------------+--------------------+------+--------+----+--------+----+--------------+--------+------------+------------+----+----------------------+------------+-------------+-----------------------------+\n",
            "|ID      |Case Number|Date                  |Block                |IUCR|Primary Type|Description            |Location Description|Arrest|Domestic|Beat|District|Ward|Community Area|FBI Code|X Coordinate|Y Coordinate|Year|Updated On            |Latitude    |Longitude    |Location                     |\n",
            "+--------+-----------+----------------------+---------------------+----+------------+-----------------------+--------------------+------+--------+----+--------+----+--------------+--------+------------+------------+----+----------------------+------------+-------------+-----------------------------+\n",
            "|10224738|HY411648   |09/05/2015 01:30:00 PM|043XX S WOOD ST      |0486|BATTERY     |DOMESTIC BATTERY SIMPLE|RESIDENCE           |false |true    |0924|009     |12  |61            |08B     |1165074     |1875917     |2015|02/10/2018 03:50:01 PM|41.815117282|-87.669999562|(41.815117282, -87.669999562)|\n",
            "|10224739|HY411615   |09/04/2015 11:30:00 AM|008XX N CENTRAL AVE  |0870|THEFT       |POCKET-PICKING         |CTA BUS             |false |false   |1511|015     |29  |25            |06      |1138875     |1904869     |2015|02/10/2018 03:50:01 PM|41.895080471|-87.765400451|(41.895080471, -87.765400451)|\n",
            "|11646166|JC213529   |09/01/2018 12:01:00 AM|082XX S INGLESIDE AVE|0810|THEFT       |OVER $500              |RESIDENCE           |false |true    |0631|006     |8   |44            |06      |null        |null        |2018|04/06/2019 04:04:43 PM|null        |null         |null                         |\n",
            "|10224740|HY411595   |09/05/2015 12:45:00 PM|035XX W BARRY AVE    |2023|NARCOTICS   |POSS: HEROIN(BRN/TAN)  |SIDEWALK            |true  |false   |1412|014     |35  |21            |18      |1152037     |1920384     |2015|02/10/2018 03:50:01 PM|41.937405765|-87.716649687|(41.937405765, -87.716649687)|\n",
            "|10224741|HY411610   |09/05/2015 01:00:00 PM|0000X N LARAMIE AVE  |0560|ASSAULT     |SIMPLE                 |APARTMENT           |false |true    |1522|015     |28  |25            |08A     |1141706     |1900086     |2015|02/10/2018 03:50:01 PM|41.881903443|-87.755121152|(41.881903443, -87.755121152)|\n",
            "+--------+-----------+----------------------+---------------------+----+------------+-----------------------+--------------------+------+--------+----+--------+----+--------------+--------+------------+------------+----+----------------------+------------+-------------+-----------------------------+\n",
            "only showing top 5 rows\n",
            "\n"
          ]
        }
      ]
    },
    {
      "cell_type": "code",
      "metadata": {
        "id": "2TljYPepQiOg"
      },
      "source": [
        "## self created functions: better to create in JAVA or Scala"
      ],
      "execution_count": 34,
      "outputs": []
    },
    {
      "cell_type": "markdown",
      "metadata": {
        "id": "_dGbcGaVLh69"
      },
      "source": [
        "## Join\n",
        "### df.join(df2, df.column == df2.column, how = {'inner})"
      ]
    },
    {
      "cell_type": "code",
      "metadata": {
        "colab": {
          "base_uri": "https://localhost:8080/"
        },
        "id": "HE5wa80wK3TO",
        "outputId": "21fbfe8c-769d-4e62-dfcc-a6209b7b337f"
      },
      "source": [
        "!wget -O plice_station.csv https://data.cityofchicago.org/api/views/z8bn-74gv/rows.csv?accessType=DOWNLOAD"
      ],
      "execution_count": 35,
      "outputs": [
        {
          "output_type": "stream",
          "name": "stdout",
          "text": [
            "--2021-11-24 02:35:24--  https://data.cityofchicago.org/api/views/z8bn-74gv/rows.csv?accessType=DOWNLOAD\n",
            "Resolving data.cityofchicago.org (data.cityofchicago.org)... 52.206.140.199, 52.206.68.26, 52.206.140.205\n",
            "Connecting to data.cityofchicago.org (data.cityofchicago.org)|52.206.140.199|:443... connected.\n",
            "HTTP request sent, awaiting response... 200 OK\n",
            "Length: unspecified [text/csv]\n",
            "Saving to: ‘plice_station.csv’\n",
            "\n",
            "plice_station.csv       [ <=>                ]   5.57K  --.-KB/s    in 0s      \n",
            "\n",
            "2021-11-24 02:35:25 (396 MB/s) - ‘plice_station.csv’ saved [5699]\n",
            "\n"
          ]
        }
      ]
    },
    {
      "cell_type": "code",
      "metadata": {
        "colab": {
          "base_uri": "https://localhost:8080/"
        },
        "id": "wduzZlT-NBzX",
        "outputId": "70692146-2dce-4269-d64d-2fdc55416bf7"
      },
      "source": [
        "!ls\n",
        "ps = spark.read.csv('plice_station.csv', header = True)\n",
        "ps.show(5)"
      ],
      "execution_count": 39,
      "outputs": [
        {
          "output_type": "stream",
          "name": "stdout",
          "text": [
            "plice_station.csv    sample_data\t\tspark-3.2.0-bin-hadoop2.7.tgz\n",
            "reported_crimes.csv  spark-3.2.0-bin-hadoop2.7\n",
            "+------------+-------------+-------------------+-------+-----+-----+--------------------+------------+------------+------------+------------+------------+-----------+------------+--------------------+\n",
            "|    DISTRICT|DISTRICT NAME|            ADDRESS|   CITY|STATE|  ZIP|             WEBSITE|       PHONE|         FAX|         TTY|X COORDINATE|Y COORDINATE|   LATITUDE|   LONGITUDE|            LOCATION|\n",
            "+------------+-------------+-------------------+-------+-----+-----+--------------------+------------+------------+------------+------------+------------+-----------+------------+--------------------+\n",
            "|Headquarters| Headquarters|3510 S Michigan Ave|Chicago|   IL|60653|http://home.chica...|        null|        null|        null| 1177731.401| 1881697.404|41.83070169|-87.62339535|(41.8307016873, -...|\n",
            "|          18|   Near North| 1160 N Larrabee St|Chicago|   IL|60610|http://home.chica...|312-742-5870|312-742-5771|312-742-5773| 1172080.029| 1908086.527|41.90324165|-87.64335214|(41.9032416531, -...|\n",
            "|          19|    Town Hall|   850 W Addison St|Chicago|   IL|60613|http://home.chica...|312-744-8320|312-744-4481|312-744-8011| 1169730.744| 1924160.317|41.94740046|-87.65151202|(41.9474004564, -...|\n",
            "|          20|      Lincoln| 5400 N Lincoln Ave|Chicago|   IL|60625|http://home.chica...|312-742-8714|312-742-8803|312-742-8841| 1158399.146| 1935788.826|41.97954951|-87.69284451|(41.9795495131, -...|\n",
            "|          22|  Morgan Park|1900 W Monterey Ave|Chicago|   IL|60643|http://home.chica...|312-745-0710|312-745-0814|312-745-0569| 1165825.476| 1830851.333|41.69143478|-87.66852039|(41.6914347795, -...|\n",
            "+------------+-------------+-------------------+-------+-----+-----+--------------------+------------+------------+------------+------------+------------+-----------+------------+--------------------+\n",
            "only showing top 5 rows\n",
            "\n"
          ]
        }
      ]
    },
    {
      "cell_type": "code",
      "metadata": {
        "colab": {
          "base_uri": "https://localhost:8080/"
        },
        "id": "eqFyoE-OSTwK",
        "outputId": "72632530-bc70-4d1e-e0d1-6f7e0ee05f4e"
      },
      "source": [
        "ps.select(col('DISTRICT')).distinct().show(30)"
      ],
      "execution_count": 40,
      "outputs": [
        {
          "output_type": "stream",
          "name": "stdout",
          "text": [
            "+--------------------+\n",
            "|            DISTRICT|\n",
            "+--------------------+\n",
            "|                   7|\n",
            "|                  15|\n",
            "|                  11|\n",
            "|                   3|\n",
            "|                   8|\n",
            "|                  22|\n",
            "|                  16|\n",
            "|                   5|\n",
            "|                  18|\n",
            "|                  17|\n",
            "|                   6|\n",
            "|                  19|\n",
            "|                  25|\n",
            "|        Headquarters|\n",
            "|                  24|\n",
            "|                   9|\n",
            "|                   1|\n",
            "|                  20|\n",
            "|                  10|\n",
            "|                   4|\n",
            "|                  12|\n",
            "|                  14|\n",
            "|                   2|\n",
            "|\",Chicago,IL,6060...|\n",
            "+--------------------+\n",
            "\n"
          ]
        }
      ]
    },
    {
      "cell_type": "code",
      "metadata": {
        "colab": {
          "base_uri": "https://localhost:8080/"
        },
        "id": "zKG1eKEBzp2G",
        "outputId": "5de2f311-a9e5-46cc-f5b3-71d874229b7a"
      },
      "source": [
        "rc.select(col('DISTRICT')).distinct().show(30)"
      ],
      "execution_count": 42,
      "outputs": [
        {
          "output_type": "stream",
          "name": "stdout",
          "text": [
            "+--------+\n",
            "|DISTRICT|\n",
            "+--------+\n",
            "|     009|\n",
            "|     012|\n",
            "|     024|\n",
            "|     015|\n",
            "|     006|\n",
            "|     019|\n",
            "|     020|\n",
            "|     011|\n",
            "|     025|\n",
            "|     005|\n",
            "|     003|\n",
            "|     016|\n",
            "|     018|\n",
            "|     008|\n",
            "|     022|\n",
            "|     001|\n",
            "|     014|\n",
            "|     010|\n",
            "|     004|\n",
            "|     017|\n",
            "|     007|\n",
            "|     002|\n",
            "+--------+\n",
            "\n"
          ]
        }
      ]
    },
    {
      "cell_type": "code",
      "metadata": {
        "id": "CsU4QEhc0FSs"
      },
      "source": [
        "from pyspark.sql.functions import lpad"
      ],
      "execution_count": 43,
      "outputs": []
    },
    {
      "cell_type": "code",
      "metadata": {
        "colab": {
          "base_uri": "https://localhost:8080/"
        },
        "id": "Vw5t2IAi0QCn",
        "outputId": "9efafaf8-229e-42e5-bee5-9f39b3de6f5d"
      },
      "source": [
        "help(lpad)"
      ],
      "execution_count": 44,
      "outputs": [
        {
          "output_type": "stream",
          "name": "stdout",
          "text": [
            "Help on function lpad in module pyspark.sql.functions:\n",
            "\n",
            "lpad(col, len, pad)\n",
            "    Left-pad the string column to width `len` with `pad`.\n",
            "    \n",
            "    .. versionadded:: 1.5.0\n",
            "    \n",
            "    Examples\n",
            "    --------\n",
            "    >>> df = spark.createDataFrame([('abcd',)], ['s',])\n",
            "    >>> df.select(lpad(df.s, 6, '#').alias('s')).collect()\n",
            "    [Row(s='##abcd')]\n",
            "\n"
          ]
        }
      ]
    },
    {
      "cell_type": "code",
      "metadata": {
        "colab": {
          "base_uri": "https://localhost:8080/"
        },
        "id": "M04P8eHs0Tcq",
        "outputId": "ffea6307-a484-48ed-ba29-aa77d1471aac"
      },
      "source": [
        "ps.select(lpad(col(\"DISTRICT\"), 3, '0')).show()"
      ],
      "execution_count": 45,
      "outputs": [
        {
          "output_type": "stream",
          "name": "stdout",
          "text": [
            "+--------------------+\n",
            "|lpad(DISTRICT, 3, 0)|\n",
            "+--------------------+\n",
            "|                 Hea|\n",
            "|                 018|\n",
            "|                 019|\n",
            "|                 020|\n",
            "|                 022|\n",
            "|                 024|\n",
            "|                 025|\n",
            "|                 001|\n",
            "|                 002|\n",
            "|                 003|\n",
            "|                 004|\n",
            "|                 005|\n",
            "|                 006|\n",
            "|                 007|\n",
            "|                 008|\n",
            "|                 009|\n",
            "|                 010|\n",
            "|                 011|\n",
            "|                 012|\n",
            "|                 \",C|\n",
            "+--------------------+\n",
            "only showing top 20 rows\n",
            "\n"
          ]
        }
      ]
    },
    {
      "cell_type": "code",
      "metadata": {
        "colab": {
          "base_uri": "https://localhost:8080/"
        },
        "id": "l8tq8kHN0fSe",
        "outputId": "8b377e73-ef92-4771-90d7-c7c1e88093ef"
      },
      "source": [
        "ps = ps.withColumn('Formated_district', lpad(col(\"DISTRICT\"), 3, '0'))\n",
        "ps.show(5)"
      ],
      "execution_count": 47,
      "outputs": [
        {
          "output_type": "stream",
          "name": "stdout",
          "text": [
            "+------------+-------------+-------------------+-------+-----+-----+--------------------+------------+------------+------------+------------+------------+-----------+------------+--------------------+-----------------+\n",
            "|    DISTRICT|DISTRICT NAME|            ADDRESS|   CITY|STATE|  ZIP|             WEBSITE|       PHONE|         FAX|         TTY|X COORDINATE|Y COORDINATE|   LATITUDE|   LONGITUDE|            LOCATION|Formated_district|\n",
            "+------------+-------------+-------------------+-------+-----+-----+--------------------+------------+------------+------------+------------+------------+-----------+------------+--------------------+-----------------+\n",
            "|Headquarters| Headquarters|3510 S Michigan Ave|Chicago|   IL|60653|http://home.chica...|        null|        null|        null| 1177731.401| 1881697.404|41.83070169|-87.62339535|(41.8307016873, -...|              Hea|\n",
            "|          18|   Near North| 1160 N Larrabee St|Chicago|   IL|60610|http://home.chica...|312-742-5870|312-742-5771|312-742-5773| 1172080.029| 1908086.527|41.90324165|-87.64335214|(41.9032416531, -...|              018|\n",
            "|          19|    Town Hall|   850 W Addison St|Chicago|   IL|60613|http://home.chica...|312-744-8320|312-744-4481|312-744-8011| 1169730.744| 1924160.317|41.94740046|-87.65151202|(41.9474004564, -...|              019|\n",
            "|          20|      Lincoln| 5400 N Lincoln Ave|Chicago|   IL|60625|http://home.chica...|312-742-8714|312-742-8803|312-742-8841| 1158399.146| 1935788.826|41.97954951|-87.69284451|(41.9795495131, -...|              020|\n",
            "|          22|  Morgan Park|1900 W Monterey Ave|Chicago|   IL|60643|http://home.chica...|312-745-0710|312-745-0814|312-745-0569| 1165825.476| 1830851.333|41.69143478|-87.66852039|(41.6914347795, -...|              022|\n",
            "+------------+-------------+-------------------+-------+-----+-----+--------------------+------------+------------+------------+------------+------------+-----------+------------+--------------------+-----------------+\n",
            "only showing top 5 rows\n",
            "\n"
          ]
        }
      ]
    },
    {
      "cell_type": "code",
      "metadata": {
        "colab": {
          "base_uri": "https://localhost:8080/"
        },
        "id": "pFXRAoX60ub5",
        "outputId": "b67d17ca-380d-493f-c830-6fd16a0732c7"
      },
      "source": [
        "rc.join(ps, rc['DISTRICT'] == ps.Formated_district, 'left_outer').show()"
      ],
      "execution_count": 51,
      "outputs": [
        {
          "output_type": "stream",
          "name": "stdout",
          "text": [
            "+--------+-----------+-------------------+--------------------+----+--------------------+--------------------+--------------------+------+--------+----+--------+----+--------------+--------+------------+------------+----+--------------------+------------+-------------+--------------------+--------+--------------+--------------------+-------+-----+-----+--------------------+------------+------------+------------+------------+------------+-----------+------------+--------------------+-----------------+\n",
            "|      ID|Case Number|               DATE|               Block|IUCR|        Primary Type|         Description|Location Description|Arrest|Domestic|Beat|District|Ward|Community Area|FBI Code|X Coordinate|Y Coordinate|Year|          Updated On|    Latitude|    Longitude|            Location|DISTRICT| DISTRICT NAME|             ADDRESS|   CITY|STATE|  ZIP|             WEBSITE|       PHONE|         FAX|         TTY|X COORDINATE|Y COORDINATE|   LATITUDE|   LONGITUDE|            LOCATION|Formated_district|\n",
            "+--------+-----------+-------------------+--------------------+----+--------------------+--------------------+--------------------+------+--------+----+--------+----+--------------+--------+------------+------------+----+--------------------+------------+-------------+--------------------+--------+--------------+--------------------+-------+-----+-----+--------------------+------------+------------+------------+------------+------------+-----------+------------+--------------------+-----------------+\n",
            "|11034701|   JA366925|2001-01-01 11:00:00|     016XX E 86TH PL|1153|  DECEPTIVE PRACTICE|FINANCIAL IDENTIT...|           RESIDENCE| false|   false|0412|     004|   8|            45|      11|        null|        null|2001|08/05/2017 03:50:...|        null|         null|                null|       4| South Chicago|     2255 E 103rd St|Chicago|   IL|60617|http://home.chica...|312-747-7581|312-747-5276|312-747-9169| 1193131.299| 1837090.265|41.70793329|-87.56834912|(41.7079332906, -...|              004|\n",
            "| 1744168|    G553545|2001-09-15 02:00:00|     013XX W POLK ST|0460|             BATTERY|              SIMPLE|              STREET| false|   false|1213|     012|null|          null|     08B|        null|        null|2001|08/17/2015 03:03:...|        null|         null|                null|      12|     Near West|1412 S Blue Islan...|   null| null| null|                null|        null|        null|        null|        null|        null|       null|        null|                null|              012|\n",
            "| 1833988|    G666677|2001-11-02 18:30:00| 002XX W CONGRESS PW|0810|               THEFT|           OVER $500|               OTHER| false|   false|0131|     001|null|          null|      06|        null|        null|2001|08/17/2015 03:03:...|        null|         null|                null|       1|       Central|     1718 S State St|Chicago|   IL|60616|http://home.chica...|312-745-4290|312-745-3694|312-745-3693| 1176569.052| 1891771.704|41.85837259|-87.62735617|(41.8583725929, -...|              001|\n",
            "| 1896258|    G749215|2001-12-15 02:00:00|    011XX N STATE ST|0460|             BATTERY|              SIMPLE|              STREET| false|   false|1824|     018|null|          null|     08B|        null|        null|2001|08/17/2015 03:03:...|        null|         null|                null|      18|    Near North|  1160 N Larrabee St|Chicago|   IL|60610|http://home.chica...|312-742-5870|312-742-5771|312-742-5773| 1172080.029| 1908086.527|41.90324165|-87.64335214|(41.9032416531, -...|              018|\n",
            "|    1023|    G501252|2001-08-22 17:15:00|051XX W WASHINGTO...|0110|            HOMICIDE| FIRST DEGREE MURDER|              STREET|  true|   false|1533|     015|  28|            25|     01A|     1141945|     1900001|2001|03/19/2019 04:11:...| 41.88166577|-87.754245643|(41.88166577, -87...|      15|        Austin|   5701 W Madison St|Chicago|   IL|60644|http://home.chica...|312-743-1440|312-743-1366|312-743-1485| 1138148.815| 1899399.078|41.88008346|-87.76819989|(41.8800834614, -...|              015|\n",
            "|11231026|   JB152500|2001-01-01 00:00:00| 050XX N ASHLAND AVE|1754|OFFENSE INVOLVING...|AGG SEX ASSLT OF ...|           RESIDENCE| false|   false|2032|     020|  47|             3|      02|        null|        null|2001|10/27/2018 04:00:...|        null|         null|                null|      20|       Lincoln|  5400 N Lincoln Ave|Chicago|   IL|60625|http://home.chica...|312-742-8714|312-742-8803|312-742-8841| 1158399.146| 1935788.826|41.97954951|-87.69284451|(41.9795495131, -...|              020|\n",
            "|    1024|    G500180|2001-08-22 07:00:00|  075XX S HALSTED ST|0110|            HOMICIDE| FIRST DEGREE MURDER|          VACANT LOT| false|   false|0621|     006|  17|            71|     01A|     1172275|     1854791|2001|03/19/2019 04:11:...|41.756989602|-87.644206364|(41.756989602, -8...|       6|       Gresham|   7808 S Halsted St|Chicago|   IL|60620|http://home.chica...|312-745-3617|312-745-3649|312-745-3639| 1172283.013| 1853022.646|41.75213684|-87.64422891|(41.7521368378, -...|              006|\n",
            "|    1025|    G501811|2001-08-22 20:30:00|059XX W WASHINGTO...|0110|            HOMICIDE| FIRST DEGREE MURDER|               HOUSE| false|    true|1512|     015|  29|            25|     01A|     1137038|     1900142|2001|03/19/2019 04:11:...|41.882142138|-87.772260899|(41.882142138, -8...|      15|        Austin|   5701 W Madison St|Chicago|   IL|60644|http://home.chica...|312-743-1440|312-743-1366|312-743-1485| 1138148.815| 1899399.078|41.88008346|-87.76819989|(41.8800834614, -...|              015|\n",
            "|    1026|    G503487|2001-08-23 16:55:00|  019XX S SAWYER AVE|0110|            HOMICIDE| FIRST DEGREE MURDER|              STREET|  true|   false|1022|     010|  24|            29|     01A|     1155001|     1890353|2001|03/19/2019 04:11:...|41.854938872|-87.706562721|(41.854938872, -8...|      10|         Ogden|    3315 W Ogden Ave|Chicago|   IL|60623|http://home.chica...|312-747-7511|312-747-7429|312-747-7471| 1154500.753| 1890985.501|41.85668453|-87.70838196|(41.8566845327, -...|              010|\n",
            "|    1027|    G506663|2001-08-25 01:06:00|   011XX W 18 STREET|0110|            HOMICIDE| FIRST DEGREE MURDER|              STREET|  true|   false|1233|     012|null|          null|     01A|     1169214|     1891572|2001|03/19/2019 04:11:...| 41.85798737|-87.654359502|(41.85798737, -87...|      12|     Near West|1412 S Blue Islan...|   null| null| null|                null|        null|        null|        null|        null|        null|       null|        null|                null|              012|\n",
            "|    1028|    G506821|2001-08-25 04:15:00|     006XX N TROY ST|0110|            HOMICIDE| FIRST DEGREE MURDER|           APARTMENT|  true|   false|1221|     012|  27|            23|     01A|     1155261|     1904123|2001|03/19/2019 04:11:...|41.892719968|-87.705238556|(41.892719968, -8...|      12|     Near West|1412 S Blue Islan...|   null| null| null|                null|        null|        null|        null|        null|        null|       null|        null|                null|              012|\n",
            "|    1029|    G508892|2001-08-26 03:11:00| 080XX S HOUSTON AVE|0110|            HOMICIDE| FIRST DEGREE MURDER|               ALLEY|  true|   false|0422|     004|   7|            46|     01A|     1197891|     1852037|2001|03/19/2019 04:11:...|41.748831006|-87.550421418|(41.748831006, -8...|       4| South Chicago|     2255 E 103rd St|Chicago|   IL|60617|http://home.chica...|312-747-7581|312-747-5276|312-747-9169| 1193131.299| 1837090.265|41.70793329|-87.56834912|(41.7079332906, -...|              004|\n",
            "|    1030|    G509702|2001-08-26 13:10:00|109XX S WENTWORTH...|0110|            HOMICIDE| FIRST DEGREE MURDER|               ALLEY|  true|   false|0513|     005|  34|            49|     01A|     1176894|     1832184|2001|03/19/2019 04:11:...|41.694850249|-87.627957476|(41.694850249, -8...|       5|       Calumet|      727 E 111th St|Chicago|   IL|60628|http://home.chica...|312-747-8210|312-747-5935|312-747-9170| 1183305.427| 1831462.313|41.69272336|-87.60450587|(41.6927233639, -...|              005|\n",
            "|11606723|   JC165537|2001-10-02 16:30:00| 104XX S CALHOUN AVE|1153|  DECEPTIVE PRACTICE|FINANCIAL IDENTIT...|                null| false|   false|0434|     004|  10|            51|      11|        null|        null|2001|03/02/2019 04:09:...|        null|         null|                null|       4| South Chicago|     2255 E 103rd St|Chicago|   IL|60617|http://home.chica...|312-747-7581|312-747-5276|312-747-9169| 1193131.299| 1837090.265|41.70793329|-87.56834912|(41.7079332906, -...|              004|\n",
            "|    1031|    G510940|2001-08-27 00:52:00|093XX S WOODLAWN AVE|0110|            HOMICIDE| FIRST DEGREE MURDER|              STREET|  true|   false|0413|     004|   8|            47|     01A|     1185836|     1843385|2001|03/19/2019 04:11:...|41.725381512|-87.594866742|(41.725381512, -8...|       4| South Chicago|     2255 E 103rd St|Chicago|   IL|60617|http://home.chica...|312-747-7581|312-747-5276|312-747-9169| 1193131.299| 1837090.265|41.70793329|-87.56834912|(41.7079332906, -...|              004|\n",
            "|    1032|    F746059|2001-08-02 06:46:00|049XX S COTTAGE G...|0110|            HOMICIDE| FIRST DEGREE MURDER|           APARTMENT|  true|   false|2124|     002|   4|            39|     01A|     1182421|     1872504|2001|03/19/2019 04:11:...|41.805366666| -87.60647453|(41.805366666, -8...|       2|     Wentworth|5101 S Wentworth Ave|Chicago|   IL|60609|http://home.chica...|312-747-8366|312-747-5396|312-747-6656| 1175864.837| 1871153.753|41.80181109|-87.63056018|(41.8018110912, -...|              002|\n",
            "|11616662|   JC177632|2001-01-01 09:00:00|075XX S PHILLIPS AVE|1154|  DECEPTIVE PRACTICE|FINANCIAL IDENTIT...|           RESIDENCE| false|   false|0421|     004|   7|            43|      11|        null|        null|2001|03/09/2019 04:05:...|        null|         null|                null|       4| South Chicago|     2255 E 103rd St|Chicago|   IL|60617|http://home.chica...|312-747-7581|312-747-5276|312-747-9169| 1193131.299| 1837090.265|41.70793329|-87.56834912|(41.7079332906, -...|              004|\n",
            "|    1016|    G491790|2001-08-18 17:17:00|  020XX W ARTHUR AVE|0110|            HOMICIDE| FIRST DEGREE MURDER|               ALLEY|  true|   false|2412|     024|  50|             2|     01A|     1161581|     1943154|2001|03/19/2019 04:11:...|41.999693927|-87.680936618|(41.999693927, -8...|      24|   Rogers Park|     6464 N Clark St|Chicago|   IL|60626|http://home.chica...|312-744-5907|312-744-6928|312-744-7603| 1164193.588| 1943199.401|41.99976348|-87.67132429|(41.9997634842, -...|              024|\n",
            "|    1017|    G493069|2001-08-18 21:15:00|003XX E KENSINGTO...|0110|            HOMICIDE| FIRST DEGREE MURDER|  ABANDONED BUILDING|  true|   false|0532|     005|   9|            53|     01A|     1180402|     1828251|2001|03/19/2019 04:11:...|41.683977989|-87.615233757|(41.683977989, -8...|       5|       Calumet|      727 E 111th St|Chicago|   IL|60628|http://home.chica...|312-747-8210|312-747-5935|312-747-9170| 1183305.427| 1831462.313|41.69272336|-87.60450587|(41.6927233639, -...|              005|\n",
            "|    1018|    G493127|2001-08-19 01:05:00|073XX S DORCHESTE...|0110|            HOMICIDE| FIRST DEGREE MURDER|              STREET| false|   false|0324|     003|   5|            43|     01A|     1186808|     1856707|2001|03/19/2019 04:11:...|41.761915482|-87.590885285|(41.761915482, -8...|       3|Grand Crossing|7040 S Cottage Gr...|Chicago|   IL|60637|http://home.chica...|312-747-8201|312-747-5479|312-747-9168| 1182739.183| 1858317.732|41.76643089|-87.60574786|(41.7664308925, -...|              003|\n",
            "+--------+-----------+-------------------+--------------------+----+--------------------+--------------------+--------------------+------+--------+----+--------+----+--------------+--------+------------+------------+----+--------------------+------------+-------------+--------------------+--------+--------------+--------------------+-------+-----+-----+--------------------+------------+------------+------------+------------+------------+-----------+------------+--------------------+-----------------+\n",
            "only showing top 20 rows\n",
            "\n"
          ]
        }
      ]
    },
    {
      "cell_type": "code",
      "metadata": {
        "colab": {
          "base_uri": "https://localhost:8080/"
        },
        "id": "nD7MvJFE1HQE",
        "outputId": "7fb67119-6378-495a-e8c6-75c4dd5a7d39"
      },
      "source": [
        "ps.columns"
      ],
      "execution_count": 52,
      "outputs": [
        {
          "output_type": "execute_result",
          "data": {
            "text/plain": [
              "['DISTRICT',\n",
              " 'DISTRICT NAME',\n",
              " 'ADDRESS',\n",
              " 'CITY',\n",
              " 'STATE',\n",
              " 'ZIP',\n",
              " 'WEBSITE',\n",
              " 'PHONE',\n",
              " 'FAX',\n",
              " 'TTY',\n",
              " 'X COORDINATE',\n",
              " 'Y COORDINATE',\n",
              " 'LATITUDE',\n",
              " 'LONGITUDE',\n",
              " 'LOCATION',\n",
              " 'Formated_district']"
            ]
          },
          "metadata": {},
          "execution_count": 52
        }
      ]
    },
    {
      "cell_type": "code",
      "metadata": {
        "colab": {
          "base_uri": "https://localhost:8080/"
        },
        "id": "IQ7s03Kn3TSW",
        "outputId": "efbad5c1-831a-4786-87f9-e0d827605b31"
      },
      "source": [
        "rc.join(ps, rc['DISTRICT'] == ps.Formated_district, 'left_outer').drop(\n",
        " 'ADDRESS',\n",
        " 'CITY',\n",
        " 'STATE',\n",
        " 'ZIP',\n",
        " 'WEBSITE',\n",
        " 'PHONE',\n",
        " 'FAX',\n",
        " 'TTY',\n",
        " 'X COORDINATE',\n",
        " 'Y COORDINATE',\n",
        " 'LATITUDE',\n",
        " 'LONGITUDE',\n",
        " 'LOCATION',\n",
        " ).show()"
      ],
      "execution_count": 53,
      "outputs": [
        {
          "output_type": "stream",
          "name": "stdout",
          "text": [
            "+--------+-----------+-------------------+--------------------+----+--------------------+--------------------+--------------------+------+--------+----+--------+----+--------------+--------+----+--------------------+--------+--------------+-----------------+\n",
            "|      ID|Case Number|               DATE|               Block|IUCR|        Primary Type|         Description|Location Description|Arrest|Domestic|Beat|District|Ward|Community Area|FBI Code|Year|          Updated On|DISTRICT| DISTRICT NAME|Formated_district|\n",
            "+--------+-----------+-------------------+--------------------+----+--------------------+--------------------+--------------------+------+--------+----+--------+----+--------------+--------+----+--------------------+--------+--------------+-----------------+\n",
            "|11034701|   JA366925|2001-01-01 11:00:00|     016XX E 86TH PL|1153|  DECEPTIVE PRACTICE|FINANCIAL IDENTIT...|           RESIDENCE| false|   false|0412|     004|   8|            45|      11|2001|08/05/2017 03:50:...|       4| South Chicago|              004|\n",
            "| 1744168|    G553545|2001-09-15 02:00:00|     013XX W POLK ST|0460|             BATTERY|              SIMPLE|              STREET| false|   false|1213|     012|null|          null|     08B|2001|08/17/2015 03:03:...|      12|     Near West|              012|\n",
            "| 1833988|    G666677|2001-11-02 18:30:00| 002XX W CONGRESS PW|0810|               THEFT|           OVER $500|               OTHER| false|   false|0131|     001|null|          null|      06|2001|08/17/2015 03:03:...|       1|       Central|              001|\n",
            "| 1896258|    G749215|2001-12-15 02:00:00|    011XX N STATE ST|0460|             BATTERY|              SIMPLE|              STREET| false|   false|1824|     018|null|          null|     08B|2001|08/17/2015 03:03:...|      18|    Near North|              018|\n",
            "|    1023|    G501252|2001-08-22 17:15:00|051XX W WASHINGTO...|0110|            HOMICIDE| FIRST DEGREE MURDER|              STREET|  true|   false|1533|     015|  28|            25|     01A|2001|03/19/2019 04:11:...|      15|        Austin|              015|\n",
            "|11231026|   JB152500|2001-01-01 00:00:00| 050XX N ASHLAND AVE|1754|OFFENSE INVOLVING...|AGG SEX ASSLT OF ...|           RESIDENCE| false|   false|2032|     020|  47|             3|      02|2001|10/27/2018 04:00:...|      20|       Lincoln|              020|\n",
            "|    1024|    G500180|2001-08-22 07:00:00|  075XX S HALSTED ST|0110|            HOMICIDE| FIRST DEGREE MURDER|          VACANT LOT| false|   false|0621|     006|  17|            71|     01A|2001|03/19/2019 04:11:...|       6|       Gresham|              006|\n",
            "|    1025|    G501811|2001-08-22 20:30:00|059XX W WASHINGTO...|0110|            HOMICIDE| FIRST DEGREE MURDER|               HOUSE| false|    true|1512|     015|  29|            25|     01A|2001|03/19/2019 04:11:...|      15|        Austin|              015|\n",
            "|    1026|    G503487|2001-08-23 16:55:00|  019XX S SAWYER AVE|0110|            HOMICIDE| FIRST DEGREE MURDER|              STREET|  true|   false|1022|     010|  24|            29|     01A|2001|03/19/2019 04:11:...|      10|         Ogden|              010|\n",
            "|    1027|    G506663|2001-08-25 01:06:00|   011XX W 18 STREET|0110|            HOMICIDE| FIRST DEGREE MURDER|              STREET|  true|   false|1233|     012|null|          null|     01A|2001|03/19/2019 04:11:...|      12|     Near West|              012|\n",
            "|    1028|    G506821|2001-08-25 04:15:00|     006XX N TROY ST|0110|            HOMICIDE| FIRST DEGREE MURDER|           APARTMENT|  true|   false|1221|     012|  27|            23|     01A|2001|03/19/2019 04:11:...|      12|     Near West|              012|\n",
            "|    1029|    G508892|2001-08-26 03:11:00| 080XX S HOUSTON AVE|0110|            HOMICIDE| FIRST DEGREE MURDER|               ALLEY|  true|   false|0422|     004|   7|            46|     01A|2001|03/19/2019 04:11:...|       4| South Chicago|              004|\n",
            "|    1030|    G509702|2001-08-26 13:10:00|109XX S WENTWORTH...|0110|            HOMICIDE| FIRST DEGREE MURDER|               ALLEY|  true|   false|0513|     005|  34|            49|     01A|2001|03/19/2019 04:11:...|       5|       Calumet|              005|\n",
            "|11606723|   JC165537|2001-10-02 16:30:00| 104XX S CALHOUN AVE|1153|  DECEPTIVE PRACTICE|FINANCIAL IDENTIT...|                null| false|   false|0434|     004|  10|            51|      11|2001|03/02/2019 04:09:...|       4| South Chicago|              004|\n",
            "|    1031|    G510940|2001-08-27 00:52:00|093XX S WOODLAWN AVE|0110|            HOMICIDE| FIRST DEGREE MURDER|              STREET|  true|   false|0413|     004|   8|            47|     01A|2001|03/19/2019 04:11:...|       4| South Chicago|              004|\n",
            "|    1032|    F746059|2001-08-02 06:46:00|049XX S COTTAGE G...|0110|            HOMICIDE| FIRST DEGREE MURDER|           APARTMENT|  true|   false|2124|     002|   4|            39|     01A|2001|03/19/2019 04:11:...|       2|     Wentworth|              002|\n",
            "|11616662|   JC177632|2001-01-01 09:00:00|075XX S PHILLIPS AVE|1154|  DECEPTIVE PRACTICE|FINANCIAL IDENTIT...|           RESIDENCE| false|   false|0421|     004|   7|            43|      11|2001|03/09/2019 04:05:...|       4| South Chicago|              004|\n",
            "|    1016|    G491790|2001-08-18 17:17:00|  020XX W ARTHUR AVE|0110|            HOMICIDE| FIRST DEGREE MURDER|               ALLEY|  true|   false|2412|     024|  50|             2|     01A|2001|03/19/2019 04:11:...|      24|   Rogers Park|              024|\n",
            "|    1017|    G493069|2001-08-18 21:15:00|003XX E KENSINGTO...|0110|            HOMICIDE| FIRST DEGREE MURDER|  ABANDONED BUILDING|  true|   false|0532|     005|   9|            53|     01A|2001|03/19/2019 04:11:...|       5|       Calumet|              005|\n",
            "|    1018|    G493127|2001-08-19 01:05:00|073XX S DORCHESTE...|0110|            HOMICIDE| FIRST DEGREE MURDER|              STREET| false|   false|0324|     003|   5|            43|     01A|2001|03/19/2019 04:11:...|       3|Grand Crossing|              003|\n",
            "+--------+-----------+-------------------+--------------------+----+--------------------+--------------------+--------------------+------+--------+----+--------+----+--------------+--------+----+--------------------+--------+--------------+-----------------+\n",
            "only showing top 20 rows\n",
            "\n"
          ]
        }
      ]
    },
    {
      "cell_type": "markdown",
      "metadata": {
        "id": "etSCeghC3-Z4"
      },
      "source": [
        "# Find the most frequenly reported noncriminal activity"
      ]
    },
    {
      "cell_type": "code",
      "metadata": {
        "colab": {
          "base_uri": "https://localhost:8080/"
        },
        "id": "2FOwt6u93zBO",
        "outputId": "c587102e-f1a4-4625-b577-8ddb1a5307da"
      },
      "source": [
        "rc.select(col('Primary Type')).distinct().count()\n",
        "rc.select(col('Primary Type')).distinct().show(35, truncate = False)"
      ],
      "execution_count": 98,
      "outputs": [
        {
          "output_type": "stream",
          "name": "stdout",
          "text": [
            "+---------------------------------+\n",
            "|Primary Type                     |\n",
            "+---------------------------------+\n",
            "|OFFENSE INVOLVING CHILDREN       |\n",
            "|ARSON                            |\n",
            "|CRIMINAL TRESPASS                |\n",
            "|ASSAULT                          |\n",
            "|MOTOR VEHICLE THEFT              |\n",
            "|THEFT                            |\n",
            "|BATTERY                          |\n",
            "|ROBBERY                          |\n",
            "|HOMICIDE                         |\n",
            "|CRIM SEXUAL ASSAULT              |\n",
            "|DECEPTIVE PRACTICE               |\n",
            "|CRIMINAL DAMAGE                  |\n",
            "|NARCOTICS                        |\n",
            "|OTHER OFFENSE                    |\n",
            "|BURGLARY                         |\n",
            "|WEAPONS VIOLATION                |\n",
            "|STALKING                         |\n",
            "|PUBLIC PEACE VIOLATION           |\n",
            "|OBSCENITY                        |\n",
            "|DOMESTIC VIOLENCE                |\n",
            "|GAMBLING                         |\n",
            "|LIQUOR LAW VIOLATION             |\n",
            "|RITUALISM                        |\n",
            "|PUBLIC INDECENCY                 |\n",
            "|INTIMIDATION                     |\n",
            "|PROSTITUTION                     |\n",
            "|SEX OFFENSE                      |\n",
            "|KIDNAPPING                       |\n",
            "|OTHER NARCOTIC VIOLATION         |\n",
            "|INTERFERENCE WITH PUBLIC OFFICER |\n",
            "|CRIMINAL SEXUAL ASSAULT          |\n",
            "|CONCEALED CARRY LICENSE VIOLATION|\n",
            "+---------------------------------+\n",
            "\n"
          ]
        }
      ]
    },
    {
      "cell_type": "code",
      "metadata": {
        "colab": {
          "base_uri": "https://localhost:8080/"
        },
        "id": "9fEut0tJC1sA",
        "outputId": "13f35d18-c489-49fb-bb4a-e588a04ebdf8"
      },
      "source": [
        "nc = rc.filter(\n",
        "    (col('Primary Type') == 'MOTOR VEHICLE THEFT') | (col('Primary Type') == 'THEFT')\n",
        ")\n",
        "nc.show(5)"
      ],
      "execution_count": 100,
      "outputs": [
        {
          "output_type": "stream",
          "name": "stdout",
          "text": [
            "+-------+-----------+-------------------+-------------------+----+------------+-----------+--------------------+------+--------+----+--------+----+--------------+--------+------------+------------+----+--------------------+--------+---------+--------+\n",
            "|     ID|Case Number|               DATE|              Block|IUCR|Primary Type|Description|Location Description|Arrest|Domestic|Beat|District|Ward|Community Area|FBI Code|X Coordinate|Y Coordinate|Year|          Updated On|Latitude|Longitude|Location|\n",
            "+-------+-----------+-------------------+-------------------+----+------------+-----------+--------------------+------+--------+----+--------+----+--------------+--------+------------+------------+----+--------------------+--------+---------+--------+\n",
            "|1833988|    G666677|2001-11-02 18:30:00|002XX W CONGRESS PW|0810|       THEFT|  OVER $500|               OTHER| false|   false|0131|     001|null|          null|      06|        null|        null|2001|08/17/2015 03:03:...|    null|     null|    null|\n",
            "|1450059|    G178878|2001-03-29 15:20:00|007XX W MONTROSE AV|0810|       THEFT|  OVER $500|              STREET| false|   false|2313|     019|null|          null|      06|        null|        null|2001|08/17/2015 03:03:...|    null|     null|    null|\n",
            "|1688067|    G484600|2001-08-14 22:00:00|   003XX W SCOTT ST|0810|       THEFT|  OVER $500|              STREET| false|   false|1821|     018|null|          null|      06|        null|        null|2001|08/17/2015 03:03:...|    null|     null|    null|\n",
            "|1390364|    G103963|2001-02-20 12:00:00|  051XX S KARLOV AV|0810|       THEFT|  OVER $500|PARKING LOT/GARAG...| false|   false|0815|     008|null|          null|      06|        null|        null|2001|08/17/2015 03:03:...|    null|     null|    null|\n",
            "|1390700|    G097219|2001-02-16 21:45:00| 017XX W NEWPORT AV|0810|       THEFT|  OVER $500|              STREET| false|   false|1924|     019|null|          null|      06|        null|        null|2001|08/17/2015 03:03:...|    null|     null|    null|\n",
            "+-------+-----------+-------------------+-------------------+----+------------+-----------+--------------------+------+--------+----+--------+----+--------------+--------+------------+------------+----+--------------------+--------+---------+--------+\n",
            "only showing top 5 rows\n",
            "\n"
          ]
        }
      ]
    },
    {
      "cell_type": "code",
      "metadata": {
        "colab": {
          "base_uri": "https://localhost:8080/"
        },
        "id": "GH08TL-sFjmF",
        "outputId": "dc944ab7-d2c3-4664-b253-838859d5c651"
      },
      "source": [
        "nc.groupBy(col('Description')).count().show(3)"
      ],
      "execution_count": 103,
      "outputs": [
        {
          "output_type": "stream",
          "name": "stdout",
          "text": [
            "+--------------+-----+\n",
            "|   Description|count|\n",
            "+--------------+-----+\n",
            "|     OVER $500|32882|\n",
            "|$500 AND UNDER|61788|\n",
            "|    AUTOMOBILE|20694|\n",
            "+--------------+-----+\n",
            "only showing top 3 rows\n",
            "\n"
          ]
        }
      ]
    },
    {
      "cell_type": "code",
      "metadata": {
        "colab": {
          "base_uri": "https://localhost:8080/"
        },
        "id": "hGzQbVaNGmvT",
        "outputId": "00d97f97-5159-459b-ef4f-a811d55d05b6"
      },
      "source": [
        "nc.groupBy(col('Description')).count().orderBy('count', ascending = False).show(3)"
      ],
      "execution_count": 104,
      "outputs": [
        {
          "output_type": "stream",
          "name": "stdout",
          "text": [
            "+--------------+-----+\n",
            "|   Description|count|\n",
            "+--------------+-----+\n",
            "|$500 AND UNDER|61788|\n",
            "|     OVER $500|32882|\n",
            "|    AUTOMOBILE|20694|\n",
            "+--------------+-----+\n",
            "only showing top 3 rows\n",
            "\n"
          ]
        }
      ]
    },
    {
      "cell_type": "code",
      "metadata": {
        "colab": {
          "base_uri": "https://localhost:8080/"
        },
        "id": "CFYBGL0qE8ak",
        "outputId": "83047cfe-9201-4b7e-9f70-5370d557e981"
      },
      "source": [
        "# data are different from the tutorial so did something different\n",
        "rc.groupBy(col('Primary Type')).count().orderBy('count', ascending = False).show(3)"
      ],
      "execution_count": 101,
      "outputs": [
        {
          "output_type": "stream",
          "name": "stdout",
          "text": [
            "+---------------+-----+\n",
            "|   Primary Type|count|\n",
            "+---------------+-----+\n",
            "|          THEFT|99338|\n",
            "|        BATTERY|93453|\n",
            "|CRIMINAL DAMAGE|55863|\n",
            "+---------------+-----+\n",
            "only showing top 3 rows\n",
            "\n"
          ]
        }
      ]
    },
    {
      "cell_type": "markdown",
      "metadata": {
        "id": "AHFOpS-t34ew"
      },
      "source": [
        "# Find the day of the week with the most reported crime"
      ]
    },
    {
      "cell_type": "code",
      "metadata": {
        "colab": {
          "base_uri": "https://localhost:8080/"
        },
        "id": "xCSb02nC72QJ",
        "outputId": "725a1d7d-d9b2-434e-c7eb-44db3598c668"
      },
      "source": [
        "!ls\n",
        "from pyspark.sql.functions import dayofweek"
      ],
      "execution_count": 76,
      "outputs": [
        {
          "output_type": "stream",
          "name": "stdout",
          "text": [
            "plice_station.csv    sample_data\t\tspark-3.2.0-bin-hadoop2.7.tgz\n",
            "reported_crimes.csv  spark-3.2.0-bin-hadoop2.7\n"
          ]
        }
      ]
    },
    {
      "cell_type": "code",
      "metadata": {
        "colab": {
          "base_uri": "https://localhost:8080/"
        },
        "id": "ytYOxhgK-9LL",
        "outputId": "235e2c0f-f6d8-4a6b-de28-9e2c71e6ed34"
      },
      "source": [
        "help(dayofweek)"
      ],
      "execution_count": 77,
      "outputs": [
        {
          "output_type": "stream",
          "name": "stdout",
          "text": [
            "Help on function dayofweek in module pyspark.sql.functions:\n",
            "\n",
            "dayofweek(col)\n",
            "    Extract the day of the week of a given date as integer.\n",
            "    \n",
            "    .. versionadded:: 2.3.0\n",
            "    \n",
            "    Examples\n",
            "    --------\n",
            "    >>> df = spark.createDataFrame([('2015-04-08',)], ['dt'])\n",
            "    >>> df.select(dayofweek('dt').alias('day')).collect()\n",
            "    [Row(day=4)]\n",
            "\n"
          ]
        }
      ]
    },
    {
      "cell_type": "code",
      "metadata": {
        "colab": {
          "base_uri": "https://localhost:8080/"
        },
        "id": "KfAgUAx438mX",
        "outputId": "0c31c0a7-70f4-4300-cd9b-6a722aed437b"
      },
      "source": [
        "from pyspark.sql.functions import date_format\n",
        "rc.withColumn('Day', date_format('DATE', 'E')).groupBy('Day').count().orderBy('count', ascending = False).show(1)"
      ],
      "execution_count": 115,
      "outputs": [
        {
          "output_type": "stream",
          "name": "stdout",
          "text": [
            "+---+-----+\n",
            "|Day|count|\n",
            "+---+-----+\n",
            "|Fri|72537|\n",
            "+---+-----+\n",
            "only showing top 1 row\n",
            "\n"
          ]
        }
      ]
    },
    {
      "cell_type": "code",
      "metadata": {
        "colab": {
          "base_uri": "https://localhost:8080/"
        },
        "id": "-yee0rYB7JNv",
        "outputId": "0d48abb1-3594-42b2-e2c9-9ea3526b98fb"
      },
      "source": [
        "rc.select(col('DATE'), dayofweek(col('DATE')), date_format(col('DATE'), 'E')).show(4)"
      ],
      "execution_count": 114,
      "outputs": [
        {
          "output_type": "stream",
          "name": "stdout",
          "text": [
            "+-------------------+---------------+--------------------+\n",
            "|               DATE|dayofweek(DATE)|date_format(DATE, E)|\n",
            "+-------------------+---------------+--------------------+\n",
            "|2001-01-01 11:00:00|              2|                 Mon|\n",
            "|2001-09-15 02:00:00|              7|                 Sat|\n",
            "|2001-11-02 18:30:00|              6|                 Fri|\n",
            "|2001-12-15 02:00:00|              7|                 Sat|\n",
            "+-------------------+---------------+--------------------+\n",
            "only showing top 4 rows\n",
            "\n"
          ]
        }
      ]
    },
    {
      "cell_type": "code",
      "metadata": {
        "colab": {
          "base_uri": "https://localhost:8080/"
        },
        "id": "-nk83gHEJ1Rc",
        "outputId": "94b841b5-f71c-4caf-f765-3ec542368da7"
      },
      "source": [
        "rc.select(col('DATE'), dayofweek(col('DATE')), date_format(col('DATE'), 'E')).groupBy('date_format(DATE, E)').count().orderBy('count', ascending = False).show(1)"
      ],
      "execution_count": 118,
      "outputs": [
        {
          "output_type": "stream",
          "name": "stdout",
          "text": [
            "+--------------------+-----+\n",
            "|date_format(DATE, E)|count|\n",
            "+--------------------+-----+\n",
            "|                 Fri|72537|\n",
            "+--------------------+-----+\n",
            "only showing top 1 row\n",
            "\n"
          ]
        }
      ]
    },
    {
      "cell_type": "code",
      "metadata": {
        "colab": {
          "base_uri": "https://localhost:8080/"
        },
        "id": "udghl-63KPqf",
        "outputId": "e77bc2a0-a11a-4549-f798-f9151b15fc89"
      },
      "source": [
        "rc.groupBy(date_format(col('DATE'), 'E')).count().collect()"
      ],
      "execution_count": 119,
      "outputs": [
        {
          "output_type": "execute_result",
          "data": {
            "text/plain": [
              "[Row(date_format(DATE, E)='Sun', count=65067),\n",
              " Row(date_format(DATE, E)='Mon', count=70828),\n",
              " Row(date_format(DATE, E)='Thu', count=69327),\n",
              " Row(date_format(DATE, E)='Sat', count=69459),\n",
              " Row(date_format(DATE, E)='Wed', count=69572),\n",
              " Row(date_format(DATE, E)='Fri', count=72537),\n",
              " Row(date_format(DATE, E)='Tue', count=69188)]"
            ]
          },
          "metadata": {},
          "execution_count": 119
        }
      ]
    },
    {
      "cell_type": "code",
      "metadata": {
        "colab": {
          "base_uri": "https://localhost:8080/"
        },
        "id": "VzAwYgm_KoNN",
        "outputId": "9f361c53-a670-46ae-ed7d-a86bd1775f20"
      },
      "source": [
        "dow = [x[0] for x in rc.groupBy(date_format(col('DATE'), 'E')).count().collect()]\n",
        "dow"
      ],
      "execution_count": 120,
      "outputs": [
        {
          "output_type": "execute_result",
          "data": {
            "text/plain": [
              "['Sun', 'Mon', 'Thu', 'Sat', 'Wed', 'Fri', 'Tue']"
            ]
          },
          "metadata": {},
          "execution_count": 120
        }
      ]
    },
    {
      "cell_type": "code",
      "metadata": {
        "id": "darC7WTOKzCN"
      },
      "source": [
        "cnt = [x[1] for x in rc.groupBy(date_format(col('DATE'), 'E')).count().collect()]"
      ],
      "execution_count": 121,
      "outputs": []
    },
    {
      "cell_type": "code",
      "metadata": {
        "id": "PECRKWrQK5GF"
      },
      "source": [
        "import pandas as pd\n",
        "import matplotlib.pyplot as plt"
      ],
      "execution_count": 122,
      "outputs": []
    },
    {
      "cell_type": "code",
      "metadata": {
        "colab": {
          "base_uri": "https://localhost:8080/",
          "height": 269
        },
        "id": "Ayeix2FnLATV",
        "outputId": "2bcb18f5-7ab5-491c-89b4-8c56f28f9fae"
      },
      "source": [
        "cp = pd.DataFrame({'Day_of_week': dow, 'Count': cnt})\n",
        "cp.head(7)"
      ],
      "execution_count": 126,
      "outputs": [
        {
          "output_type": "execute_result",
          "data": {
            "text/html": [
              "<div>\n",
              "<style scoped>\n",
              "    .dataframe tbody tr th:only-of-type {\n",
              "        vertical-align: middle;\n",
              "    }\n",
              "\n",
              "    .dataframe tbody tr th {\n",
              "        vertical-align: top;\n",
              "    }\n",
              "\n",
              "    .dataframe thead th {\n",
              "        text-align: right;\n",
              "    }\n",
              "</style>\n",
              "<table border=\"1\" class=\"dataframe\">\n",
              "  <thead>\n",
              "    <tr style=\"text-align: right;\">\n",
              "      <th></th>\n",
              "      <th>Day_of_week</th>\n",
              "      <th>Count</th>\n",
              "    </tr>\n",
              "  </thead>\n",
              "  <tbody>\n",
              "    <tr>\n",
              "      <th>0</th>\n",
              "      <td>Sun</td>\n",
              "      <td>65067</td>\n",
              "    </tr>\n",
              "    <tr>\n",
              "      <th>1</th>\n",
              "      <td>Mon</td>\n",
              "      <td>70828</td>\n",
              "    </tr>\n",
              "    <tr>\n",
              "      <th>2</th>\n",
              "      <td>Thu</td>\n",
              "      <td>69327</td>\n",
              "    </tr>\n",
              "    <tr>\n",
              "      <th>3</th>\n",
              "      <td>Sat</td>\n",
              "      <td>69459</td>\n",
              "    </tr>\n",
              "    <tr>\n",
              "      <th>4</th>\n",
              "      <td>Wed</td>\n",
              "      <td>69572</td>\n",
              "    </tr>\n",
              "    <tr>\n",
              "      <th>5</th>\n",
              "      <td>Fri</td>\n",
              "      <td>72537</td>\n",
              "    </tr>\n",
              "    <tr>\n",
              "      <th>6</th>\n",
              "      <td>Tue</td>\n",
              "      <td>69188</td>\n",
              "    </tr>\n",
              "  </tbody>\n",
              "</table>\n",
              "</div>"
            ],
            "text/plain": [
              "  Day_of_week  Count\n",
              "0         Sun  65067\n",
              "1         Mon  70828\n",
              "2         Thu  69327\n",
              "3         Sat  69459\n",
              "4         Wed  69572\n",
              "5         Fri  72537\n",
              "6         Tue  69188"
            ]
          },
          "metadata": {},
          "execution_count": 126
        }
      ]
    },
    {
      "cell_type": "code",
      "metadata": {
        "colab": {
          "base_uri": "https://localhost:8080/",
          "height": 307
        },
        "id": "rwbgciYqLYhe",
        "outputId": "269afc99-83fa-4f18-c4a1-caf59fd90fd4"
      },
      "source": [
        "cp.sort_values('Count', ascending= False).plot(kind = 'bar', x = 'Day_of_week', y= 'Count', color = 'olive')\n",
        "plt.xlabel(\"Day of the week\")\n",
        "plt.ylabel(\"No. of Crimes\")\n",
        "plt.title('No. of Crimes from 2001')\n",
        "plt.show()"
      ],
      "execution_count": 128,
      "outputs": [
        {
          "output_type": "display_data",
          "data": {
            "image/png": "[encoded data removed]",
            "text/plain": [
              "<Figure size 432x288 with 1 Axes>"
            ]
          },
          "metadata": {
            "needs_background": "light"
          }
        }
      ]
    }
  ]
}